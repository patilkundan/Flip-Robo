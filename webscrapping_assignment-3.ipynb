{
 "cells": [
  {
   "cell_type": "code",
   "execution_count": 1,
   "id": "27953151",
   "metadata": {},
   "outputs": [],
   "source": [
    "# Let's import all required Libraries\n",
    "import selenium #library that is used to work with selenium\n",
    "from selenium import webdriver #importing webdriver module from selenium to open automated chrome window\n",
    "import pandas as pd #to create DataFrame\n",
    "import numpy as np\n",
    "from selenium.webdriver.common.by import By #importing inbuilt class By\n",
    "import warnings #to ignore any sort of warning\n",
    "warnings.filterwarnings (\"ignore\")\n",
    "import time #use to stop search engine for few seconds\n",
    "from selenium.common.exceptions import NoSuchElementException"
   ]
  },
  {
   "cell_type": "markdown",
   "id": "c4317df5",
   "metadata": {},
   "source": [
    " # 1.Write a python program which searches all the product under a particular product from www.amazon.in. The product to be searched will be taken as input from user. For e.g. If user input is ‘guitar’. Then search for guitars."
   ]
  },
  {
   "cell_type": "code",
   "execution_count": 2,
   "id": "6333019d",
   "metadata": {},
   "outputs": [],
   "source": [
    "#Let's first connect to web driver\n",
    "driver = webdriver. Chrome (r\"C:\\Users\\Kundan Patil\\DS0522\\INTERNSHIP\\Web Scraping\\chromedriver.exe\")\n",
    "#Let's maximize the automated chrome window\n",
    "driver.maximize_window()\n",
    "#Opening up naukri.com website on automated chrome window\n",
    "url = 'https://www.amazon.in/'\n",
    "driver.get(url)"
   ]
  },
  {
   "cell_type": "code",
   "execution_count": 4,
   "id": "93466e1c",
   "metadata": {},
   "outputs": [],
   "source": [
    "def search():\n",
    "    Search_tag=driver.find_element(By.XPATH,'//*[@id=\"twotabsearchtextbox\"]')\n",
    "    search_input=str(input('Type here and I will get you there   ')) # take the user inpute\n",
    "    Search_tag.send_keys(search_input)\n",
    "    time.sleep(5)\n",
    "    search=driver.find_element(By.XPATH,'//*[@id=\"nav-search-submit-button\"]')\n",
    "    search.click()"
   ]
  },
  {
   "cell_type": "code",
   "execution_count": 5,
   "id": "6fed3c6d",
   "metadata": {},
   "outputs": [
    {
     "name": "stdout",
     "output_type": "stream",
     "text": [
      "Type here and I will get you there   guitar\n"
     ]
    }
   ],
   "source": [
    "search()"
   ]
  },
  {
   "cell_type": "markdown",
   "id": "ead01951",
   "metadata": {},
   "source": [
    "# Question 2:\n",
    "\n",
    "# 2. In the above question, now scrape the following details of each product listed in first 3 pages of your search results and save it in a data frame and csv. In case if any product has less than 3 pages in search results then scrape all the products available under that product name. Details to be scraped are: \"Brand Name\", \"Name of the Product\", \"Price\", \"Return/Exchange\", \"Expected Delivery\", \"Availability\" and “Product URL”. In case, if any of the details are missing for any of the product then replace it by “-“."
   ]
  },
  {
   "cell_type": "code",
   "execution_count": 12,
   "id": "33f35ab7",
   "metadata": {},
   "outputs": [],
   "source": [
    "from selenium.common.exceptions import NoSuchElementException"
   ]
  },
  {
   "cell_type": "code",
   "execution_count": 11,
   "id": "8f75420a",
   "metadata": {},
   "outputs": [],
   "source": [
    "Brand_Name=[] # create a empty list to store the brand name \n",
    "Name_of_the_Product=[]\n",
    "Price=[]\n",
    "ET=[]"
   ]
  },
  {
   "cell_type": "code",
   "execution_count": 12,
   "id": "fe6a7563",
   "metadata": {},
   "outputs": [],
   "source": [
    "BN = driver.find_elements(By.XPATH, '//h2[@class=\"a-size-mini a-spacing-none a-color-base s-line-clamp-4\"]')\n",
    "for i in BN:\n",
    "    if i.text is None: #if any of the details are missing for any of the product then replace it by “-“.\n",
    "        Brand_Name.append('-')\n",
    "    else:\n",
    "        Brand_Name.append(i.text.split(\" \")[0])\n",
    "for i in BN:\n",
    "    if i.text is None:\n",
    "        Name_of_the_Product.append('-')\n",
    "    else:   \n",
    "        Name_of_the_Product.append(i.text)\n",
    "Time = driver.find_elements(By.XPATH,'//span[@class=\"a-color-base a-text-bold\"]')\n",
    "for i in Time:\n",
    "    if i.text is None:\n",
    "        ET.append('-')\n",
    "    else:\n",
    "        ET.append(i.text)\n",
    "p = driver.find_elements(By.XPATH, '//span[@class=\"a-price-whole\"]')\n",
    "for i in p:\n",
    "    if i.text is None:\n",
    "        Price.append('-')\n",
    "    else:\n",
    "        Price.append(i.text)\n"
   ]
  },
  {
   "cell_type": "code",
   "execution_count": 13,
   "id": "80552c8d",
   "metadata": {},
   "outputs": [
    {
     "data": {
      "text/plain": [
       "(60, 60, 73, 70)"
      ]
     },
     "execution_count": 13,
     "metadata": {},
     "output_type": "execute_result"
    }
   ],
   "source": [
    "len(Brand_Name),len(Name_of_the_Product),len(Price),len(ET)\n"
   ]
  },
  {
   "cell_type": "code",
   "execution_count": 14,
   "id": "dcf555fe",
   "metadata": {},
   "outputs": [
    {
     "data": {
      "text/html": [
       "<div>\n",
       "<style scoped>\n",
       "    .dataframe tbody tr th:only-of-type {\n",
       "        vertical-align: middle;\n",
       "    }\n",
       "\n",
       "    .dataframe tbody tr th {\n",
       "        vertical-align: top;\n",
       "    }\n",
       "\n",
       "    .dataframe thead th {\n",
       "        text-align: right;\n",
       "    }\n",
       "</style>\n",
       "<table border=\"1\" class=\"dataframe\">\n",
       "  <thead>\n",
       "    <tr style=\"text-align: right;\">\n",
       "      <th></th>\n",
       "      <th>Price</th>\n",
       "      <th>Name_of_the_Product</th>\n",
       "      <th>ET</th>\n",
       "      <th>Brand_Name</th>\n",
       "    </tr>\n",
       "  </thead>\n",
       "  <tbody>\n",
       "    <tr>\n",
       "      <th>0</th>\n",
       "      <td>9,999</td>\n",
       "      <td>Kadence Slowhand Premium Jumbo Semi Acoustic G...</td>\n",
       "      <td>Sunday, November 27</td>\n",
       "      <td>Kadence</td>\n",
       "    </tr>\n",
       "    <tr>\n",
       "      <th>1</th>\n",
       "      <td>4,495</td>\n",
       "      <td>Festra R-40- Trussrod Acoustic Guitar Kit with...</td>\n",
       "      <td>Saturday, November 26</td>\n",
       "      <td>Festra</td>\n",
       "    </tr>\n",
       "    <tr>\n",
       "      <th>2</th>\n",
       "      <td>899</td>\n",
       "      <td>Hontral S4 String Decor Guitar Children's Musi...</td>\n",
       "      <td>Friday, November 25</td>\n",
       "      <td>Hontral</td>\n",
       "    </tr>\n",
       "    <tr>\n",
       "      <th>3</th>\n",
       "      <td>899</td>\n",
       "      <td>Bestonl String Decor Guitar Children's Musical...</td>\n",
       "      <td>Friday, November 25</td>\n",
       "      <td>Bestonl</td>\n",
       "    </tr>\n",
       "    <tr>\n",
       "      <th>4</th>\n",
       "      <td>2,399</td>\n",
       "      <td>Juârez Acoustic Guitar, 38 Inch Cutaway, 038C ...</td>\n",
       "      <td>tomorrow, November 22</td>\n",
       "      <td>Juârez</td>\n",
       "    </tr>\n",
       "  </tbody>\n",
       "</table>\n",
       "</div>"
      ],
      "text/plain": [
       "   Price                                Name_of_the_Product  \\\n",
       "0  9,999  Kadence Slowhand Premium Jumbo Semi Acoustic G...   \n",
       "1  4,495  Festra R-40- Trussrod Acoustic Guitar Kit with...   \n",
       "2    899  Hontral S4 String Decor Guitar Children's Musi...   \n",
       "3    899  Bestonl String Decor Guitar Children's Musical...   \n",
       "4  2,399  Juârez Acoustic Guitar, 38 Inch Cutaway, 038C ...   \n",
       "\n",
       "                      ET Brand_Name  \n",
       "0    Sunday, November 27    Kadence  \n",
       "1  Saturday, November 26     Festra  \n",
       "2    Friday, November 25    Hontral  \n",
       "3    Friday, November 25    Bestonl  \n",
       "4  tomorrow, November 22     Juârez  "
      ]
     },
     "execution_count": 14,
     "metadata": {},
     "output_type": "execute_result"
    }
   ],
   "source": [
    "df=pd.DataFrame()\n",
    "df['Price']=Price[0:60]\n",
    "df['Name_of_the_Product']=Name_of_the_Product[0:60]\n",
    "df['ET']=ET[0:60]\n",
    "df['Brand_Name']=Brand_Name[0:60]\n",
    "\n",
    "df.head()\n"
   ]
  },
  {
   "cell_type": "code",
   "execution_count": 74,
   "id": "a8b10853",
   "metadata": {},
   "outputs": [],
   "source": [
    "  #save it in a data frame and csv\n",
    "df.to_csv('guitar.csv')"
   ]
  },
  {
   "cell_type": "code",
   "execution_count": null,
   "id": "fbecb4ce",
   "metadata": {},
   "outputs": [],
   "source": []
  },
  {
   "cell_type": "code",
   "execution_count": null,
   "id": "c790cf6d",
   "metadata": {},
   "outputs": [],
   "source": []
  },
  {
   "cell_type": "code",
   "execution_count": null,
   "id": "3b477c3a",
   "metadata": {},
   "outputs": [],
   "source": []
  },
  {
   "cell_type": "code",
   "execution_count": null,
   "id": "4dd4fd3c",
   "metadata": {},
   "outputs": [],
   "source": []
  },
  {
   "cell_type": "code",
   "execution_count": null,
   "id": "4c70f025",
   "metadata": {},
   "outputs": [],
   "source": []
  },
  {
   "cell_type": "code",
   "execution_count": null,
   "id": "a102c361",
   "metadata": {},
   "outputs": [],
   "source": []
  },
  {
   "cell_type": "code",
   "execution_count": null,
   "id": "d60c97ce",
   "metadata": {},
   "outputs": [],
   "source": []
  },
  {
   "cell_type": "code",
   "execution_count": null,
   "id": "c8389215",
   "metadata": {},
   "outputs": [],
   "source": []
  },
  {
   "cell_type": "markdown",
   "id": "25568d97",
   "metadata": {},
   "source": [
    "# 3. Write a python program to access the search bar and search button on images.google.com and scrape 10 images each for keywords ‘fruits’, ‘cars’ and ‘Machine Learning’, ‘Guitar’, ‘Cakes’."
   ]
  },
  {
   "cell_type": "code",
   "execution_count": 18,
   "id": "9a1e464e",
   "metadata": {},
   "outputs": [],
   "source": [
    "import os\n",
    "import selenium\n",
    "from selenium import webdriver\n",
    "import time\n",
    "from PIL import Image\n",
    "import io\n",
    "import requests\n",
    "from selenium.common.exceptions import ElementClickInterceptedException"
   ]
  },
  {
   "cell_type": "code",
   "execution_count": 20,
   "id": "5ee217be",
   "metadata": {},
   "outputs": [],
   "source": [
    "#Let's first connect to web driver\n",
    "driver = webdriver. Chrome (r\"C:\\Users\\Kundan Patil\\DS0522\\INTERNSHIP\\Web Scraping\\chromedriver.exe\")\n",
    "#Let's maximize the automated chrome window\n",
    "driver.maximize_window()\n",
    "#Opening up naukri.com website on automated chrome window\n",
    "url = ('https://images.google.com/')\n",
    "driver.get(url)"
   ]
  },
  {
   "cell_type": "code",
   "execution_count": 21,
   "id": "c2272331",
   "metadata": {},
   "outputs": [],
   "source": [
    "def search():\n",
    "    Search_tag=driver.find_element(By.XPATH,'/html/body/div[1]/div[3]/form/div[1]/div[1]/div[1]/div/div[2]/input')\n",
    "    search_input=str(input('Type here and I will get you there   ')) # take the user inpute\n",
    "    Search_tag.send_keys(search_input)\n",
    "    time.sleep(5)\n",
    "    search=driver.find_element(By.XPATH,'/html/body/div[1]/div[3]/form/div[1]/div[1]/div[1]/button/div')\n",
    "    search.click()\n",
    "    #Scroll to the end of the page\n",
    "    driver.execute_script(\"window.scrollTo(0, document.body.scrollHeight);\")\n",
    "    time.sleep(5)#sleep_between_interactions"
   ]
  },
  {
   "cell_type": "code",
   "execution_count": null,
   "id": "e7c894e3",
   "metadata": {},
   "outputs": [],
   "source": [
    "search()"
   ]
  },
  {
   "cell_type": "code",
   "execution_count": 28,
   "id": "3c440865",
   "metadata": {},
   "outputs": [],
   "source": [
    "#Locate the images to be scraped from the current page \n",
    "imgResults = driver.find_elements(By.XPATH,'//img[@data-ils=\"4\"]')\n",
    "totalResults=len(imgResults)"
   ]
  },
  {
   "cell_type": "code",
   "execution_count": 29,
   "id": "10aaddab",
   "metadata": {},
   "outputs": [
    {
     "data": {
      "text/plain": [
       "168"
      ]
     },
     "execution_count": 29,
     "metadata": {},
     "output_type": "execute_result"
    }
   ],
   "source": [
    "totalResults"
   ]
  },
  {
   "cell_type": "code",
   "execution_count": null,
   "id": "41042b83",
   "metadata": {},
   "outputs": [],
   "source": [
    "img_urls = set()\n",
    "for i in  range(0,len(imgResults)):\n",
    "    img=imgResults[i]\n",
    "    try:\n",
    "        img.click()\n",
    "        time.sleep(2)\n",
    "        actual_images = driver.find_elements(By.CSS_SELECTOR,'img.n3VNCb')\n",
    "        for actual_image in actual_images:\n",
    "            if actual_image.get_attribute('src') and 'https' in actual_image.get_attribute('src'):\n",
    "                img_urls.add(actual_image.get_attribute('src'))\n",
    "    except ElementClickInterceptedException or ElementNotInteractableException as err:\n",
    "        print(err)"
   ]
  },
  {
   "cell_type": "code",
   "execution_count": 23,
   "id": "bb0641c8",
   "metadata": {},
   "outputs": [],
   "source": []
  },
  {
   "cell_type": "code",
   "execution_count": 24,
   "id": "666f0d0a",
   "metadata": {},
   "outputs": [
    {
     "data": {
      "text/plain": [
       "[]"
      ]
     },
     "execution_count": 24,
     "metadata": {},
     "output_type": "execute_result"
    }
   ],
   "source": []
  },
  {
   "cell_type": "markdown",
   "id": "a0a35372",
   "metadata": {},
   "source": [
    "# 5. Write a program to scrap geospatial coordinates (latitude, longitude) of a city searched on google maps."
   ]
  },
  {
   "cell_type": "code",
   "execution_count": 31,
   "id": "89e870ee",
   "metadata": {},
   "outputs": [],
   "source": [
    "driver = webdriver. Chrome (r\"C:\\Users\\Kundan Patil\\DS0522\\INTERNSHIP\\Web Scraping\\chromedriver.exe\")\n",
    "#Let's maximize the automated chrome window\n",
    "driver.maximize_window()\n",
    "url=\"https://www.latlong.net/\"\n",
    "driver.get(url)"
   ]
  },
  {
   "cell_type": "code",
   "execution_count": 38,
   "id": "9c58b6e6",
   "metadata": {},
   "outputs": [],
   "source": [
    "def Lat(x):\n",
    "    place=driver.find_element(By.XPATH,'//*[@id=\"place\"]')\n",
    "    place.send_keys(x)\n",
    "    find=driver.find_element(By.XPATH,'/html/body/main/div[2]/div[1]/form/button')\n",
    "    find.click()\n",
    "#-------------------------------------------------------------\n"
   ]
  },
  {
   "cell_type": "code",
   "execution_count": 40,
   "id": "6ae5d440",
   "metadata": {},
   "outputs": [],
   "source": [
    "Lat('geospatial')"
   ]
  },
  {
   "cell_type": "code",
   "execution_count": 41,
   "id": "6772ab3d",
   "metadata": {},
   "outputs": [
    {
     "data": {
      "text/plain": [
       "'(44.984241, -93.182266)'"
      ]
     },
     "execution_count": 41,
     "metadata": {},
     "output_type": "execute_result"
    }
   ],
   "source": [
    "d = driver.find_element(By.XPATH, '//span[@id=\"latlngspan\"]')\n",
    "d.text\n",
    "#---------"
   ]
  },
  {
   "cell_type": "markdown",
   "id": "5a284de4",
   "metadata": {},
   "source": [
    "# 4 Write a python program to search for a smartphone(e.g.: Oneplus Nord, pixel 4A, etc.) on www.flipkart.com and scrape following details for all the search results displayed on 1st page. Details to be scraped: “Brand Name”, “Smartphone name”, “Colour”, “RAM”, “Storage(ROM)”, “Primary Camera”, “Secondary Camera”, “Display Size”, “Battery Capacity”, “Price”, “Product URL”. Incase if any of the details is missing then replace it by “- “. Save your results in a dataframe and CSV."
   ]
  },
  {
   "cell_type": "code",
   "execution_count": 223,
   "id": "a3e64d09",
   "metadata": {},
   "outputs": [],
   "source": [
    "driver = webdriver. Chrome (r\"C:\\Users\\Kundan Patil\\DS0522\\INTERNSHIP\\Web Scraping\\chromedriver.exe\")\n",
    "driver.maximize_window()\n",
    "url=\"https://www.flipkart.com\"\n",
    "driver.get(url)"
   ]
  },
  {
   "cell_type": "code",
   "execution_count": 242,
   "id": "9a1f84b9",
   "metadata": {},
   "outputs": [],
   "source": [
    "def Lat(x):\n",
    "    search_bar=driver.find_element(By.XPATH,'//input[@class=\"_3704LK\"]')\n",
    "    search_bar.send_keys(x)\n",
    "    search_btn=driver.find_element(By.XPATH,'//button[@class=\"L0Z3Pu\"]')\n",
    "    search_btn.click()\n",
    "    time.sleep(10)\n",
    "    bn=driver.find_elements(By.XPATH,'//div[@class=\"_4rR01T\"]')\n",
    "    for i in  bn :\n",
    "        name.append(i.text)\n",
    "        BN.append(i.text.split(\" \")[0])\n",
    "        CL.append(i.text.split(\",\")[-2])\n",
    "    time.sleep(10)\n",
    "    n=driver.find_elements(By.XPATH,'//ul[@class=\"_1xgFaf\"]')\n",
    "    for a in  n :\n",
    "        hh.append(a.text)\n",
    "#----------------------------------------------------------------------\n"
   ]
  },
  {
   "cell_type": "code",
   "execution_count": 239,
   "id": "77751e02",
   "metadata": {},
   "outputs": [],
   "source": [
    "name=[]\n",
    "BN=[]\n",
    "CL=[]\n",
    "hh=[]"
   ]
  },
  {
   "cell_type": "code",
   "execution_count": 236,
   "id": "a3b678a3",
   "metadata": {},
   "outputs": [],
   "source": [
    "Lat('Oneplus Nord')"
   ]
  },
  {
   "cell_type": "code",
   "execution_count": 244,
   "id": "2a75aa4c",
   "metadata": {},
   "outputs": [
    {
     "data": {
      "text/html": [
       "<div>\n",
       "<style scoped>\n",
       "    .dataframe tbody tr th:only-of-type {\n",
       "        vertical-align: middle;\n",
       "    }\n",
       "\n",
       "    .dataframe tbody tr th {\n",
       "        vertical-align: top;\n",
       "    }\n",
       "\n",
       "    .dataframe thead th {\n",
       "        text-align: right;\n",
       "    }\n",
       "</style>\n",
       "<table border=\"1\" class=\"dataframe\">\n",
       "  <thead>\n",
       "    <tr style=\"text-align: right;\">\n",
       "      <th></th>\n",
       "      <th>name</th>\n",
       "      <th>BN</th>\n",
       "      <th>CL</th>\n",
       "      <th>hh</th>\n",
       "    </tr>\n",
       "  </thead>\n",
       "  <tbody>\n",
       "    <tr>\n",
       "      <th>0</th>\n",
       "      <td>OnePlus Nord CE 2 Lite 5G (Blue Tide, 128 GB)</td>\n",
       "      <td>OnePlus</td>\n",
       "      <td>OnePlus Nord CE 2 Lite 5G (Blue Tide</td>\n",
       "      <td>6 GB RAM | 128 GB ROM\\n16.74 cm (6.59 inch) Di...</td>\n",
       "    </tr>\n",
       "    <tr>\n",
       "      <th>1</th>\n",
       "      <td>OnePlus Nord CE 2 Lite 5G (Blue Tide, 128 GB)</td>\n",
       "      <td>OnePlus</td>\n",
       "      <td>OnePlus Nord CE 2 Lite 5G (Blue Tide</td>\n",
       "      <td>6 GB RAM | 128 GB ROM\\n16.74 cm (6.59 inch) HD...</td>\n",
       "    </tr>\n",
       "    <tr>\n",
       "      <th>2</th>\n",
       "      <td>OnePlus Nord CE 2 Lite 5G (Black Dusk, 128 GB)</td>\n",
       "      <td>OnePlus</td>\n",
       "      <td>OnePlus Nord CE 2 Lite 5G (Black Dusk</td>\n",
       "      <td>6 GB RAM | 128 GB ROM\\n16.74 cm (6.59 inch) Di...</td>\n",
       "    </tr>\n",
       "    <tr>\n",
       "      <th>3</th>\n",
       "      <td>OnePlus Nord CE 2 Lite 5G (Black Dusk, 128 GB)</td>\n",
       "      <td>OnePlus</td>\n",
       "      <td>OnePlus Nord CE 2 Lite 5G (Black Dusk</td>\n",
       "      <td>6 GB RAM | 128 GB ROM\\n16.74 cm (6.59 inch) Di...</td>\n",
       "    </tr>\n",
       "    <tr>\n",
       "      <th>4</th>\n",
       "      <td>OnePlus Nord CE 2 Lite 5G (Blue Tide, 128 GB)</td>\n",
       "      <td>OnePlus</td>\n",
       "      <td>OnePlus Nord CE 2 Lite 5G (Blue Tide</td>\n",
       "      <td>6 GB RAM | 128 GB ROM\\n16.74 cm (6.59 inch) Di...</td>\n",
       "    </tr>\n",
       "  </tbody>\n",
       "</table>\n",
       "</div>"
      ],
      "text/plain": [
       "                                             name       BN  \\\n",
       "0   OnePlus Nord CE 2 Lite 5G (Blue Tide, 128 GB)  OnePlus   \n",
       "1   OnePlus Nord CE 2 Lite 5G (Blue Tide, 128 GB)  OnePlus   \n",
       "2  OnePlus Nord CE 2 Lite 5G (Black Dusk, 128 GB)  OnePlus   \n",
       "3  OnePlus Nord CE 2 Lite 5G (Black Dusk, 128 GB)  OnePlus   \n",
       "4   OnePlus Nord CE 2 Lite 5G (Blue Tide, 128 GB)  OnePlus   \n",
       "\n",
       "                                      CL  \\\n",
       "0   OnePlus Nord CE 2 Lite 5G (Blue Tide   \n",
       "1   OnePlus Nord CE 2 Lite 5G (Blue Tide   \n",
       "2  OnePlus Nord CE 2 Lite 5G (Black Dusk   \n",
       "3  OnePlus Nord CE 2 Lite 5G (Black Dusk   \n",
       "4   OnePlus Nord CE 2 Lite 5G (Blue Tide   \n",
       "\n",
       "                                                  hh  \n",
       "0  6 GB RAM | 128 GB ROM\\n16.74 cm (6.59 inch) Di...  \n",
       "1  6 GB RAM | 128 GB ROM\\n16.74 cm (6.59 inch) HD...  \n",
       "2  6 GB RAM | 128 GB ROM\\n16.74 cm (6.59 inch) Di...  \n",
       "3  6 GB RAM | 128 GB ROM\\n16.74 cm (6.59 inch) Di...  \n",
       "4  6 GB RAM | 128 GB ROM\\n16.74 cm (6.59 inch) Di...  "
      ]
     },
     "execution_count": 244,
     "metadata": {},
     "output_type": "execute_result"
    }
   ],
   "source": [
    "df= pd.DataFrame() # empty df\n",
    "df['name'] = name[0:10]\n",
    "df['BN']= BN[0:10]\n",
    "df['CL']=CL[0:10]\n",
    "df['hh']= hh[0:10]\n",
    "df.head()\n",
    "    "
   ]
  },
  {
   "cell_type": "code",
   "execution_count": null,
   "id": "25a05bfa",
   "metadata": {},
   "outputs": [],
   "source": [
    "FlipKart.to_csv('mobiles.csv')"
   ]
  },
  {
   "cell_type": "markdown",
   "id": "b467d6e9",
   "metadata": {},
   "source": [
    "# 6. Write a program to scrap details of all the funding deals for second quarter (i.e Jan 21 – March 21) from trak.in."
   ]
  },
  {
   "cell_type": "code",
   "execution_count": 42,
   "id": "8b74fb73",
   "metadata": {},
   "outputs": [],
   "source": [
    "driver = webdriver. Chrome (r\"C:\\Users\\Kundan Patil\\DS0522\\INTERNSHIP\\Web Scraping\\chromedriver.exe\")\n",
    "#Let's maximize the automated chrome window\n",
    "driver.maximize_window()\n",
    "url=\"https://trak.in/india-startup-funding-investment-2015/\"\n",
    "driver.get(url)"
   ]
  },
  {
   "cell_type": "code",
   "execution_count": 43,
   "id": "19054436",
   "metadata": {},
   "outputs": [],
   "source": [
    "Dates=[]\n",
    "Company=[]\n",
    "Industry=[]\n",
    "Investor_Name=[]\n",
    "Investment_Type=[]\n",
    "Amount=[]"
   ]
  },
  {
   "cell_type": "code",
   "execution_count": 44,
   "id": "fb6707c6",
   "metadata": {},
   "outputs": [
    {
     "name": "stdout",
     "output_type": "stream",
     "text": [
      "392 ['BYJU’S', 'Meesho', 'Swiggy', 'Groww', 'Beldara', 'DealShare', 'Uniphore', 'Dunzo', 'BYJU’S', 'SkilloVilla', 'CityMall', 'DotPe', 'Doubtnut', 'Zomato', 'Fingerlix', 'Zolve', 'KreditBee', 'Pepperfry', 'Grofers', 'Nothing', 'SplashLearn', 'Digit Insurance', 'Bombay Shaving Company', 'DeHaat', 'Darwinbox', 'mfine', 'Udayy', 'True Elements', 'Saveo', 'Bira 91', 'Pine Labs', 'Zenoti', 'Tax Buddy India', 'Delhivery', 'PagarBook', 'Codingal', 'CRED', 'Bira 91', 'Chumbak', 'Cityflo', 'Shipsy', 'Unacademy', 'Cashfree', 'Credgenics', 'Country Delight', 'Nykaa', 'Betterplace', 'FlexiLoans', 'GetVantage', 'FreshToHome', 'Origo', 'Origo', 'Treebo Hotels', 'Hubilo', 'CredAble', 'Byju’s', 'mCaffeine', 'Qshala', 'Winzo', 'Hippo Video', 'Melorra', '1mg', 'mfine', 'Apna', 'Railofy', 'Practo', 'Medlife', 'HungerBox', 'Dunzo', 'Terra.do', 'Classplus', 'Niyo', 'ZestMoney', 'FreshToHome', 'Eduvanz', 'Flipkart', 'Vedantu', 'Crio', 'goDutch', 'Mystifly', 'JetSynthesys', 'gigIndia', 'PumPumPum', 'FLYX', 'Open Appliances Pvt. Ltd.', 'Drishti Technologies', 'Stellaps', 'Peppermint', 'Jai Kisan', 'Biomoneta', 'Sai Estate Management and Skills Institute', 'LetsTransport', 'WayCool Foods', 'Myelin Foundry', 'Hapramp', 'leap.club', 'Tring', 'Khatabook', 'Vakilsearch', 'Lendingkart', 'No Worry No Tension Healthcare (NWNT)', 'Classplus', 'Nykaa', 'Magicpin', 'LetsTransport', 'Vedantu', 'Swiggy', 'Zupee', 'DeHaat', 'BigBasket', 'Fingerlix', 'Nykaa', 'Recko', 'Soxytoes', 'Chqbook.com', 'Paperboat', 'CollegeKhabri', 'FamPay', 'MultiLiving', 'Ola Electric', 'Mera Kisan', '1mg', 'RACEnergy', 'Adonmo', 'DoubtNut', 'MultiplyMyLeads', 'Embibe', 'FirstCry', 'Pepperfry', 'MaxWholesale', 'Dot', 'BYJU’S', 'Shuttl', 'Mamaearth', 'https://www.wealthbucket.in/', 'Fashor', 'Pando', 'Zomato', 'Ecozen', 'CarDekho', 'Dhruva Space', 'Rivigo', 'Healthians', 'Licious', 'InCred', 'Trell', 'Rein Games', 'Lenskart.com', 'Freshworks', 'Misters', 'Sunstone Eduversity Pvt. Ltd', 'Burger Singh', 'Healthians', 'Ninjacart', 'Aye Finance', 'SuperGaming', 'Clumio', 'eBikeGo', 'Dunzo', 'Udaan', 'The Man Company', 'FPL Technologies', 'Cashflo', 'Digital F5', '3rdFlix', '75F', 'Myelin Foundry', 'Atomberg Technology', 'GOQii', 'Vyapar App', '', 'CarDekho', 'Progcap', 'MyPetrolPump', 'Alteria Capital', 'Pine Labs', 'Meesho', 'Cars24', 'Uniphore', 'Zendrive', 'Lo! Foods', 'RenewBuy', 'Atlan', 'WizCounsel', 'Ola Cabs', 'Uniphore', 'Daalchini Technologies', \"BYJU'S\", 'Moglix', 'Ezyhaul', 'Indus OS', 'NoBroker', 'Bira91', 'FabHotels', 'Avail Finance', 'BharatPe', 'Recykal', 'Agara Labs', 'Sistema.bio', 'Chakr Innovation', 'Pratilipi', 'Ola Electric', 'Saahas Zero Waste', 'StyleDotMe', 'BlackBuck', 'Zenoti', 'Ather Energy', 'FreshVnF', 'GlowRoad', 'Bira91', 'Kuvera', 'Medlife', 'Kabadiwala', 'Tripoto', 'Azah', 'Setu', 'Toppr', 'Craftsvilla', 'Unacademy', 'CleverTap', 'FleetX', 'Zilingo', 'NanoClean Global', 'OyoRooms', 'CarDekho', 'Vyome Therapeutics Inc.', 'Samunnati Financial Intermediation & Services Pvt. Ltd', 'Manch', 'UrbanClap Technologies Pvt. Ltd', 'Guiddoo', 'Career Anna', 'Nagpur Wholesale', 'ShopKirana', 'BuildSupply', 'GoDesi', 'Veritas Finance Ltd.', 'Meesho', 'Mobile Premier League', 'A&R Bon Vivants', 'Blackbuck', 'MilkBAsket', 'DriveU', 'CleanseCar', 'Automation Anywhere', 'Northmist', 'Origo Commodities India Pvt. Ltd', 'Grover Zampa', 'Droom', 'Innov8', 'Blackbuck', 'LetsTransport', 'Netmeds', 'Udaan', 'Daily hunt', '3HCare', 'HappyGoEasy', 'Nykaa', 'Mad Street Den', 'Dream11', 'MamaEarth', 'AutoGrid', 'dishq', 'HealthFin', 'Samosa Labs', 'ZiffyHomes', 'My OmNamo', 'ShopX', 'MakeMyTrip', 'Hansel io', 'Metro Bikes', 'Phone Pe', 'Leena AI', 'Biryani By Kilo', 'Anchanto', 'Loan Tap', 'PolicyBazaar', 'zippserv', 'Groww', 'Avenue Growth', 'iNICU', 'Kinara Capital', 'Northmist', 'Origo Commodities India Pvt. Ltd', 'Grover Zampa', 'Droom', 'Innov8', 'Blackbuck', 'LetsTransport', 'Netmeds', 'Udaan', 'Daily hunt', '3HCare', 'HappyGoEasy', 'Nykaa', 'Mad Street Den', 'Dream11', 'MamaEarth', 'AutoGrid', 'dishq', 'HealthFin', 'Samosa Labs', 'ZiffyHomes', 'My OmNamo', 'ShopX', 'MakeMyTrip', 'Hansel io', 'Metro Bikes', 'Phone Pe', 'Leena AI', 'Biryani By Kilo', 'Anchanto', 'Loan Tap', 'PolicyBazaar', 'zippserv', 'Groww', 'Avenue Growth', 'iNICU', 'Kinara Capital', 'Northmist', 'Origo Commodities India Pvt. Ltd', 'Grover Zampa', 'Droom', 'Innov8', 'Blackbuck', 'LetsTransport', 'Netmeds', 'Udaan', 'Daily hunt', '3HCare', 'HappyGoEasy', 'Nykaa', 'Mad Street Den', 'Dream11', 'MamaEarth', 'AutoGrid', 'dishq', 'HealthFin', 'Samosa Labs', 'ZiffyHomes', 'My OmNamo', 'ShopX', 'MakeMyTrip', 'Hansel io', 'Metro Bikes', 'Phone Pe', 'Leena AI', 'Biryani By Kilo', 'Anchanto', 'Loan Tap', 'PolicyBazaar', 'zippserv', 'Groww', 'Avenue Growth', 'iNICU', 'Kinara Capital', 'Northmist', 'Origo Commodities India Pvt. Ltd', 'Grover Zampa', 'Droom', 'Innov8', 'Blackbuck', 'LetsTransport', 'Netmeds', 'Udaan', 'Daily hunt', '3HCare', 'HappyGoEasy', 'Nykaa', 'Mad Street Den', 'Dream11', 'MamaEarth', 'AutoGrid', 'dishq', 'HealthFin', 'Samosa Labs', 'ZiffyHomes', 'My OmNamo', 'ShopX', 'MakeMyTrip', 'Hansel io', 'Metro Bikes', 'Phone Pe', 'Leena AI', 'Biryani By Kilo', 'Anchanto', 'Loan Tap', 'PolicyBazaar', 'zippserv', 'Groww', 'Avenue Growth', 'iNICU', 'Kinara Capital']\n"
     ]
    }
   ],
   "source": [
    "#scraping the company_name \n",
    "companies=driver.find_elements(By.XPATH,\"//td[@class='column-3']\")\n",
    "for i in companies:\n",
    "    if i.text is None :\n",
    "        Company.append(\"--\") \n",
    "    else:\n",
    "        Company.append(i.text)\n",
    "print(len(Company),Company)"
   ]
  },
  {
   "cell_type": "code",
   "execution_count": 45,
   "id": "878c94fe",
   "metadata": {},
   "outputs": [
    {
     "name": "stdout",
     "output_type": "stream",
     "text": [
      "392 ['Edu-tech', 'E-commerce', 'Online Food Delivery', 'FinTech', 'E-commerce', 'E-commerce', 'Technology', 'E-commerce', 'Edu-tech', 'Edu-tech', 'E-commerce', 'FinTech', 'Edu Tech', 'Hospitality', 'Hospitality', 'FinTech', 'Finance', 'E-commerce', 'E-Commerce', 'Technology', 'EdTech', 'Financial Services', 'Consumer Goods Company', 'AgriTech Startup', 'SaaS', 'Health Tech Startup', 'EdTech', 'Food Startup', 'B2B E-commerce', 'Food and Beverage', 'Financial Services', 'Technology Provider', 'FinTech', 'Supply chain', 'SaaS', 'EduTech', 'Financial Services', 'Food and Beverage', 'Lifestyle', 'Transportation', 'SaaS', 'Edutech', 'FinTech', 'Fintech', 'Dairy Tech', 'E-commerce', 'Digital Solutions', 'FinTech', 'FinTech', 'E-commerce', 'AgriTech', 'Advertising', 'Hospitality', 'Information Technology', 'FinTech', 'EduTech', 'Personal Care', 'EduTech', 'Online Gaming', 'Video Customer Experience(CX) Platform', 'E-commerce', 'E-commerce', 'HealthTech', 'Human Resources', 'Transportation', 'HealthTech', 'E-commerce', 'FoodTech', 'Hyper-local Logistics', 'EduTech', 'EduTech', 'FinTech', 'FinTech', 'E-commerce', 'FinTech', 'E-commerce', 'EduTech', 'EduTech', 'FinTech', 'Airfare Marketplace', 'Gaming and Entertainment', 'Marketplace', 'Automotive Rental', 'OTT Player', 'Information Technology', 'Technology', 'AgriTech', 'Industrial Robotics', 'Rural FinTech', 'BioTech', 'EdTech', 'Logistics Solution Provider', 'AgriTech', 'Deep Tech AI', 'Block Chain, Cryptocurrency', 'Professional Network for Women', 'Advertising', 'Utility Solutions Provider', 'LegalTech', 'FinTech', 'Healthcare', 'EduTech', 'E-commerce', 'E-commerce', 'Logistics Solution Provider', 'EduTech', 'Online Food Delivery', 'Gaming', 'AgriTech', 'E-commerce', 'Food Delivery', 'E-commerce', 'Digital Reconcilation and Financial Services', 'E-commerce', 'Finance', 'E-commerce', 'EduTech', 'Finance', 'Real Estate', 'Transport', 'Food Production', 'E-commerce', 'Transportation', 'Advertising', 'Education', 'Real Estate', 'EduTech', 'E-commerce', 'E-commerce', 'E-commerce', 'Information Technology and Services', 'E-Tech', 'Transportation', 'E-commerce', 'FinTech', 'Fashion and Apparel', 'Logistics', 'Hospitality', 'Technology', 'E-Commerce', 'Aerospace', 'Technology', 'B2B-focused foodtech startup', 'E-Commerce', 'Finance', 'Video', 'Gaming', 'E-Commerce', 'Software', 'Health and wellness', 'Education', 'Food and Beverage', 'Health and Wellness', 'B2B Marketing', 'FinTech', 'Video Games', 'SaaS', 'Last Mile Transportation', 'Customer Service', 'B2B', 'Consumer Goods', 'FinTech', 'FinTech', 'Advertising, Marketing', 'SaaS', 'IoT', 'Information Technology', 'Consumer Technology', 'Health and Wellness', 'Accounting', '', 'E-Commerce', 'Finance', 'Retail', 'Finance', 'Information Technology', 'E-Commerce', 'E-Commerce', 'Customer Service Platform', 'Automotive', 'Consumer Goods', 'Finance', 'Information Technology', 'Compliance', 'Transport', 'Artificial Intelligence', 'Food and Beverage', 'EdTech', 'E-Commerce', 'Tech', 'Tech', 'E-Commerce', 'Food and Beverage', 'E-Commerce', 'Finance', 'Finance', 'Waste Management Service', 'Deep-Tech', 'Agriculture', 'Energy', 'Digital Media', 'Transport', 'Waste Management Service', 'E-commerce', 'Transport', 'Saas', 'Automobile', 'Agtech', 'E-commerce', 'Food and Beverage', 'Finance', 'E-commerce', 'E-commerce', 'Social Media', 'Health and Wellness', 'Fintech', 'Edtech', 'E-commerce', 'Edtech', 'SaaS', 'AI', 'Ecommerce', 'Nanotechnology', 'Hospitality', 'Automobile', 'Health and Wellness', 'Finance', 'Social Media', 'Services Platform', 'Travel Tech', 'Online Education', 'Online Marketplace', 'B2B', 'SaaS, Ecommerce', 'Food and Beverage', 'NBFC', 'Ecommerce', 'Gaming', 'Food', 'Food Tech', 'Food', 'Transport', 'Services', 'Automation', 'Fashion', 'Logistics', 'Food', 'Automobile', 'Real Estate', 'Logistics Tech', 'Logistics Tech', 'Consumer Internet', 'B2B Platform', 'Consumer Internet', 'Healthcare', 'Consumer Internet', 'Consumer Internet', 'Technology', 'Consumer Internet', 'Healthcare', 'Technology', 'Food-Tech', 'Finance', 'Consumer Internet', 'Consumer Internet', 'Consumer Internet', 'Consumer Internet', 'Consumer Internet', 'Consumer Internet', 'Consumer Internet', 'Consumer Internet', 'Technology', 'Consumer Internet', 'IT', 'Consumer Internet', 'Consumer Internet', 'Consumer Internet', 'Consumer Internet', 'Consumer Internet', 'Healthcare', 'Finance', 'Fashion', 'Logistics', 'Food', 'Automobile', 'Real Estate', 'Logistics Tech', 'Logistics Tech', 'Consumer Internet', 'B2B Platform', 'Consumer Internet', 'Healthcare', 'Consumer Internet', 'Consumer Internet', 'Technology', 'Consumer Internet', 'Healthcare', 'Technology', 'Food-Tech', 'Finance', 'Consumer Internet', 'Consumer Internet', 'Consumer Internet', 'Consumer Internet', 'Consumer Internet', 'Consumer Internet', 'Consumer Internet', 'Consumer Internet', 'Technology', 'Consumer Internet', 'IT', 'Consumer Internet', 'Consumer Internet', 'Consumer Internet', 'Consumer Internet', 'Consumer Internet', 'Healthcare', 'Finance', 'Fashion', 'Logistics', 'Food', 'Automobile', 'Real Estate', 'Logistics Tech', 'Logistics Tech', 'Consumer Internet', 'B2B Platform', 'Consumer Internet', 'Healthcare', 'Consumer Internet', 'Consumer Internet', 'Technology', 'Consumer Internet', 'Healthcare', 'Technology', 'Food-Tech', 'Finance', 'Consumer Internet', 'Consumer Internet', 'Consumer Internet', 'Consumer Internet', 'Consumer Internet', 'Consumer Internet', 'Consumer Internet', 'Consumer Internet', 'Technology', 'Consumer Internet', 'IT', 'Consumer Internet', 'Consumer Internet', 'Consumer Internet', 'Consumer Internet', 'Consumer Internet', 'Healthcare', 'Finance', 'Fashion', 'Logistics', 'Food', 'Automobile', 'Real Estate', 'Logistics Tech', 'Logistics Tech', 'Consumer Internet', 'B2B Platform', 'Consumer Internet', 'Healthcare', 'Consumer Internet', 'Consumer Internet', 'Technology', 'Consumer Internet', 'Healthcare', 'Technology', 'Food-Tech', 'Finance', 'Consumer Internet', 'Consumer Internet', 'Consumer Internet', 'Consumer Internet', 'Consumer Internet', 'Consumer Internet', 'Consumer Internet', 'Consumer Internet', 'Technology', 'Consumer Internet', 'IT', 'Consumer Internet', 'Consumer Internet', 'Consumer Internet', 'Consumer Internet', 'Consumer Internet', 'Healthcare', 'Finance']\n"
     ]
    }
   ],
   "source": [
    "#scraping the Industry \n",
    "Ind=driver.find_elements(By.XPATH,\"//td[@class='column-4']\")\n",
    "for i in Ind:\n",
    "    if i.text is None :\n",
    "        Industry.append(\"--\") \n",
    "    else:\n",
    "        Industry.append(i.text)\n",
    "print(len(Industry),Industry)"
   ]
  },
  {
   "cell_type": "code",
   "execution_count": 46,
   "id": "e3a88c3f",
   "metadata": {},
   "outputs": [
    {
     "name": "stdout",
     "output_type": "stream",
     "text": [
      "392 ['01/04/2021', '05/04/2021', '14/04/2021', '07/04/2021', '14/04/2021', '04/03/2021', '31/03/2021', '30/03/2021', '30/03/2021', '23/03/2021', '25/03/2021', '26/03/2021', '11/02/2021', '22/02/2021', '19/02/2021', '17/02/2021', '15/02/2021', '12/02/2021', '12/02/2021', '09/02/2021', '09/02/2021', '15/01/2021', '28/01/2021', '19/01/2021', '19/01/2021', '18/01/2021', '18/01/2021', '11/01/2021', '13/01/2021', '15/12/2020', '21/12/2020', '15/12/2020', '22/12/2020', '15/12/2020', '18/12/2020', '30/11/2020', '30/11/2020', '29/11/2020', '27/11/2020', '25/11/2020', '25/11/2020', '25/11/2020', '24/11/2020', '30/11/2020', '23/11/2020', '28/10/2020', '28/10/2020', '28/10/2020', '27/10/2020', '27/10/2020', '27/10/2020', '27/10/2020', '15/10/2020', '26/10/2020', '28/10/2020', '08/09/2020', '12/09/2020', '09/09/2020', '02/09/2020', '09/09/2020', '07/09/2020', '07/09/2020', '31/08/2020', '31/08/2020', '03/09/2020', '15/08/2020', '13/08/2020', '13/08/2020', '04/08/2020', '11/08/2020', '12/08/2020', '14/08/2020', '10/08/2020', '07/08/2020', '13/08/2020', '15/07/2020', '16/07/2020', '16/07/2020', '14/07/2020', '13/07/2020', '09/07/2020', '10/07/2020', '15/07/2020', '14/07/2020', '13/07/2020', '18/06/2020', '17/06/2020', '17/06/2020', '16/06/2020', '16/06/2020', '15/06/2020', '15/06/2020', '10/06/2020', '11/06/2020', '10/06/2020', '21/05/2020', '20/05/2020', '20/05/2020', '19/05/2020', '19/05/2020', '21/05/2020', '05/05/2020', '11/05/2020', '13/05/2020', '18/05/2020', '09/04/2020', '06/04/2020', '08/04/2020', '07/04/2020', '15/04/2020', '08/04/2020', '31/03/2020', '02/04/2020', '04/03/2020', '02/03/2020', '06/03/2020', '13/03/2020', '12/03/2020', '12/03/2020', '12/03/2020', '12/03/2020', '03/02/2020', '03/02/2020', '31/01/2020', '31/01/2020', '30/01/2020', '03/02/2020', '10/02/2020', '10/02/2020', '18/02/2020', '06/02/2020', '09/01/2020', '13/01/2020', '09/01/2020', '02/01/2020', '02/01/2020', '13/01/2020', '10/01/2020', '12/12/2019', '06/12/2019', '3/12/2019', '13/12/2019', '17/12/2019', '16/12/2019', '16/12/2019', '14/12/2019', '11/12/2019', '20/12/2019', '13/11/2019', '14/11/2019', '13/11/2019', '17/11/2019', '18/11/2019', '15/11/2019', '20/11/2019', '12/11/2019', '20/11/2019', '11/11/2019', '04/10/2019', '02/10/2019', '21/10/2019', '05/09/2019', '04/09/2019', '04/09/2019', '04/09/2019', '04/09/2019', '04/09/2019', '04/09/2019', '04/09/2019', '03/09/2019', '', '01/08/2019', '01/08/2019', '01/08/2019', '01/08/2019', '01/08/2019', '12/08/2019', '13/08/2019', '13/08/2019', '23/08/2019', '23/08/2019', '02/07/2019', '02/07/2019', '01/07/2019', '03/07/2019', '01/07/2019', '04/07/2019', '10/07/2019', '11/07/2019', '10/07/2019', '10/07/2019', '05/06/2019', '04/06/2019', '03/06/2019', '03/06/2019', '04/06/2019', '04/06/2019', '03/06/2019', '06/06/2019', '06/06/2019', '06/06/2019', '06/05/2019', '06/05/2019', '05/05/2019', '01/05/2019', '02/05/2019', '28/05/2019', '28/05/2019', '30/05/2019', '31/05/2019', '16/04/2019', '12/04/2019', '10/04/2019', '13/04/2019', '12/04/2019', '11/04/2019', '10/04/2019', '10/04/2019', '10/04/2019', '11/04/2019', '1/02/2019', '8/02/2019', '13/02/2019', '14/02/2018', '03/01/2019', '04/01/2019', '04/01/2019', '04/12/2018', '01/12/2018', '02/12/2018', '02/12/2018', '04/12/2018', '06/12/2018', '06/12/2018', '01/11/2018', '03/11/2018', '06/11/2018', '08/11/2018', '8/11/2018', '12/11/2018', '12/11/2018', '13/11/2018', '14/11/2018', '19/11/2018', '01/10/2018', '02/10/2018', '04/10/2018', '05/10/2018', '11/10/2018', '12/10/2018', '12/10/2018', '01/09/2018', '03/09/2018', '03/09/2018', '04/09/2018', '04/09/2018', '05/09/2018', '05/09/2018', '06/09/2018', '10/09/2018', '11/09/2018', '01/08/2018', '01/08/2018', '02/08/2018', '03/08/2018', '07/08/2018', '07/08/2018', '07/08/2018', '08/08/2018', '08/08/2018', '08/08/2018', '01/07/2018', '02/07/2018', '04/07/2018', '05/072018', '06/07/2018', '09/07/2018', '09/07/2018', '10/07/2018', '10/07/2018', '10/07/2018', '01/10/2018', '02/10/2018', '04/10/2018', '05/10/2018', '11/10/2018', '12/10/2018', '12/10/2018', '01/09/2018', '03/09/2018', '03/09/2018', '04/09/2018', '04/09/2018', '05/09/2018', '05/09/2018', '06/09/2018', '10/09/2018', '11/09/2018', '01/08/2018', '01/08/2018', '02/08/2018', '03/08/2018', '07/08/2018', '07/08/2018', '07/08/2018', '08/08/2018', '08/08/2018', '08/08/2018', '01/07/2018', '02/07/2018', '04/07/2018', '05/072018', '06/07/2018', '09/07/2018', '09/07/2018', '10/07/2018', '10/07/2018', '10/07/2018', '01/10/2018', '02/10/2018', '04/10/2018', '05/10/2018', '11/10/2018', '12/10/2018', '12/10/2018', '01/09/2018', '03/09/2018', '03/09/2018', '04/09/2018', '04/09/2018', '05/09/2018', '05/09/2018', '06/09/2018', '10/09/2018', '11/09/2018', '01/08/2018', '01/08/2018', '02/08/2018', '03/08/2018', '07/08/2018', '07/08/2018', '07/08/2018', '08/08/2018', '08/08/2018', '08/08/2018', '01/07/2018', '02/07/2018', '04/07/2018', '05/072018', '06/07/2018', '09/07/2018', '09/07/2018', '10/07/2018', '10/07/2018', '10/07/2018', '01/10/2018', '02/10/2018', '04/10/2018', '05/10/2018', '11/10/2018', '12/10/2018', '12/10/2018', '01/09/2018', '03/09/2018', '03/09/2018', '04/09/2018', '04/09/2018', '05/09/2018', '05/09/2018', '06/09/2018', '10/09/2018', '11/09/2018', '01/08/2018', '01/08/2018', '02/08/2018', '03/08/2018', '07/08/2018', '07/08/2018', '07/08/2018', '08/08/2018', '08/08/2018', '08/08/2018', '01/07/2018', '02/07/2018', '04/07/2018', '05/072018', '06/07/2018', '09/07/2018', '09/07/2018', '10/07/2018', '10/07/2018', '10/07/2018']\n"
     ]
    }
   ],
   "source": [
    "#scraping the Dates \n",
    "dt=driver.find_elements(By.XPATH,\"//td[@class='column-2']\")\n",
    "for i in dt:\n",
    "    if i.text is None :\n",
    "        Dates.append(\"--\") \n",
    "    else:\n",
    "        Dates.append(i.text)\n",
    "print(len(Dates),Dates)"
   ]
  },
  {
   "cell_type": "code",
   "execution_count": 47,
   "id": "537dba19",
   "metadata": {},
   "outputs": [
    {
     "name": "stdout",
     "output_type": "stream",
     "text": [
      "392 ['Innoven Capital', 'SoftBank Vision Fund 2', 'Amansa Holdings, Carmignac, Falcon Edge Capital, Goldman Sachs, Think Investments', 'MC Global Edtech, B Capital, Baron, others', 'Hindustan Media Ventures', 'Innoven Capital', 'Sorenson Capital Partners', 'Krishtal Advisors Pte Ltd', 'MC Global Edtech, B Capital, Baron, others', 'Titan Capital, others', 'Accel Partners', 'PayU', 'SIG Global, Sequoia Capital, WaterBridge Ventures and ON Mauritius', 'Tiger Global, Kora', 'Rhodium Trust, Accel Partners and Swiggy', 'Accel Partners and Lightspeed Venture Partners', 'Azim Premji’s PremjiInvest and South Korea’s Mirae Asset Venture', 'InnoVen Capital', 'SoftBank Vision Fund (SVF)', 'GV', 'Owl Ventures', 'A91 Partners, Faering Capital, TVS Capital Funds', 'Reckitt Benckiser', 'Prosus Ventures', 'Salesforce Ventures', 'Heritas Capital Management', 'Sequoia Capital', 'SIDBI Venture Capital', 'Matrix Partners India, RTP Global, others', 'Nishant Mittal, Pankaj Chaddah and Shikha Sunil Chandak', 'Lone Pine Capital', 'Advent International', 'Zenith Global', 'Steadview Capital', 'Sequoia Capital', 'Rebright Partners, Java Capital, and GSF Accelerator', 'DST Global', 'Sofina, Sequoia Capital, Sixth Sense Ventures, Neoplux', 'Gaja Capital Fund (GCFII-A)', 'Lightbox Ventures', 'Sequoia Capital India’s Surge, Info Edge', 'Tiger Global Management, Dragoneer Investment Group', 'Matrix Partners India, SAIF Partners, Ward Ferry Management and Bertelsmann India', 'Venture Capital firm, Accel Partners and DMI Finance', 'Elevation Capital', 'Alia Bhatt', 'Jungle Ventures', 'Falguni and Sanjay Nayar Family Office', 'Chiratae Ventures, Dream Incubators', 'Corporation of Dubai (ICD), Ascent Capital, DFC, the Allana Group', 'Northern Arc Capital', 'Sequoia Capital India', 'Matrix Partners India, SAIF Partners, Ward Ferry Management and Bertelsmann India', 'Lightspeed Venture Partners', 'Oaks Asset Management and V’Ocean Investment', 'Silver Lake, Tiger Global, General Atlantic and Owl Ventures', 'Amicus Capital Private Equity I LLP, Amicus Capital Partners India Fund I and RP-SG Venture Fund 1', 'Rainmatter Capital', 'Kalaari Capital Partners, IndigoEdge Management Consultancy', 'Alpha Wave Incubation, Exfinity Venture Partners and existing backers.', 'Shadow Holdings, Lightbox.', 'Gaja Capital, Tata Capital, Partners Group', 'Caretech Pte Inc', 'Lightspeed India and Sequoia Capital India', 'Chiratae Ventures', 'A1A Company', 'Prasid Uno Family Trust and SC Credit Fund', 'One97, Sabre Partners Trust, Pratithi Investment Trust, and Srihari Kumar', 'Existing Backers', 'Stanford Angels and Entrepreneurs (India), BEENEXT Emerging Asia, Rainmatter Capital', 'Falcon Edge', 'Niyo Solutions Inc.', 'Primrose Hills Ventures', 'Ascent Capital', 'Sequoia India, Unitus', 'Walmart Inc', 'Coatue Management', '021 Capital', 'Matrix India,Y Combinator, Global Founders Capital, Soma Capital, and VentureSouq.', 'Recruit Co. Ltd.', 'Adar Poonawalla and Kris Gopalakrishnan.', 'Incubate Fund India and Beyond Next Ventures', 'Early Adapters Syndicate', 'Raj Mishra, founder of AIT Global Inc', 'Unicorn India Ventures', 'Sozo Ventures', 'Stride Ventures', 'Venture Catalysts and Naveen Kshatriya', 'Arkam Ventures and NABVENTURES Fund I', 'Beyond Next Ventures, ArthaVida Ventures and Dr. Aniruddha Malpani', 'Suniel Shetty', 'Stride Ventures', 'Indusland Bank', 'Kris Gopalakrishnan’s family office — Pratithi.', 'Anand Mahindra', 'Whiteboard Capital (Sandeep Tandon’s VC fund), FirstCheque, Artha India Ventures, Sweta Rau (Founder, White Ventures), Amrish Rau (CEO Pinelabs, Founder Citrus Pay), Deepak Abbot (Former SVP, Paytm), and Harpreet Singh Grover (Co-founder, Co-Cubes) and others.', 'Tencent, Ark Impact, KoKalyan Krishnamurthy of Flipkart, Sujeet Kumar of Udaan, Gaurav Munjal of Unacademy, Keshav Sanghi of VentureWorks India, Roman Saini of Unacademy, Hemesh Singh of Unacademy, and Sumit Jain of Opentalk amongst others.', 'B Capital Group, Sequoia India, Partners of DST Global, Tencent, GGV, RTP Global, Hummingbird Ventures, Falcon Edge Capital, Rocketship.vc, Unilever Ventures, Kevin Weil, Alexander Will, Kunal Shah, Kunal Bahl, and Rohit Bansal', 'Udaan co-founder, Sujeet Kumar', 'Fullerton Financial Holdings Pte Ltd (FFH) and Bertelsmann India Investments, Sistema Asia Fund and India Quotient.', 'Amit Burman, Chairman of Dabur India,', \"RTP Global, lume Ventures, Sequoia Capital India's Surge, Spiral Ventures, and Strive.\", 'Steadview Capital', 'Lightspeed Venture Partners, along with the participation of Moonstone Investments, WaterBridge Venture, The Bunting Family Private Fund, and Srivatsan Rajan', 'InnoVen Capital', 'Legend Capital', 'Tencent, Ark Impact, Korea Investment Partners, shoppingmode Samsung Ventures, and Mirae Asset Capital Markets', 'Matrix Partners India, Falcon Edge Capital, WestCap Group, Orios Venture Partners and Smile Group', 'Sequoia Capital India, FMO, Omnivore and AgFunder.', 'Alibaba Group', 'Accel, Zephyr Peacock, Swiggy, and RB Investments', 'Steadview Capital', 'Vertex Ventures Southeast Asia and India and Prime Venture Partners', 'Angel Networks', 'Aavishkaar Capital', 'Advent Management, A91 Emerging Fund, and Trifecta Venture.', 'Vdiec Global', 'Y Combinator, Venture Highway, Sequoia India, and GFC (Global Founders Capital).', 'Lodha Ventures', 'Pawan Munjal Family Trust', 'Ajinkya Rahane', 'Bill & Melinda Gates Foundation', 'GrowX Ventures', 'BAce Capital', 'Tencent Holdings', 'Frontline Strategy Funds and SucSEED Venture Partners.', 'Reliance Industries Limited (RIL)', 'Softbank Vision Fund', 'Pidilite Industries', 'IAN Fund and Al Falaj Investment Co', 'PayU and Fosun RZ Capital', 'Tiger Global Management', 'Susquehanna Growth Equity', 'Sequoia Capital India', 'Vinod Khatumal', 'Sprout Venture Partners', 'Chiratae Ventures', 'Ant Financial', 'Sathguru Catalyzer Advisors', 'Ping An Global Voyager Fund', 'Mumbai Angels, Ravikanth Reddy', 'SAIF Partners, Spring Canter Investment Ltd.', 'Paytm, NPTK, Sabre Partners and Neoplux', 'Vertex Growth Fund', '', 'Ruizheng Investment', 'Manipal Education and Medical Group (MEMG)', 'SoftBank Vision Fund', 'Sequoia, CapitalG, Accel', 'Sauce.vc, Rainforest Ventures', 'Prime Venture Partners, LetsVenture, PS1 Venture and GlobalLogic co-founder Rajul Garg', 'RB Investments', 'DG Daiwa Ventures, DG Incubation', 'Trifecta Capital Advisors', 'FinTech', 'Dream Incubator', 'Altimeter Capital, Sutter Hill Ventures', 'Startup Buddy', 'Lightbox', 'Altimeter Capital, DST Global', 'Ayushmann Khurana', 'Matrix Partners India, Sequoia India', 'SAIF Partners', 'TIW Private Equity', 'Exfinity Venture Partners', 'Breakthrough Energy Ventures', 'Endiya Partners', 'A91 Partners', 'Bennett Coleman and Company Ltd (BCCL)', 'India Quotient, Axilor Ventures', '', 'SC GG India Mobility Holdings LLC', 'Sequoia India', '', 'Azim Premji, Binny Bansal', 'Pine Labs Pte Ltd', 'Naspers', 'MS Dhoni', 'March Capital Partners', 'XL Innovate', 'Rashmi Daga (founder, FreshMenu), Raveen Sastry (co-founder, Myntra) and Mitesh Shah (finance chief, BookMyShow)', 'Lok Capital, IIFL Wealth', 'WaterBridge Ventures', 'Kapil Dev', 'DIG Investment Ab, Deshe Holdings, Samih Toukan and Hussam Khoury', 'March Capital Partners', 'Artha Venture', 'Qatar Investment Authority', 'Composite Capital Management, Sequoia Capital India, Tiger Global Management', 'Undisclosed', 'Ventureast', 'General Atlantic', 'Anicut Capital', 'Goldman Sachs, Accel Partners and Qualcomm', 'Matrix Partners', 'Insight Partners', 'Triton Investment Advisors, Pidilite Industries director Ajay Parekh', 'Blume Ventures and RTP Global', 'Shell Foundation, DILA CAPITAL, Engie RDE Fund, EcoEnterprise Fund, EDFIMC (ElectriFI), Endeavor Catalyst Fund, CoCapital, Triodos, Alpha Mundi, and Lendahand', 'IAN Fund', 'Qiming Venture Partners', 'Tata Sons', 'C4D Partners', 'Indian Angel Network and other angel investors, Innov8 founder Ritesh Malik, Josh Talks founders Supriya Paul and Shobha Banga, and former Hero Corporate president Rohit Chanana', 'Goldman Sachs Investment Partners and Silicon Valley-based Accel, Wellington, Sequoia Capital, B Capital, LightStreet, Sands Capital and International Finance Corporation,', 'Tiger Global Management', 'Sachin Bansal', 'Equanimity Ventures', 'Korea Investment Partners, Vertex Ventures', 'Sixth Sense Ventures', 'Eight Roads', 'Prasid Uno Family Trust', 'Unilever, Beehive Capital Advisor, ABCOM Investments, Parekh Marine Transport,', 'Orchid India, Hornbill Orchid India Fund, Chiratae Ventures (formerly IDG Ventures), 3one4 Capital, Lasmer NV', 'Unnamed angel investors', 'Lightspeed India Partners', 'Milestone', 'Supera Pte Ltd', 'Kalyan Krishnamurthy', 'Sequoia India, Tiger Global Management, Accel Partners', 'India Quotient and LetsVenture’s Angel Fund', 'Sequoia Capital and Temasek Holdings, EDBI, Burda Principal Investments, and Sofina', 'LetsVenture, PitchRight Venture, 91SpringBoard, AL Nour International Holdings and Mark V Investments', 'DiDi Chuxing', 'Sequoia India, Hillhouse Capital, Alphabet’s growth investment arm Capital G and Axis Bank', 'Iron Pillar, Perceptive Advisors, Romulus Capital and Kalaari Capital', 'MASSIF, a Dutch government fund', 'Stellaris Venture Partners', 'Steadview Capital and Vy Capital.', 'Individual Investors', 'Individual Investors', 'Omphalos Ventures India LLP', 'Info Edge, AET Fund, Akatsuki and Incubate Fund from Japan and Better Capital AngelList syndicate.', 'Venture Highway, GREE Ventures, Space Matrix, Individual Investors', 'Lead Angels Network', 'Norwest Venture Partners, CDC Group, the UK’s Development Finance Institution and P Surendra Pai', 'Shunwei Capital, DST Partners and RPS Ventures', 'Undisclosed', 'RB Investments, Singapore', 'Tiger Global', 'Mayfield Fund', 'Stevens Creek Ventures', 'Venture Catalysts', 'SoftBank Vision Fund', 'Prashant Jaiswal', 'Cooperative Oikocredit, Caspian and Hivos-Triodos Fund', 'Ravi Viswanathan', 'ZigExN', 'Credence Family Office', 'Sequoia Capital India', 'Fosun International', 'Sistema Asia Fund, Sistema JSFC and Tanncam Investment', 'DST Global and Lightspeed Venture Partners’ global fund.', 'Falcon Edge', 'N/A', 'Korea Investment Partners (KIP), shoppingmode Samsung and China-based CITIC Capital and others', 'Lighthouse', 'KDDI ', 'Tencent, Kalaari Capital and Private equity firm Multiples Alternate Asset Management', 'Stellaris Ventures & Others', 'CLP Holdings Group, Innogy, Ørstead, and Tenaska', 'Farm To Fork, Arts Alliance, The Syndicate Fund, Sven Hensen, Zeroth and Artesian Venture Partners', 'Axilor, Sprout Venture Partners and others', 'Xiaomi and Sequoia Capital India', 'Y Combinator', 'N/A', 'Fung Strategic Holdings', 'MakeMyTrip Limited', 'Vertex Ventures', 'Sequoia Capital India Advisors, Accel Partners and G Raghunandan', 'Flipkart', 'Y Combinator', 'Ajay Relan and Vinay Mittal', 'MDI Ventures & Telkom Indonesia', 'Shunwei Capital, Tuscan Ventures, Ashish Goenka, VC firms India Quotient and Kae Capital', 'Info Edge (India) Ltd and Temasek', 'Info Edge (India) Ltd', 'Insignia Ventures Partners, Lightbridge Partners & Kairos', 'Avtar Monga, chief operating office at IDFC Bank, Aditya Malik & Others', 'Venture Catalysts', 'ResponsAbility', 'Prashant Jaiswal', 'Cooperative Oikocredit, Caspian and Hivos-Triodos Fund', 'Ravi Viswanathan', 'ZigExN', 'Credence Family Office', 'Sequoia Capital India', 'Fosun International', 'Sistema Asia Fund, Sistema JSFC and Tanncam Investment', 'DST Global and Lightspeed Venture Partners’ global fund.', 'Falcon Edge', 'N/A', 'Korea Investment Partners (KIP), shoppingmode Samsung and China-based CITIC Capital and others', 'Lighthouse', 'KDDI ', 'Tencent, Kalaari Capital and Private equity firm Multiples Alternate Asset Management', 'Stellaris Ventures & Others', 'CLP Holdings Group, Innogy, Ørstead, and Tenaska', 'Farm To Fork, Arts Alliance, The Syndicate Fund, Sven Hensen, Zeroth and Artesian Venture Partners', 'Axilor, Sprout Venture Partners and others', 'Xiaomi and Sequoia Capital India', 'Y Combinator', 'N/A', 'Fung Strategic Holdings', 'MakeMyTrip Limited', 'Vertex Ventures', 'Sequoia Capital India Advisors, Accel Partners and G Raghunandan', 'Flipkart', 'Y Combinator', 'Ajay Relan and Vinay Mittal', 'MDI Ventures & Telkom Indonesia', 'Shunwei Capital, Tuscan Ventures, Ashish Goenka, VC firms India Quotient and Kae Capital', 'Info Edge (India) Ltd and Temasek', 'Info Edge (India) Ltd', 'Insignia Ventures Partners, Lightbridge Partners & Kairos', 'Avtar Monga, chief operating office at IDFC Bank, Aditya Malik & Others', 'Venture Catalysts', 'ResponsAbility', 'Prashant Jaiswal', 'Cooperative Oikocredit, Caspian and Hivos-Triodos Fund', 'Ravi Viswanathan', 'ZigExN', 'Credence Family Office', 'Sequoia Capital India', 'Fosun International', 'Sistema Asia Fund, Sistema JSFC and Tanncam Investment', 'DST Global and Lightspeed Venture Partners’ global fund.', 'Falcon Edge', 'N/A', 'Korea Investment Partners (KIP), shoppingmode Samsung and China-based CITIC Capital and others', 'Lighthouse', 'KDDI ', 'Tencent, Kalaari Capital and Private equity firm Multiples Alternate Asset Management', 'Stellaris Ventures & Others', 'CLP Holdings Group, Innogy, Ørstead, and Tenaska', 'Farm To Fork, Arts Alliance, The Syndicate Fund, Sven Hensen, Zeroth and Artesian Venture Partners', 'Axilor, Sprout Venture Partners and others', 'Xiaomi and Sequoia Capital India', 'Y Combinator', 'N/A', 'Fung Strategic Holdings', 'MakeMyTrip Limited', 'Vertex Ventures', 'Sequoia Capital India Advisors, Accel Partners and G Raghunandan', 'Flipkart', 'Y Combinator', 'Ajay Relan and Vinay Mittal', 'MDI Ventures & Telkom Indonesia', 'Shunwei Capital, Tuscan Ventures, Ashish Goenka, VC firms India Quotient and Kae Capital', 'Info Edge (India) Ltd and Temasek', 'Info Edge (India) Ltd', 'Insignia Ventures Partners, Lightbridge Partners & Kairos', 'Avtar Monga, chief operating office at IDFC Bank, Aditya Malik & Others', 'Venture Catalysts', 'ResponsAbility', 'Prashant Jaiswal', 'Cooperative Oikocredit, Caspian and Hivos-Triodos Fund', 'Ravi Viswanathan', 'ZigExN', 'Credence Family Office', 'Sequoia Capital India', 'Fosun International', 'Sistema Asia Fund, Sistema JSFC and Tanncam Investment', 'DST Global and Lightspeed Venture Partners’ global fund.', 'Falcon Edge', 'N/A', 'Korea Investment Partners (KIP), shoppingmode Samsung and China-based CITIC Capital and others', 'Lighthouse', 'KDDI ', 'Tencent, Kalaari Capital and Private equity firm Multiples Alternate Asset Management', 'Stellaris Ventures & Others', 'CLP Holdings Group, Innogy, Ørstead, and Tenaska', 'Farm To Fork, Arts Alliance, The Syndicate Fund, Sven Hensen, Zeroth and Artesian Venture Partners', 'Axilor, Sprout Venture Partners and others', 'Xiaomi and Sequoia Capital India', 'Y Combinator', 'N/A', 'Fung Strategic Holdings', 'MakeMyTrip Limited', 'Vertex Ventures', 'Sequoia Capital India Advisors, Accel Partners and G Raghunandan', 'Flipkart', 'Y Combinator', 'Ajay Relan and Vinay Mittal', 'MDI Ventures & Telkom Indonesia', 'Shunwei Capital, Tuscan Ventures, Ashish Goenka, VC firms India Quotient and Kae Capital', 'Info Edge (India) Ltd and Temasek', 'Info Edge (India) Ltd', 'Insignia Ventures Partners, Lightbridge Partners & Kairos', 'Avtar Monga, chief operating office at IDFC Bank, Aditya Malik & Others', 'Venture Catalysts', 'ResponsAbility']\n"
     ]
    }
   ],
   "source": [
    "#scraping the Investor_Name \n",
    "IN=driver.find_elements(By.XPATH,\"//td[@class='column-7']\")\n",
    "for i in IN:\n",
    "    if i.text is None :\n",
    "        Investor_Name.append(\"--\") \n",
    "    else:\n",
    "        Investor_Name.append(i.text)\n",
    "print(len(Investor_Name),Investor_Name)"
   ]
  },
  {
   "cell_type": "code",
   "execution_count": 48,
   "id": "da494f74",
   "metadata": {},
   "outputs": [
    {
     "name": "stdout",
     "output_type": "stream",
     "text": [
      "392 ['Series F', 'Series E', 'Series J', 'Series D', 'Venture', 'Debt Financing', 'Series D', 'Series E', 'Series F', 'Seed', 'Series A', 'Series A', 'Series B', 'Venture', 'Series C', 'Seed', 'Series C', 'Debt Financing', 'Unspecified', 'Series A', 'Series C', 'Venture', 'Venture', 'Series C', 'Seed', 'Venture Round', 'Seed Funding', 'Series', 'Seed', 'Funding', 'Secondary Market', 'Series D', 'Seed', 'Secondary Market', 'Series A', 'Seed', 'Series C', 'Bridge Funding', 'Pre-series E', 'Series A', 'Series A', 'Venture', 'Series B', 'Pre-Series A', 'Series C', 'Personal Investment', 'Series B', 'Equity and Debt', 'Seed', 'Series C', 'Debt', 'Series A', '', 'Seed', 'Follow-On', 'Private Equity', 'Series B', 'Angel', 'Series B', 'Series A', 'Debt Financing', 'In Progress', 'Series B', 'Series A', 'Seed', 'Series F', '', 'Series D1', 'In Progress', 'Seed', 'In Progress', '', '', 'Venture', 'Series A', 'M&A', 'Series D', 'pre-Series A', 'Seed', 'pre-Series B', 'Venture-Series Unknown', 'pre-Series A', 'Seed', 'pre-Seed', 'Venture-Series Unknown', 'Series B', 'Debt Financing', 'Seed', 'Pre-Series A', 'Seed', 'Angel', 'Venture - Series Unknown', 'Series C', 'Seed', 'Seed', 'Pre Seed', 'Angel', 'Series B', 'Series A', 'Series D', 'Pre Series A', 'Series A', 'Series F', 'Series C', 'Venture - Series Unknown', 'Series C1', 'Series 1', 'Series A', 'Series A', 'Debt Financing', 'Series C', 'Series F', 'Series A', 'Angel', 'Series A', 'Debt Financing', 'Angel', 'Seed', 'Series A', 'Series B', 'Private Equity', 'Venture Series', 'Seed', 'Pre-Series A', 'Series A', 'Venture Series', 'Venture Series', 'Series E', 'Series F', 'Series A', 'Seed', 'Private Equity Round', 'Series C', 'Series B', 'Pre-series A', 'Seed Round', 'Series A', 'Private Equity Round', 'Series A', 'Series D', 'Seed', 'Series F', 'Series C', 'Series E', 'Debt Funding', 'Seed Round', 'Seed Round', 'Series G', 'Series H', 'Series B', 'Seed', 'Venture', 'Series B', 'Debt Funding', 'Debt Funding', 'Seed Funding', 'Series C', 'Seed', 'Series D', 'Series D', 'Corporate Round', 'Maiden Round', 'Series A', 'Private Equity Round', 'pre-series A', 'Series A', 'Seed', 'Series A', 'Series C', 'Series A', '', 'Series C', 'Series A', 'Seed Funding Round', 'Single Venture', 'Corporate Round', 'Series D', 'Series D', 'Series C', 'Series B', 'Seed Round', 'Series B', 'Pre-Series A', 'Angel', 'Series J', 'Series C', 'Seed Round', 'Private Equity Round', 'Series D', 'Series B', 'Series B', 'Series C', 'Debt Funding', '', 'Series A', 'Series B', 'pre-Series A', 'pre-Series A', '', 'Series A', 'Series B', 'Series A', 'Venture - Series Unknown', 'Bridge Round', 'Series D', 'Series C', 'Series C', 'Seed Round', 'Series B', 'Series B', 'Series A', 'Private Equity', 'Private Equity', 'Series B', 'Seed Funding', 'Seed Funding', 'Debt and Preference capital', 'Inhouse Funding', 'Seed/ Angel Funding', 'Series B', 'Pre Series A', 'Series D', 'Series A', 'Equity', 'Series C', 'Series D', 'Debt-Funding', 'Seed Funding', 'Series D', 'Pre-Series A', 'Pre-Series A', 'Seed Funding', 'Seed Funding', 'Series A', 'Seed/ Angel Funding', 'Series D', 'Series C', 'Series A', 'Equity', 'Series A', 'Series B', 'Mezzanine', 'Seed/ Angel Funding', 'Series B', 'Seed/ Angel Funding', 'Seed/ Angel Funding', 'Private Equity', 'Series E', 'Pre-Series A', 'Private Funding', 'Series C', 'Private Equity', 'Private Equity', 'Private Equity', 'Seed / Angel Funding', 'Private Equity', 'Private Equity', 'Private Equity', 'Private Equity', 'Private Equity', 'Private Equity', 'Seed/ Angel Funding', 'Seed/ Angel Funding', 'Private Equity', 'Private Equity', 'Seed/ Angel Funding', 'Private Equity', 'Private Equity', 'Seed/ Angel Funding', 'Private Equity', 'Private Equity', 'Seed/ Angel Funding', 'Seed/ Angel Funding', 'Private Equity', 'Private Equity', 'Private Equity', 'Seed/ Angel Funding', 'Seed/ Angel Funding', 'Seed/ Angel Funding', 'Seed/ Angel Funding', 'Private Equity', 'Seed/ Angel Funding', 'Seed/ Angel Funding', 'Private Equity', 'Series E', 'Pre-Series A', 'Private Funding', 'Series C', 'Private Equity', 'Private Equity', 'Private Equity', 'Seed / Angel Funding', 'Private Equity', 'Private Equity', 'Private Equity', 'Private Equity', 'Private Equity', 'Private Equity', 'Seed/ Angel Funding', 'Seed/ Angel Funding', 'Private Equity', 'Private Equity', 'Seed/ Angel Funding', 'Private Equity', 'Private Equity', 'Seed/ Angel Funding', 'Private Equity', 'Private Equity', 'Seed/ Angel Funding', 'Seed/ Angel Funding', 'Private Equity', 'Private Equity', 'Private Equity', 'Seed/ Angel Funding', 'Seed/ Angel Funding', 'Seed/ Angel Funding', 'Seed/ Angel Funding', 'Private Equity', 'Seed/ Angel Funding', 'Seed/ Angel Funding', 'Private Equity', 'Series E', 'Pre-Series A', 'Private Funding', 'Series C', 'Private Equity', 'Private Equity', 'Private Equity', 'Seed / Angel Funding', 'Private Equity', 'Private Equity', 'Private Equity', 'Private Equity', 'Private Equity', 'Private Equity', 'Seed/ Angel Funding', 'Seed/ Angel Funding', 'Private Equity', 'Private Equity', 'Seed/ Angel Funding', 'Private Equity', 'Private Equity', 'Seed/ Angel Funding', 'Private Equity', 'Private Equity', 'Seed/ Angel Funding', 'Seed/ Angel Funding', 'Private Equity', 'Private Equity', 'Private Equity', 'Seed/ Angel Funding', 'Seed/ Angel Funding', 'Seed/ Angel Funding', 'Seed/ Angel Funding', 'Private Equity', 'Seed/ Angel Funding', 'Seed/ Angel Funding', 'Private Equity', 'Series E', 'Pre-Series A', 'Private Funding', 'Series C', 'Private Equity', 'Private Equity', 'Private Equity', 'Seed / Angel Funding', 'Private Equity', 'Private Equity', 'Private Equity', 'Private Equity', 'Private Equity', 'Private Equity', 'Seed/ Angel Funding', 'Seed/ Angel Funding', 'Private Equity', 'Private Equity', 'Seed/ Angel Funding', 'Private Equity', 'Private Equity', 'Seed/ Angel Funding', 'Private Equity', 'Private Equity', 'Seed/ Angel Funding', 'Seed/ Angel Funding', 'Private Equity', 'Private Equity', 'Private Equity', 'Seed/ Angel Funding', 'Seed/ Angel Funding', 'Seed/ Angel Funding', 'Seed/ Angel Funding', 'Private Equity']\n"
     ]
    }
   ],
   "source": [
    "#scraping the Investment_Type \n",
    "IT=driver.find_elements(By.XPATH,\"//td[@class='column-8']\")\n",
    "for i in IT:\n",
    "    if i.text is None :\n",
    "        Investment_Type.append(\"--\") \n",
    "    else:\n",
    "        Investment_Type.append(i.text)\n",
    "print(len(Investment_Type),Investment_Type)"
   ]
  },
  {
   "cell_type": "code",
   "execution_count": 49,
   "id": "a49a807b",
   "metadata": {},
   "outputs": [
    {
     "name": "stdout",
     "output_type": "stream",
     "text": [
      "392 ['460,000,000', '300,000,000', '343,000,000', '83,000,000', '7,400,000', '250,000,000', '140,000,000', '8,000,000', '460,000,000', '300,000,000', '11,000,000', '27,500,000', '2,500,000', '250,000,000', '2,747,045.20', '1,50,00,000', '75,000,000', '4,773,958', '55,000,000', '15,000,000', '18,000,000', '1,80,00,000', '6,172,258.50', '30,000,000', '15,000,000', '16,000,000', '15,000,000', '100,000,000', '4,000,000', '1,273,634.07', 'Undisclosed', '160,000,000', '1,000,000', '25,000,000', '15,000,000', '560,000', '80,000,000', '3,000,000', '1,001,047.92', '7,700,000', '6,003,806', '75,000,000-100,000,000', '35,300,000', '3,500,000', '25,000,000', 'NA', '10,000,000', '20,160,000', '5,000,000', '121,000,000', '4,700,000', '15,000,000', '6,000,000', '4,500,000', '4,500,000', '500,000,000', '3,000,000', '370,000', '15,500,000', '4,500,000', 'upto 8,900,000', '100,000,000', '5,400,000', '8,000,000', '950,000', '32,000,000', '23,000,000', '1,560,000', '30,000,000', '1,400,000', 'upto 15,000,000', '6,000,000', '10,670,000', '16,200,000', '5,000,000', '1,200,000,000', '100,000,000', '934,160', '1,700,000', '3,300,000', '400,000', '974,200', '292,800', '200,000', '500,000', '25,000,000', 'NA', 'NA', '3,934,941', 'NA', 'NA', '1,311,647', '5,500,000', '1,000,000', '1,000,000', '340,000', 'NA', '60,000,000', 'NA', '42,000,000', 'NA', '9,000,000', '8,800,000', '4,000,000', '1,700,000', '12,560,000', '43,000,000', '8,000,000', '12,000,000', '50,000,000', '1,800,000', '13,000,000', '6,000,000', 'NA', '5,000,000', '4,000,000', 'NA', '4,700,000', '6,000,000', '1,000,000', 'NA', '10,000,000', 'NA', '3,000,000', '15,000,000', 'NA', '12,625,020', '296,000,000', '37,000,000', '3,000,000', '8,000,000', '200,000,000', '8,048,394', '18,358,860', '3,000,000', '1,800,000', '9,000,000', '150,000,000', '6,000,000', '70,000,000', '50,000,000', '20,000,000', '12,000,000', '30,000,000', '5,900,000', '2,000,000', '50,000,000', '231,000,000', '15,000,0000', '486,000', '1,500,000', 'undisclosed', '12,000,000', '26,000,000', '17,411,265', '1,300,000', '135,000,000', '300,000', '4,50,00,000', '58,50,00,000', 'unknown', '4,500,000', '3,300,000', '6,000,000', '5,000,000', '18,000,000', '10,00,000', '10,000,000', '450,000,000', '5,000,000', '', '20,000,000', '5,000,000', '1,600,000', '140,000,000', '38,080,000', '125,000,000', '11,000,000', '51,000,000', '37,000,000', '500,000', '19,000,000', '2,500,000', '145,000', '1,000,000', '38,080,000', '500,000', '150,000,000', '60,000,000', '16,000,000', '5,750,000', '5,10,00,000', '1,00,00,000', '48,89,975.54', '90,00,000', '7,50,00,000', '26,000,000', '25,00,000', '27,39,034.68', '26,000,000', '1,51,09,500.00', 'undisclosed', '868,600', 'undisclosed', '150,000,000', '50,000,000', '5,10,00,000', '14,00,00,000', '1,15,00,000', '56,00,000', '45,000,000', '17,000,000', '430,665', '3,591,375', '200,000', '3,500,000', '6,320,820', '2,443,495', '307,000', '26,000,000', 'Undisclosed', '226,000,000', '600,000', '100,000,000', '110,000,000', '22,000,000', '5,000,000', '700,000', '50,000,000', '800,000', '572,000', '143,000', '2,000,000', '3,500,000', '1,38,995', '27,799,000', '50,000,000', '5,00,000', '1,000,000', '1,000,000', '1,300,000', '1,000,000', '500,000', '300,000,000', 'N/A', '11,000,000', '8,200,000', '30,00,000', '4,000,000', '14,680,000', '12,000,000', '35,000,000', '225,000,000', '63,90,000', '1,000,000', 'N/A', '15,72,00,000', 'N/A', '100,000,000', '4,000,000', '32,000,000', '400,000', 'N/A', '7,000,000', '120,000', '1,000,000', '35,000,000', '10,000,000', '40,00,000', '12,200,000', '66,000,000', 'N/A', '1,000,000', '4,000,000', '62,50,000', '2,7700,000', '440,000', '1,100,000', '437,000', 'N/A', '5,000,000', 'N/A', '11,000,000', '8,200,000', '30,00,000', '4,000,000', '14,680,000', '12,000,000', '35,000,000', '225,000,000', '63,90,000', '1,000,000', 'N/A', '15,72,00,000', 'N/A', '100,000,000', '4,000,000', '32,000,000', '400,000', 'N/A', '7,000,000', '120,000', '1,000,000', '35,000,000', '10,000,000', '40,00,000', '12,200,000', '66,000,000', 'N/A', '1,000,000', '4,000,000', '62,50,000', '2,7700,000', '440,000', '1,100,000', '437,000', 'N/A', '5,000,000', 'N/A', '11,000,000', '8,200,000', '30,00,000', '4,000,000', '14,680,000', '12,000,000', '35,000,000', '225,000,000', '63,90,000', '1,000,000', 'N/A', '15,72,00,000', 'N/A', '100,000,000', '4,000,000', '32,000,000', '400,000', 'N/A', '7,000,000', '120,000', '1,000,000', '35,000,000', '10,000,000', '40,00,000', '12,200,000', '66,000,000', 'N/A', '1,000,000', '4,000,000', '62,50,000', '2,7700,000', '440,000', '1,100,000', '437,000', 'N/A', '5,000,000', 'N/A', '11,000,000', '8,200,000', '30,00,000', '4,000,000', '14,680,000', '12,000,000', '35,000,000', '225,000,000', '63,90,000', '1,000,000', 'N/A', '15,72,00,000', 'N/A', '100,000,000', '4,000,000', '32,000,000', '400,000', 'N/A', '7,000,000', '120,000', '1,000,000', '35,000,000', '10,000,000', '40,00,000', '12,200,000', '66,000,000', 'N/A', '1,000,000', '4,000,000', '62,50,000', '2,7700,000', '440,000', '1,100,000', '437,000', 'N/A', '5,000,000']\n"
     ]
    }
   ],
   "source": [
    "#scraping the Amount \n",
    "Price=driver.find_elements(By.XPATH,\"//td[@class='column-9']\")\n",
    "for i in Price:\n",
    "    if i.text is None :\n",
    "        Amount.append(\"--\") \n",
    "    else:\n",
    "        Amount.append(i.text)\n",
    "print(len(Amount),Amount)"
   ]
  },
  {
   "cell_type": "code",
   "execution_count": 50,
   "id": "6b74fbfb",
   "metadata": {},
   "outputs": [],
   "source": [
    "Funding=pd.DataFrame()\n",
    "Funding['Company']=Company\n",
    "Funding['Industry']=Industry\n",
    "Funding['Investor_Name']=Investor_Name\n",
    "Funding['Amount Invested']=Amount\n",
    "Funding['Specification']=Investment_Type\n",
    "Funding['Dates']=Dates"
   ]
  },
  {
   "cell_type": "code",
   "execution_count": 51,
   "id": "397959d8",
   "metadata": {},
   "outputs": [
    {
     "data": {
      "text/html": [
       "<div>\n",
       "<style scoped>\n",
       "    .dataframe tbody tr th:only-of-type {\n",
       "        vertical-align: middle;\n",
       "    }\n",
       "\n",
       "    .dataframe tbody tr th {\n",
       "        vertical-align: top;\n",
       "    }\n",
       "\n",
       "    .dataframe thead th {\n",
       "        text-align: right;\n",
       "    }\n",
       "</style>\n",
       "<table border=\"1\" class=\"dataframe\">\n",
       "  <thead>\n",
       "    <tr style=\"text-align: right;\">\n",
       "      <th></th>\n",
       "      <th>Company</th>\n",
       "      <th>Industry</th>\n",
       "      <th>Investor_Name</th>\n",
       "      <th>Amount Invested</th>\n",
       "      <th>Specification</th>\n",
       "      <th>Dates</th>\n",
       "    </tr>\n",
       "  </thead>\n",
       "  <tbody>\n",
       "    <tr>\n",
       "      <th>0</th>\n",
       "      <td>BYJU’S</td>\n",
       "      <td>Edu-tech</td>\n",
       "      <td>Innoven Capital</td>\n",
       "      <td>460,000,000</td>\n",
       "      <td>Series F</td>\n",
       "      <td>01/04/2021</td>\n",
       "    </tr>\n",
       "    <tr>\n",
       "      <th>1</th>\n",
       "      <td>Meesho</td>\n",
       "      <td>E-commerce</td>\n",
       "      <td>SoftBank Vision Fund 2</td>\n",
       "      <td>300,000,000</td>\n",
       "      <td>Series E</td>\n",
       "      <td>05/04/2021</td>\n",
       "    </tr>\n",
       "    <tr>\n",
       "      <th>2</th>\n",
       "      <td>Swiggy</td>\n",
       "      <td>Online Food Delivery</td>\n",
       "      <td>Amansa Holdings, Carmignac, Falcon Edge Capita...</td>\n",
       "      <td>343,000,000</td>\n",
       "      <td>Series J</td>\n",
       "      <td>14/04/2021</td>\n",
       "    </tr>\n",
       "    <tr>\n",
       "      <th>3</th>\n",
       "      <td>Groww</td>\n",
       "      <td>FinTech</td>\n",
       "      <td>MC Global Edtech, B Capital, Baron, others</td>\n",
       "      <td>83,000,000</td>\n",
       "      <td>Series D</td>\n",
       "      <td>07/04/2021</td>\n",
       "    </tr>\n",
       "    <tr>\n",
       "      <th>4</th>\n",
       "      <td>Beldara</td>\n",
       "      <td>E-commerce</td>\n",
       "      <td>Hindustan Media Ventures</td>\n",
       "      <td>7,400,000</td>\n",
       "      <td>Venture</td>\n",
       "      <td>14/04/2021</td>\n",
       "    </tr>\n",
       "    <tr>\n",
       "      <th>...</th>\n",
       "      <td>...</td>\n",
       "      <td>...</td>\n",
       "      <td>...</td>\n",
       "      <td>...</td>\n",
       "      <td>...</td>\n",
       "      <td>...</td>\n",
       "    </tr>\n",
       "    <tr>\n",
       "      <th>387</th>\n",
       "      <td>zippserv</td>\n",
       "      <td>Consumer Internet</td>\n",
       "      <td>Info Edge (India) Ltd</td>\n",
       "      <td>440,000</td>\n",
       "      <td>Seed/ Angel Funding</td>\n",
       "      <td>09/07/2018</td>\n",
       "    </tr>\n",
       "    <tr>\n",
       "      <th>388</th>\n",
       "      <td>Groww</td>\n",
       "      <td>Consumer Internet</td>\n",
       "      <td>Insignia Ventures Partners, Lightbridge Partne...</td>\n",
       "      <td>1,100,000</td>\n",
       "      <td>Seed/ Angel Funding</td>\n",
       "      <td>09/07/2018</td>\n",
       "    </tr>\n",
       "    <tr>\n",
       "      <th>389</th>\n",
       "      <td>Avenue Growth</td>\n",
       "      <td>Consumer Internet</td>\n",
       "      <td>Avtar Monga, chief operating office at IDFC Ba...</td>\n",
       "      <td>437,000</td>\n",
       "      <td>Seed/ Angel Funding</td>\n",
       "      <td>10/07/2018</td>\n",
       "    </tr>\n",
       "    <tr>\n",
       "      <th>390</th>\n",
       "      <td>iNICU</td>\n",
       "      <td>Healthcare</td>\n",
       "      <td>Venture Catalysts</td>\n",
       "      <td>N/A</td>\n",
       "      <td>Seed/ Angel Funding</td>\n",
       "      <td>10/07/2018</td>\n",
       "    </tr>\n",
       "    <tr>\n",
       "      <th>391</th>\n",
       "      <td>Kinara Capital</td>\n",
       "      <td>Finance</td>\n",
       "      <td>ResponsAbility</td>\n",
       "      <td>5,000,000</td>\n",
       "      <td>Private Equity</td>\n",
       "      <td>10/07/2018</td>\n",
       "    </tr>\n",
       "  </tbody>\n",
       "</table>\n",
       "<p>392 rows × 6 columns</p>\n",
       "</div>"
      ],
      "text/plain": [
       "            Company              Industry  \\\n",
       "0            BYJU’S              Edu-tech   \n",
       "1            Meesho            E-commerce   \n",
       "2            Swiggy  Online Food Delivery   \n",
       "3             Groww               FinTech   \n",
       "4           Beldara            E-commerce   \n",
       "..              ...                   ...   \n",
       "387        zippserv     Consumer Internet   \n",
       "388           Groww     Consumer Internet   \n",
       "389   Avenue Growth     Consumer Internet   \n",
       "390           iNICU            Healthcare   \n",
       "391  Kinara Capital               Finance   \n",
       "\n",
       "                                         Investor_Name Amount Invested  \\\n",
       "0                                      Innoven Capital     460,000,000   \n",
       "1                               SoftBank Vision Fund 2     300,000,000   \n",
       "2    Amansa Holdings, Carmignac, Falcon Edge Capita...     343,000,000   \n",
       "3           MC Global Edtech, B Capital, Baron, others      83,000,000   \n",
       "4                             Hindustan Media Ventures       7,400,000   \n",
       "..                                                 ...             ...   \n",
       "387                              Info Edge (India) Ltd         440,000   \n",
       "388  Insignia Ventures Partners, Lightbridge Partne...       1,100,000   \n",
       "389  Avtar Monga, chief operating office at IDFC Ba...         437,000   \n",
       "390                                  Venture Catalysts             N/A   \n",
       "391                                     ResponsAbility       5,000,000   \n",
       "\n",
       "           Specification       Dates  \n",
       "0               Series F  01/04/2021  \n",
       "1               Series E  05/04/2021  \n",
       "2               Series J  14/04/2021  \n",
       "3               Series D  07/04/2021  \n",
       "4                Venture  14/04/2021  \n",
       "..                   ...         ...  \n",
       "387  Seed/ Angel Funding  09/07/2018  \n",
       "388  Seed/ Angel Funding  09/07/2018  \n",
       "389  Seed/ Angel Funding  10/07/2018  \n",
       "390  Seed/ Angel Funding  10/07/2018  \n",
       "391       Private Equity  10/07/2018  \n",
       "\n",
       "[392 rows x 6 columns]"
      ]
     },
     "execution_count": 51,
     "metadata": {},
     "output_type": "execute_result"
    }
   ],
   "source": [
    "Funding"
   ]
  },
  {
   "cell_type": "markdown",
   "id": "cad19326",
   "metadata": {},
   "source": [
    "# 7. Write a program to scrap all the available details of best gaming laptops from digit.in."
   ]
  },
  {
   "cell_type": "code",
   "execution_count": 52,
   "id": "cf035bef",
   "metadata": {},
   "outputs": [],
   "source": [
    "driver = webdriver. Chrome (r\"C:\\Users\\Kundan Patil\\DS0522\\INTERNSHIP\\Web Scraping\\chromedriver.exe\")\n",
    "#Let's maximize the automated chrome window\n",
    "driver.maximize_window()\n",
    "url=\"https://www.digit.in/top-products/best-gaming-laptops-40.html\"\n",
    "driver.get(url)"
   ]
  },
  {
   "cell_type": "code",
   "execution_count": 65,
   "id": "01bc2abb",
   "metadata": {},
   "outputs": [],
   "source": [
    "Brands              =[]\n",
    "Products_Description=[]\n",
    "Specification       =[]"
   ]
  },
  {
   "cell_type": "code",
   "execution_count": 66,
   "id": "0fe367ee",
   "metadata": {},
   "outputs": [
    {
     "data": {
      "text/plain": [
       "['1.MSI Titan GT77-12UHS',\n",
       " '3.Acer Predator Triton 500 SE PT516-52s',\n",
       " '4.Omen By HP (16-B1371TX)',\n",
       " '5.Acer Predator Helios 300 AN515-45',\n",
       " '6.MSI Delta 15 (A5EFK-083IN)',\n",
       " '7.Omen By HP (16-C0141AX)',\n",
       " '8.Lenovo Legion 5i Pro (82RF00MGIN)',\n",
       " '9.Alienware M15 R5 Ryzen Edition Icc-C780001win',\n",
       " '10.Lenovo Slim 7 Gen 6 (82K8002JIN)']"
      ]
     },
     "execution_count": 66,
     "metadata": {},
     "output_type": "execute_result"
    }
   ],
   "source": [
    "brand=driver.find_elements(By.XPATH,'//div[@class=\"TopNumbeHeading\"]')\n",
    "for i in brand:\n",
    "    Brands.append(str(i.text).replace(\"\\n\",\"\"))\n",
    "Brands"
   ]
  },
  {
   "cell_type": "code",
   "execution_count": 67,
   "id": "4e6042b1",
   "metadata": {},
   "outputs": [
    {
     "data": {
      "text/plain": [
       "['Windows 11 Home OS17.3\" (3840 x 2160) Display12th Gen Intel Core i9-12900HX | NA Processor2 TB SSD/64 GB DDR5 Memory',\n",
       " 'Windows 11 Home OS17.3\" (1920 x 1080) Display12th Gen Intel Core i9-12900H | 5 GHz Processor1 TB SSD/32 GB DDR5 Memory',\n",
       " 'Windows 11 OS16\" (2560 x 1600) Display12th Gen Intel Core i7-12700H | 3.5 GHz Processor2 TB SSD/32 GB DDR5 Memory',\n",
       " 'Windows 11 Home OS16.1\" (2560 x 1440) Display12th Gen Intel Core i7-12700H | 4.7 GHz Processor1 TB SSD/8 GB DDR5 Memory',\n",
       " 'Windows 11 Home OS15.6\" (2560 x 1440) DisplayAMD Ryzen 9-5900HX | NA Processor512 GB SSD/16 GB DDR4 Memory',\n",
       " 'Windows 11 Home OS15.6\" (1920 x 1080) DisplayAMD 5th Gen Ryzen 9-5900HX | 3.3GHz Processor1 TB SSD/16 GBGB DDR4 Memory',\n",
       " 'Windows 11 Home OS16.1\" (2560 x 1440) DisplayAMD Ryzen™ 9 5900HX | 3.3 GHz Processor1 TB NVMe/16 GB DDR4 Memory',\n",
       " 'Windows 11 Home OS16\" (2560 x 1600) Display12th Gen Intel Core i7-12700H | 2.3 GHz Processor1 TB SSD/16 GB DDR5 Memory',\n",
       " 'Windows 11 Home OS15.6\" (1920 x 1080) DisplayAMD Ryzen R7-5800H | 4.40 GHz Processor512 GB SSD/16 GB DDR4 Memory',\n",
       " 'Windows 11 Home OS15.6 MP | NA DisplayLenovo Ryzen 7-5800H | 3.2 GHz Processor1 TB SSD/16 GB DDR4 Memory']"
      ]
     },
     "execution_count": 67,
     "metadata": {},
     "output_type": "execute_result"
    }
   ],
   "source": [
    "specification_tag=driver.find_elements(By.XPATH,\"//div[@class='Specs-Wrap']\")\n",
    "for i in specification_tag:\n",
    "    Specification.append(str(i.text).replace(\"\\n\",\"\"))\n",
    "Specification"
   ]
  },
  {
   "cell_type": "code",
   "execution_count": 68,
   "id": "ec030697",
   "metadata": {},
   "outputs": [
    {
     "data": {
      "text/plain": [
       "['The very best MSI gaming laptop featuring an Intel processor is the MSI TITAN GT77 - 12UHS. This is the top of the line model from MSI’s recent refresh of their entire gaming lineup and is powered by the Intel Core i9-12900HX which is a 16 Core (8P+8E) processor that has 24 threads and a maximum Turbo power of 157 Watts. The graphics card in this laptop is the NVIDIA RTX 3080 Ti and it too sports a high TGP of 175 Watts. This is one of the most powerful CPU+GPU combinations with plenty of thermal headroom to allow it to operate at higher clock speeds for longer time periods. As for the memory, the MSI GT77-12UHS can have up to 128 GB of DDR5 memory but ships with 64 GB DDR5 clocked at 4800 MT/s. Being a 12th Gen machine also means that the motherboard has PCIe Gen 5.0 lanes for storage devices such as M.2 SSDs. The GT77-12UHS has four M.2 slots of which one slot is PCIe Gen 5 whereas the remaining three are PCIe Gen 4 slots. Then there’s also the display, the GT77-12UHS features a massive 17.3-inch IPS-level 4K panel with a 120 Hz refresh rate. So you can actually enjoy all the high frame-rate gameplay that the powerful hardware enables. And the cherry on the cake? A built-in mechanical keyboard with Cherry MX switches. All this hardware comes at a ridiculous price of INR 5,26,990. As of now, this is at the top among the best performing gaming laptops in the world. ...Read MoreMORE SPECIFICATIONSProcessor : 12th Gen Intel Core i9-12900HX 16 core processorDisplay : 17.3″ (3840 x 2160) screen, 120 Hz refresh rateOS : Windows 11 HomeMemory : 64 GB DDR5 RAM & 2 TB SSDGraphics Processor : 16 GB DDR6 NVIDIA GeForce RTX 3080 Ti Graphics cardBody : 397 x 330 x 23 mm dimension & 3.3 kg weight',\n",
       " 'Alienware, the premium gaming brand from Dell has its own reputation for building some of the meanest gaming machines for more than two decades. The best Alienware gaming laptop featuring an Intel processor is the Alienware x17 R2. This thing packs an Intel Core i9-12900HK which is a 14-Core (6P+8E) processor which has 20 Threads. The lower P-Core count helps it hit slightly higher clock speeds but the Max Turbo power is capped at 115W which is less than what the MSI GT77 sports. As for the graphics card, the Alienware x17 R2 also sports an NVIDIA RTX 3080 Ti with the peak TGP set to 175 Watts. The CPU+GPU combination of the Alienware x17 R2 comes close to the MSI GT77. As for the memory, the Alienware x17 R2 ships with 32 GB of DDR5 RAM clocked at 4800 MT/s. The display on the x17 R2 is a 17.3-inch FHD 360 Hz panel compared to the 120 Hz 4K panel on the MSI GT77. You’ll end up seeing higher frame rates on the Alienware x17 R2 without any tearing whereas you’ll see crisper visuals at high frame rates on the MSI GT77. Both make for great experiences. This configuration of the Dell Alienware x17 R2 goes for INR 3,89,990 making it a good gaming laptop to buy in 2022. ...Read MoreMORE SPECIFICATIONSProcessor : 12th Gen Intel Core i9-12900H 14 core processor with 5 GHz clock speedDisplay : 17.3″ (1920 x 1080) screen, 360 Hz refresh rateOS : Windows 11 HomeMemory : 32 GB DDR5 RAM & 1 TB SSDGraphics Processor : 16 GB DDR6 NVIDIA GEFORCE RTX 3080 Ti Graphics cardBody : 299 x 359 x 21 mm dimension & 2.96 kg weightPrice : ₹ 389,990',\n",
       " 'The Predator lineup from Acer has shown great promise for gamers ever since they showcased the Predator 21X a couple of years ago. Keeping its legacy intact and also being the best Acer gaming laptop featuring an Intel processor is the Acer Predator Triton 500 SE. This machine is powered by an Intel Core i7-12700H which is a 14-Core (6P+8E) processor with 20 Threads. And the graphics card in this machine is the NVIDIA RTX 3070 Ti. The TGP isn’t specified but the RTX 3070 Ti generally ships with a TGP of between 105 to 150 Watts. For the memory, it has 32 GB of LPDDR5 memory clocked at 4800 MT/s and the display is a 16-inch 2560x1600 IPS panel sporting a 240 Hz refresh rate. Acer makes some intelligent decisions with the hardware by picking a Core i7 processor and pairing it with a high-end RTX 3070 Ti. The power backup in this machine is a 4-Cell 99 Wh Li-ion battery which is the highest that you can get in a laptop legally for it to be carried on aeroplanes. And if we are to talk about the networking then the Acer Predator Triton 500 SE comes with Killer Wi-Fi 6E 1675s and Gigabit Ethernet. This laptop gives you great gaming performance that comes close to machines that cost twice as much. Speaking of price, the Acer Predator Triton 500 SE PT516-52s is priced at INR 2,29,999 in India. ...Read MoreMORE SPECIFICATIONSProcessor : 12th Gen Intel Core i7-12700H 14 core processor with 3.5 GHz clock speedDisplay : 16″ (2560 x 1600) screenOS : Windows 11Memory : 32 GB DDR5 RAM & 2 TB SSDGraphics Processor : 8 GB DDR6 NVIDIA GeForce RTX 3070 Ti Graphics cardBody : 262 x 359 x 20 mm dimension & 2.4 kg weightPrice : ₹ 229,990AVAILABLE ₹ 229,990BUY NOW',\n",
       " 'Omen by HP is a premium gaming lineup which is right up there with their Victus gaming laptops. The best HP gaming laptop with an Intel processor is the Omen by HP (16-B1371TX). Like the Acer Predator, this too is powered by the Intel Core i7-12700H which is a 14-Core (6P+8E) processor with 20 Threads. And the graphics card in this machine is the NVIDIA RTX 3070 Ti. Even the memory is a similar configuration with 32 GB of DDR5 RAM rated for 4800 MT/s. One of the great things about the Omen laptops is that the audio setup is powered by Bang&Olufsen for some really great-sounding audio. For the display, the Omen by HP (16-B1371TX) sports a 16.1-inch 165 Hz 2560x1440 IPS panel that is the best of both worlds, resolution and refresh rate. Moreover, it is also NVIDIA G-Sync certified. The keyboard on the HP Omen (16-B1371TX) features a 4-zone RGB backlighting that adds a bit of pizazz to the overall aesthetic. In a way, the HP Omen (16-B1371TX) checks all the boxes and it does so with a price tag of INR 1,82,999 in India. ...Read MoreMORE SPECIFICATIONSProcessor : 12th Gen Intel Core i7-12700H 14 core processor with 4.7 GHz clock speedDisplay : 16.1″ (2560 x 1440) screenOS : Windows 11 HomeMemory : 8 GB DDR5 RAM & 1 TB SSDGraphics Processor : 8 GB GDDR6 NVIDIA GeForce RTX 3070 Graphics cardBody : 369 x 248 x 23 mm dimension & 2.32 kg weightPrice : ₹ 176,290AVAILABLE ₹ 176,290BUY NOW',\n",
       " 'Acer Predator Helios 300 AN515-45 is the best Acer gaming laptop featuring an AMD processor. It is powered by the AMD Ryzen 9 5900HX which is an 8 Core processor that gives you 16 Threads. AMD’s Ryzen 5000 series processors have broken performance records and set new benchmarks and this is the best mobile processor of the entire series. Acer has paired this with the NVIDIA RTX 3070. Together, the two make for a great combination for gaming. On the memory front, there’s 16 GB of DDR4 RAM clocked at 3200 MT/s. The display on the Acer Predator Helios 300 is a 15.6-inch 2560x1440 IPS panel that is tuned for a refresh rate of 165 Hz. Acer also packs Killer E2600 Ethernet in the Predator Helios 300 for folks who’d like to tweak their network prioritisation settings. The TGP for the RTX 3070 has not been mentioned here but a high TGP RTX 3070 can even best a low TGP RTX 3070 Ti, so there might be a few surprises there. For all these features, the Acer Predator Helios 300 carries a price tag of INR 1,39,990 in India. ...Read MoreMORE SPECIFICATIONSProcessor : AMD Ryzen 9-5900HX 8 core processorDisplay : 15.6″ (2560 x 1440) screen, 165 Hz refresh rateOS : Windows 11 HomeMemory : 16 GB DDR4 RAM & 512 GB SSDGraphics Processor : 8 GB DDR6 NVIDIA GeForce RTX 3070 Graphics cardBody : 363 x 255 x 23.9 mm dimension & 2.4 kg weightPrice : ₹ 172,999Acer Predator Helios 300 AN515-45 AlternativesAcer Aspire 3₹ 20500Acer Swift 7₹ 110000Acer Aspire 5₹ 49790',\n",
       " \"The best MSI gaming laptop with an AMD processor is the MSI Delta 15 A5EFK-083IN. It features the top of the line AMD Ryzen 9 5900 HX which is a great 8-Core / 16-Thread processor for gaming and for the graphics card it has an AMD Radeon RX 6700M. The Radeon RX 6000 series graphics cards are well known for their power efficiency thanks to the efficient 7nm process on which the Radeon RX 6000 GPUs are built on. The RX 6700M, in particular, is a great high-end graphics card and can best even an RTX 3070 considering the TGP ranges of the GPUs. For the memory, the MSI Delta 15 comes with 16 GB of dual-channel DDR4 RAM clocked at 3200 MT/s. Coming to the display, the MSI Delta 15 sports a 15.6-inch FHD IPS-level 240 Hz panel that's geared to take advantage of AMD FreeSync. Even the backup is great with an 82 Wh 4-Cell Li-Ion battery. The keyboard on the Delta 15 is backlit and there's always the MSI Dragon Centre management software to help optimise the way you use the laptop. The MSI Delta 15 A5EFK-083IN retails for INR 1,14,990 in India. ...Read MoreMORE SPECIFICATIONSProcessor : AMD 5th Gen Ryzen 9-5900HX 8 core processor with 3.3GHz clock speedDisplay : 15.6″ (1920 x 1080) screen, 240Hz refresh rateOS : Windows 11 HomeMemory : 16 GB DDR4 RAM & 1 TB SSDGraphics Processor : 10 GB DDR6 AMD Radeon RX 6700M Graphics cardBody : 357 x 247 x 19 mm dimension & 1.9 kg weightPrice : ₹ 188,990MSI Delta 15 (A5EFK-083IN) AlternativesMSI GF63 Thin 9SC-240IN₹ 60990MSI GS63VR Stealth Pro₹ 683486MSI GT73VR 7RF Titan Pro 4K₹ 334990\",\n",
       " \"Another worthy gaming laptop from the Omen lineup from HP is the 16-c0141AX. In fact, it's also the best HP gaming laptop with an AMD Processor. This unit also features the best AMD mobile processor which is the AMD Ryzen 9 5900 HX, an 8-Core / 16-Thread flagship CPU that can make mincemeat of all current AAA video games. And for the graphics, HP has included the AMD Radeon RX 6600M which is very power efficient like most GPUs in the RX 6000 series and often performs better than the NVIDIA RTX 3060. Aside from these there’s 16 GB of DDR4 RAM, and for the display, the Omen by HP (16-c0141AX) has a 16.1-inch 2560x1440 IPS panel and it even has a high refresh rate of 165 Hz. HP introduced the OMEN Tempest Cooling technology for their laptops to improve their cooling. Like other Omen laptops, this model also has an audio solution powered by Bang&Olufsen which is a well-known premium audio brand. The Omen by HP (16-c0141AX) retails for INR 1,34,999 in India. ...Read MoreMORE SPECIFICATIONSProcessor : AMD Ryzen™ 9 5900HX 8 core processor with 3.3 GHz clock speedDisplay : 16.1″ (2560 x 1440) screenOS : Windows 11 HomeMemory : 16 GB DDR4 RAM & 1 TB NVMeGraphics Processor : 8 GB GDDR6 AMD Radeon™ RX 6600M Graphics cardBody : 36.92 x 24.8 x 2.3 mm dimension & 2.3 kg weightPrice : ₹ 124,990AVAILABLE ₹ 124,990BUY NOWSee more offer detailssee more prices\",\n",
       " 'Lenovo has gone a little mainstream with their gaming laptops and the best Lenovo gaming laptop featuring an Intel processor happens to be the Lenovo Legion 5i Pro (82RF00MGIN). It features the powerful Intel Core i7-12700H which is a 14-Core (6P+8E) processor with 20 Threads. There’s 16 GB of DDR5 RAM rated for 4800 MT/s and the graphics card is the NVIDIA RTX 3060. There’s no mention of the TGP of the card on the official spec sheets. Lenovo offers a 16-inch 2560x1600 IPS panel on the Lenovo Legion 5i Pro and it also has a refresh rate of 165 Hz. While most of the specs might seem a little tame compared to the top laptop on this page, the battery is where Lenovo doesn’t hold back any punches. This machine features an 80 Wh 4-Cell battery which is pretty high among gaming laptops. Then there’s the audio setup which is enhanced by Nahimic’s AI-based audio solution for different sound profiles and some of the features can improve your gaming experience. The Lenovo Legion 5i Pro (82RF00MGIN) is priced at INR 1,64,990 in India. ...Read MoreMORE SPECIFICATIONSProcessor : 12th Gen Intel Core i7-12700H 14 core processor with 2.3 GHz clock speedDisplay : 16″ (2560 x 1600) screen, 165 Hz refresh rateOS : Windows 11 HomeMemory : 16 GB DDR5 RAM & 1 TB SSDGraphics Processor : 6 GB DDR6 NVIDIA GeForce RTX 3060 Graphics cardBody : 360 x 264 x 20 mm dimension & 2.49 kg weightPrice : ₹ 162,869AVAILABLE ₹ 162,869BUY NOW',\n",
       " 'Dell not only has gaming laptops under the Dell Gaming brand but also under the Alienware brand. Together, both of them make up for a diverse set of configurations featuring the best hardware that money can buy. If you’re looking for the best Alienware gaming laptop with an AMD processor then the aptly named Alienware m15 R5 Ryzen Edition should be first on your list. This machine features the AMD Ryzen 7 5800H which is an 8-Core / 16-Thread CPU and for the graphics bit, it has an NVIDIA RTX 3060. Being an Alienware machine, you can safely assume that the TGP on the RTX 3060 will be scaled to its maximum allowed limits. As for the networking bit, the Alienware m15 R5 Ryzen Edition comes with Killer Wireless Wi-Fi 6E (1650) which is a top-tier Wi-Fi card that allows you to prioritise networking traffic so that your online gaming experience remains unhampered. As for the display, the Alienware m15 R5 Ryzen Edition comes with a 15.6-inch FHD panel tweaked for a refresh rate of 165 Hz. The Alienware m15 R5 Ryzen Edition retails for INR 1,44,989 in India. ...Read MoreMORE SPECIFICATIONSProcessor : AMD Ryzen R7-5800H 8 core processor with 4.40 GHz clock speedDisplay : 15.6″ (1920 x 1080) screen, 165Hz refresh rateOS : Windows 11 HomeMemory : 16 GB DDR4 RAM & 512 GB SSDGraphics Processor : 6 GB DDR6 NVIDIA GeForce RTX 3060 Graphics cardBody : 356.2 x 272.5 x 22.85 mm dimension & 2.69 kg weightPrice : ₹ 174,000AVAILABLE ₹ 174,000BUY NOW',\n",
       " 'Lenovo has been pushing for thinner gaming laptops and the fruits of their labour can be clearly seen in the Lenovo Slim 7 Gen 6 gaming laptop. It is the best Lenovo gaming laptop featuring AMD hardware. For the processor it has an AMD Ryzen 7 5800H which is an 8-Core / 16-Thread CPU similar to the Ryzen 9 5900HX but with a lower TDP cap and slightly lower clock speeds. Nevertheless, for gaming, it’s a great processor. The Ryzen 7 5800H is clubbed with the NVIDIA RTX 3060 and there’s even 16 GB of DDR4 RAM clocked at 3200 MT/s. Like the other Lenovo machine in this list, even the Lenovo Slim 7 Gen 6 comes with a 15.6-inch 2560x1440 IPS panel sporting a 165 Hz refresh rate. And it is also certified to work with NVIDIA G-Sync technology. The thin chassis of the Lenovo Slim 7 Gen 6 is made with a combination of aluminium and magnesium for a solid finish and the chassis also doubles up as a passive heat sink. For the power backup, the Lenovo Slim 7 Gen 6 features a 71 Wh 4-Cell Lithium Ion battery. Gamers can find the Lenovo Slim 7 Gen 6 retailing for INR 1,44,990 in India. ...Read MoreMORE SPECIFICATIONSProcessor : Lenovo Ryzen 7-5800H processor with 3.2 GHz clock speedDisplay : 15.6″ screen, 165 Hz refresh rateOS : Windows 11 HomeMemory : 16 GB DDR4 RAM & 1 TB SSDGraphics Processor : 6 GB DDR6 NVIDIA GeForce 3060 Max-Q Graphics cardBody : 356 x 252 x 16 mm dimension & 1.9 kg weightPrice : ₹ 131,990AVAILABLE ₹ 131,990BUY NOWOFFERSplit your bill in 3 for free with No Cost EMI. Offer available on products priced ₹5000 & more. Select \"Tata Pay\" on the payment page to avail the offer. T&C apply +4 More Offer(s)see more prices']"
      ]
     },
     "execution_count": 68,
     "metadata": {},
     "output_type": "execute_result"
    }
   ],
   "source": [
    "description=driver.find_elements(By.XPATH,\"//div[@class='Section-center']\")\n",
    "for i in description:\n",
    "    Products_Description.append(str(i.text).replace(\"\\n\",\"\"))\n",
    "Products_Description"
   ]
  },
  {
   "cell_type": "code",
   "execution_count": 76,
   "id": "cc24b55b",
   "metadata": {},
   "outputs": [
    {
     "data": {
      "text/plain": [
       "['389,990BUY NOW',\n",
       " '229,990BUY NOW',\n",
       " 'AVAILABLE 229,990BUY NOW',\n",
       " '176,290BUY NOW',\n",
       " 'AVAILABLE 176,290BUY NOW',\n",
       " 'Acer Aspire 320500',\n",
       " 'Acer Swift 7110000',\n",
       " 'Acer Aspire 549790',\n",
       " 'MSI GF63 Thin 9SC-240IN60990',\n",
       " 'MSI GS63VR Stealth Pro683486',\n",
       " 'MSI GT73VR 7RF Titan Pro 4K334990',\n",
       " '124,990BUY NOW',\n",
       " 'AVAILABLE 124,990BUY NOW',\n",
       " '162,869BUY NOW',\n",
       " 'AVAILABLE 162,869BUY NOW',\n",
       " '174,000BUY NOW',\n",
       " 'AVAILABLE 174,000BUY NOW',\n",
       " '131,990BUY NOW',\n",
       " 'AVAILABLE 131,990BUY NOW']"
      ]
     },
     "execution_count": 76,
     "metadata": {},
     "output_type": "execute_result"
    }
   ],
   "source": [
    "Price=[]\n",
    "price_tag=driver.find_elements(By.PARTIAL_LINK_TEXT,\"₹ \")\n",
    "for i in price_tag:\n",
    "    Price.append(str(i.text).replace(\"\\n\",\"\").replace('₹ ',''))\n",
    "Price"
   ]
  },
  {
   "cell_type": "code",
   "execution_count": 83,
   "id": "812f3cf0",
   "metadata": {},
   "outputs": [],
   "source": [
    "laptop=pd.DataFrame()\n",
    "laptop['Brands']=Brands[0:9]\n",
    "laptop['Price']=Price[0:9]\n",
    "laptop['Specification']=Specification[0:9]\n",
    "laptop['Description']=Products_Description[0:9]"
   ]
  },
  {
   "cell_type": "code",
   "execution_count": 84,
   "id": "f7b057a8",
   "metadata": {},
   "outputs": [
    {
     "data": {
      "text/html": [
       "<div>\n",
       "<style scoped>\n",
       "    .dataframe tbody tr th:only-of-type {\n",
       "        vertical-align: middle;\n",
       "    }\n",
       "\n",
       "    .dataframe tbody tr th {\n",
       "        vertical-align: top;\n",
       "    }\n",
       "\n",
       "    .dataframe thead th {\n",
       "        text-align: right;\n",
       "    }\n",
       "</style>\n",
       "<table border=\"1\" class=\"dataframe\">\n",
       "  <thead>\n",
       "    <tr style=\"text-align: right;\">\n",
       "      <th></th>\n",
       "      <th>Brands</th>\n",
       "      <th>Price</th>\n",
       "      <th>Specification</th>\n",
       "      <th>Description</th>\n",
       "    </tr>\n",
       "  </thead>\n",
       "  <tbody>\n",
       "    <tr>\n",
       "      <th>0</th>\n",
       "      <td>1.MSI Titan GT77-12UHS</td>\n",
       "      <td>389,990BUY NOW</td>\n",
       "      <td>Windows 11 Home OS17.3\" (3840 x 2160) Display1...</td>\n",
       "      <td>The very best MSI gaming laptop featuring an I...</td>\n",
       "    </tr>\n",
       "    <tr>\n",
       "      <th>1</th>\n",
       "      <td>3.Acer Predator Triton 500 SE PT516-52s</td>\n",
       "      <td>229,990BUY NOW</td>\n",
       "      <td>Windows 11 Home OS17.3\" (1920 x 1080) Display1...</td>\n",
       "      <td>Alienware, the premium gaming brand from Dell ...</td>\n",
       "    </tr>\n",
       "    <tr>\n",
       "      <th>2</th>\n",
       "      <td>4.Omen By HP (16-B1371TX)</td>\n",
       "      <td>AVAILABLE 229,990BUY NOW</td>\n",
       "      <td>Windows 11 OS16\" (2560 x 1600) Display12th Gen...</td>\n",
       "      <td>The Predator lineup from Acer has shown great ...</td>\n",
       "    </tr>\n",
       "    <tr>\n",
       "      <th>3</th>\n",
       "      <td>5.Acer Predator Helios 300 AN515-45</td>\n",
       "      <td>176,290BUY NOW</td>\n",
       "      <td>Windows 11 Home OS16.1\" (2560 x 1440) Display1...</td>\n",
       "      <td>Omen by HP is a premium gaming lineup which is...</td>\n",
       "    </tr>\n",
       "    <tr>\n",
       "      <th>4</th>\n",
       "      <td>6.MSI Delta 15 (A5EFK-083IN)</td>\n",
       "      <td>AVAILABLE 176,290BUY NOW</td>\n",
       "      <td>Windows 11 Home OS15.6\" (2560 x 1440) DisplayA...</td>\n",
       "      <td>Acer Predator Helios 300 AN515-45 is the best ...</td>\n",
       "    </tr>\n",
       "    <tr>\n",
       "      <th>5</th>\n",
       "      <td>7.Omen By HP (16-C0141AX)</td>\n",
       "      <td>Acer Aspire 320500</td>\n",
       "      <td>Windows 11 Home OS15.6\" (1920 x 1080) DisplayA...</td>\n",
       "      <td>The best MSI gaming laptop with an AMD process...</td>\n",
       "    </tr>\n",
       "    <tr>\n",
       "      <th>6</th>\n",
       "      <td>8.Lenovo Legion 5i Pro (82RF00MGIN)</td>\n",
       "      <td>Acer Swift 7110000</td>\n",
       "      <td>Windows 11 Home OS16.1\" (2560 x 1440) DisplayA...</td>\n",
       "      <td>Another worthy gaming laptop from the Omen lin...</td>\n",
       "    </tr>\n",
       "    <tr>\n",
       "      <th>7</th>\n",
       "      <td>9.Alienware M15 R5 Ryzen Edition Icc-C780001win</td>\n",
       "      <td>Acer Aspire 549790</td>\n",
       "      <td>Windows 11 Home OS16\" (2560 x 1600) Display12t...</td>\n",
       "      <td>Lenovo has gone a little mainstream with their...</td>\n",
       "    </tr>\n",
       "    <tr>\n",
       "      <th>8</th>\n",
       "      <td>10.Lenovo Slim 7 Gen 6 (82K8002JIN)</td>\n",
       "      <td>MSI GF63 Thin 9SC-240IN60990</td>\n",
       "      <td>Windows 11 Home OS15.6\" (1920 x 1080) DisplayA...</td>\n",
       "      <td>Dell not only has gaming laptops under the Del...</td>\n",
       "    </tr>\n",
       "  </tbody>\n",
       "</table>\n",
       "</div>"
      ],
      "text/plain": [
       "                                            Brands  \\\n",
       "0                           1.MSI Titan GT77-12UHS   \n",
       "1          3.Acer Predator Triton 500 SE PT516-52s   \n",
       "2                        4.Omen By HP (16-B1371TX)   \n",
       "3              5.Acer Predator Helios 300 AN515-45   \n",
       "4                     6.MSI Delta 15 (A5EFK-083IN)   \n",
       "5                        7.Omen By HP (16-C0141AX)   \n",
       "6              8.Lenovo Legion 5i Pro (82RF00MGIN)   \n",
       "7  9.Alienware M15 R5 Ryzen Edition Icc-C780001win   \n",
       "8              10.Lenovo Slim 7 Gen 6 (82K8002JIN)   \n",
       "\n",
       "                          Price  \\\n",
       "0                389,990BUY NOW   \n",
       "1                229,990BUY NOW   \n",
       "2      AVAILABLE 229,990BUY NOW   \n",
       "3                176,290BUY NOW   \n",
       "4      AVAILABLE 176,290BUY NOW   \n",
       "5            Acer Aspire 320500   \n",
       "6            Acer Swift 7110000   \n",
       "7            Acer Aspire 549790   \n",
       "8  MSI GF63 Thin 9SC-240IN60990   \n",
       "\n",
       "                                       Specification  \\\n",
       "0  Windows 11 Home OS17.3\" (3840 x 2160) Display1...   \n",
       "1  Windows 11 Home OS17.3\" (1920 x 1080) Display1...   \n",
       "2  Windows 11 OS16\" (2560 x 1600) Display12th Gen...   \n",
       "3  Windows 11 Home OS16.1\" (2560 x 1440) Display1...   \n",
       "4  Windows 11 Home OS15.6\" (2560 x 1440) DisplayA...   \n",
       "5  Windows 11 Home OS15.6\" (1920 x 1080) DisplayA...   \n",
       "6  Windows 11 Home OS16.1\" (2560 x 1440) DisplayA...   \n",
       "7  Windows 11 Home OS16\" (2560 x 1600) Display12t...   \n",
       "8  Windows 11 Home OS15.6\" (1920 x 1080) DisplayA...   \n",
       "\n",
       "                                         Description  \n",
       "0  The very best MSI gaming laptop featuring an I...  \n",
       "1  Alienware, the premium gaming brand from Dell ...  \n",
       "2  The Predator lineup from Acer has shown great ...  \n",
       "3  Omen by HP is a premium gaming lineup which is...  \n",
       "4  Acer Predator Helios 300 AN515-45 is the best ...  \n",
       "5  The best MSI gaming laptop with an AMD process...  \n",
       "6  Another worthy gaming laptop from the Omen lin...  \n",
       "7  Lenovo has gone a little mainstream with their...  \n",
       "8  Dell not only has gaming laptops under the Del...  "
      ]
     },
     "execution_count": 84,
     "metadata": {},
     "output_type": "execute_result"
    }
   ],
   "source": [
    "laptop\n",
    "\n"
   ]
  },
  {
   "cell_type": "code",
   "execution_count": null,
   "id": "1df0b1f2",
   "metadata": {},
   "outputs": [],
   "source": [
    "laptop.to_csv('laptop.csv')"
   ]
  },
  {
   "cell_type": "markdown",
   "id": "8bf6405c",
   "metadata": {},
   "source": [
    "# 8. Write a python program to scrape the details for all billionaires from www.forbes.com. Details to be scrapped: “Rank”, “Name”, “Net worth”, “Age”, “Citizenship”, “Source”, “Industry”."
   ]
  },
  {
   "cell_type": "code",
   "execution_count": 85,
   "id": "c0b77096",
   "metadata": {},
   "outputs": [],
   "source": [
    "driver = webdriver. Chrome (r\"C:\\Users\\Kundan Patil\\DS0522\\INTERNSHIP\\Web Scraping\\chromedriver.exe\")\n",
    "#Let's maximize the automated chrome window\n",
    "driver.maximize_window()\n",
    "url=\"https://www.forbes.com/billionaires/\"\n",
    "driver.get(url)"
   ]
  },
  {
   "cell_type": "code",
   "execution_count": 86,
   "id": "8484740d",
   "metadata": {},
   "outputs": [],
   "source": [
    "Name=[]\n",
    "Rank=[]\n",
    "Net_worth=[]\n",
    "Citizenship=[]"
   ]
  },
  {
   "cell_type": "code",
   "execution_count": 88,
   "id": "13d731dc",
   "metadata": {},
   "outputs": [],
   "source": [
    "name_tag=driver.find_elements(By.XPATH,'//div[@class=\"personName\"]/div[1]')\n",
    "for x in name_tag:\n",
    "    Name.append(x.text)"
   ]
  },
  {
   "cell_type": "code",
   "execution_count": 89,
   "id": "721cada2",
   "metadata": {},
   "outputs": [
    {
     "name": "stdout",
     "output_type": "stream",
     "text": [
      "200 ['Elon Musk', 'Jeff Bezos', 'Bernard Arnault & family', 'Bill Gates', 'Warren Buffett', 'Larry Page', 'Sergey Brin', 'Larry Ellison', 'Steve Ballmer', 'Mukesh Ambani', 'Gautam Adani', 'Michael Bloomberg', 'Carlos Slim Helu & family', 'Francoise Bettencourt Meyers & family', 'Mark Zuckerberg', 'Jim Walton', 'Zhong Shanshan', 'Alice Walton', 'Rob Walton', 'Changpeng Zhao', 'Charles Koch', 'Julia Koch & family', 'Amancio Ortega', 'Michael Dell', 'Zhang Yiming', 'David Thomson & family', 'Phil Knight & family', 'Dieter Schwarz', 'Robin Zeng', 'MacKenzie Scott', 'Rodolphe Saadé & family', 'François Pinault & family', 'Klaus-Michael Kuehne', 'Ma Huateng', 'Beate Heister & Karl Albrecht Jr. & family', 'Giovanni Ferrero', 'Li Ka-shing', 'Stephen Schwarzman', 'Lee Shau Kee', 'Len Blavatnik', 'Jacqueline Mars', 'John Mars', 'Alain Wertheimer', 'Gerard Wertheimer', 'German Larrea Mota Velasco & family', 'Gina Rinehart', 'Shiv Nadar', 'Jim Simons', 'He Xiangjian', 'Miriam Adelson & family', 'Dietrich Mateschitz', 'Leonardo Del Vecchio & family', 'Ken Griffin', 'Tadashi Yanai & family', 'William Lei Ding', 'Susanne Klatten', 'Cyrus Poonawalla', 'Wang Wei', 'Qin Yinglin', 'Sam Bankman-Fried', 'Takemitsu Takizaki', 'Li Shufu', 'Emmanuel Besnier', 'R. Budi Hartono', 'Leonard Lauder', 'Guillaume Pousaz', 'Iris Fontbona & family', 'Jack Ma', 'Michael Hartono', 'Eric Schmidt', 'Ray Dalio', 'Daniel Gilbert', 'Thomas Frist, Jr. & family', 'Masayoshi Son', 'Abigail Johnson', 'Rupert Murdoch & family', 'Stefan Quandt', 'Jensen Huang', 'Huang Shilin', 'Thomas Peterffy', 'Radhakishan Damani', 'Pang Kang', 'Wang Chuanfu', 'Reinhold Wuerth & family', 'Theo Albrecht, Jr. & family', 'Yang Huiyan & family', 'Vladimir Lisin', 'Fan Hongwei', 'Lakshmi Mittal', 'Andrew Forrest', 'Jiang Rensheng & family', 'Savitri Jindal & family', 'Wang Wenyin', 'Li Xiting', 'Stefan Persson', 'Steve Cohen', 'Vladimir Potanin', 'Harold Hamm & family', 'Sun Piaoyang', 'Luo Liguo & family', 'Peter Woo', 'Gianluigi & Rafaela Aponte', 'David Tepper', 'Renata Kellnerova & family', 'John Menard, Jr.', 'Kumar Birla', 'Carl Icahn', 'Hank & Doug Meijer', 'Lukas Walton', 'Laurene Powell Jobs & family', 'James Ratcliffe', 'Donald Bren', 'Xu Hang', 'Lu Xiangyang', 'Dilip Shanghvi', 'Wei Jianjun & family', 'Jorge Paulo Lemann & family', 'Eyal Ofer', 'Mike Cannon-Brookes', 'Wu Yajun', 'Charlene de Carvalho-Heineken & family', 'Michael Platt', 'Pavel Durov', 'Scott Farquhar', 'Pallonji Mistry', 'Dang Yanbao', 'Robert Pera', 'Donald Newhouse', 'Uday Kotak', 'Aliko Dangote', 'Leonid Mikhelson', 'Sunil Mittal & family', 'Robert & Philip Ng', 'Liu Hanyuan', 'Joseph Lau', 'Anders Holch Povlsen', 'Dhanin Chearavanont', 'Gong Hongjia & family', 'Liu Yongxing', 'Alexey Mordashov', 'Wang Jianlin', 'David Duffield', 'Li Zhenguo & family', 'Harry Triguboff', 'Zhang Zhidong', 'Chen Bang', 'John Doerr', 'Hinduja brothers', 'Kwong Siu-hing', 'Pei Zhenhua', 'Ricardo Salinas Pliego & family', 'Jim Pattison', 'Charles Schwab', 'Goh Cheng Liang', 'Lin Jianhua', 'Charoen Sirivadhanabhakdi', 'Jeff Yass', 'John Fredriksen', 'Andreas Struengmann & family', 'Thomas Struengmann & family', 'Mikhail Fridman', 'Sarath Ratanavadi', 'Robert Kuok', 'Lei Jun', 'Zhang Congyuan', 'Lui Che Woo', 'Brian Chesky', 'Israel Englander', 'Dustin Moskovitz', 'Alisher Usmanov', 'Jay Chaudhry', 'Anthony Pratt', 'Colin Zheng Huang', 'Jin Baofang', 'Pierre Omidyar', 'Gennady Timchenko', 'Carl Cook', 'Andrey Melnichenko', 'Wang Xing', 'Philip Anschutz', 'David Cheriton', 'Alexander Otto', 'Diane Hendricks', 'Stanley Kroenke', 'Jerry Jones', 'Quek Leng Chan', 'Eduardo Saverin', 'Vagit Alekperov', 'Richard Liu', 'Idan Ofer', 'Melker Schorling & family', 'Chase Coleman, III.', 'Shuirong Li', 'Stefano Pessina', 'Mikhail Prokhorov', 'Marcel Herrmann Telles', 'Leon Black', 'Joe Gebbia', 'David Geffen', 'Yu Renrong']\n"
     ]
    }
   ],
   "source": [
    "print(len(Name),Name)"
   ]
  },
  {
   "cell_type": "code",
   "execution_count": 90,
   "id": "595aa6fc",
   "metadata": {},
   "outputs": [
    {
     "name": "stdout",
     "output_type": "stream",
     "text": [
      "200 ['219  Billion Dollers', '171  Billion Dollers', '158  Billion Dollers', '129  Billion Dollers', '118  Billion Dollers', '111  Billion Dollers', '107  Billion Dollers', '106  Billion Dollers', '91.4  Billion Dollers', '90.7  Billion Dollers', '90  Billion Dollers', '82  Billion Dollers', '81.2  Billion Dollers', '74.8  Billion Dollers', '67.3  Billion Dollers', '66.2  Billion Dollers', '65.7  Billion Dollers', '65.3  Billion Dollers', '65  Billion Dollers', '65  Billion Dollers', '60  Billion Dollers', '60  Billion Dollers', '59.6  Billion Dollers', '55.1  Billion Dollers', '50  Billion Dollers', '49.2  Billion Dollers', '47.3  Billion Dollers', '47.1  Billion Dollers', '44.8  Billion Dollers', '43.6  Billion Dollers', '41.4  Billion Dollers', '40.4  Billion Dollers', '37.3  Billion Dollers', '37.2  Billion Dollers', '36.8  Billion Dollers', '36.2  Billion Dollers', '34.8  Billion Dollers', '34.8  Billion Dollers', '32.6  Billion Dollers', '32.5  Billion Dollers', '31.7  Billion Dollers', '31.7  Billion Dollers', '31.2  Billion Dollers', '31.2  Billion Dollers', '30.8  Billion Dollers', '30.2  Billion Dollers', '28.7  Billion Dollers', '28.6  Billion Dollers', '28.3  Billion Dollers', '27.5  Billion Dollers', '27.4  Billion Dollers', '27.3  Billion Dollers', '27.2  Billion Dollers', '26.1  Billion Dollers', '25.2  Billion Dollers', '24.3  Billion Dollers', '24.3  Billion Dollers', '24.3  Billion Dollers', '24.1  Billion Dollers', '24  Billion Dollers', '23.9  Billion Dollers', '23.7  Billion Dollers', '23.5  Billion Dollers', '23.2  Billion Dollers', '23.1  Billion Dollers', '23  Billion Dollers', '22.8  Billion Dollers', '22.8  Billion Dollers', '22.3  Billion Dollers', '22.1  Billion Dollers', '22  Billion Dollers', '22  Billion Dollers', '21.8  Billion Dollers', '21.3  Billion Dollers', '21.2  Billion Dollers', '20.8  Billion Dollers', '20.7  Billion Dollers', '20.6  Billion Dollers', '20.3  Billion Dollers', '20.1  Billion Dollers', '20  Billion Dollers', '19.6  Billion Dollers', '19.5  Billion Dollers', '19  Billion Dollers', '18.7  Billion Dollers', '18.7  Billion Dollers', '18.4  Billion Dollers', '18.2  Billion Dollers', '17.9  Billion Dollers', '17.8  Billion Dollers', '17.7  Billion Dollers', '17.7  Billion Dollers', '17.7  Billion Dollers', '17.6  Billion Dollers', '17.6  Billion Dollers', '17.4  Billion Dollers', '17.3  Billion Dollers', '17.2  Billion Dollers', '17.1  Billion Dollers', '17  Billion Dollers', '17  Billion Dollers', '16.8  Billion Dollers', '16.7  Billion Dollers', '16.6  Billion Dollers', '16.6  Billion Dollers', '16.5  Billion Dollers', '16.5  Billion Dollers', '16.5  Billion Dollers', '16.5  Billion Dollers', '16.4  Billion Dollers', '16.3  Billion Dollers', '16.2  Billion Dollers', '16.1  Billion Dollers', '15.7  Billion Dollers', '15.6  Billion Dollers', '15.5  Billion Dollers', '15.4  Billion Dollers', '15.4  Billion Dollers', '15.3  Billion Dollers', '15.3  Billion Dollers', '15.2  Billion Dollers', '15.2  Billion Dollers', '15.1  Billion Dollers', '15.1  Billion Dollers', '15  Billion Dollers', '14.8  Billion Dollers', '14.6  Billion Dollers', '14.4  Billion Dollers', '14.3  Billion Dollers', '14  Billion Dollers', '14  Billion Dollers', '13.9  Billion Dollers', '13.7  Billion Dollers', '13.65  Billion Dollers', '13.6  Billion Dollers', '13.6  Billion Dollers', '13.5  Billion Dollers', '13.2  Billion Dollers', '13.2  Billion Dollers', '13.2  Billion Dollers', '13.2  Billion Dollers', '12.9  Billion Dollers', '12.9  Billion Dollers', '12.8  Billion Dollers', '12.8  Billion Dollers', '12.7  Billion Dollers', '12.7  Billion Dollers', '12.7  Billion Dollers', '12.6  Billion Dollers', '12.5  Billion Dollers', '12.4  Billion Dollers', '12.2  Billion Dollers', '12.2  Billion Dollers', '12.1  Billion Dollers', '12.1  Billion Dollers', '12  Billion Dollers', '12  Billion Dollers', '11.9  Billion Dollers', '11.9  Billion Dollers', '11.9  Billion Dollers', '11.8  Billion Dollers', '11.8  Billion Dollers', '11.7  Billion Dollers', '11.7  Billion Dollers', '11.7  Billion Dollers', '11.6  Billion Dollers', '11.5  Billion Dollers', '11.5  Billion Dollers', '11.5  Billion Dollers', '11.5  Billion Dollers', '11.4  Billion Dollers', '11.4  Billion Dollers', '11.3  Billion Dollers', '11.3  Billion Dollers', '11.3  Billion Dollers', '11.3  Billion Dollers', '11.1  Billion Dollers', '11.1  Billion Dollers', '11  Billion Dollers', '10.9  Billion Dollers', '10.9  Billion Dollers', '10.9  Billion Dollers', '10.7  Billion Dollers', '10.7  Billion Dollers', '10.6  Billion Dollers', '10.6  Billion Dollers', '10.6  Billion Dollers', '10.5  Billion Dollers', '10.5  Billion Dollers', '10.5  Billion Dollers', '10.4  Billion Dollers', '10.3  Billion Dollers', '10.3  Billion Dollers', '10.3  Billion Dollers', '10.3  Billion Dollers', '10.3  Billion Dollers', '10  Billion Dollers', '10  Billion Dollers', '10  Billion Dollers', '10  Billion Dollers']\n"
     ]
    }
   ],
   "source": [
    "net=driver.find_elements(By.XPATH,'//div[@class=\"netWorth\"]/div[1]')\n",
    "for x in net:\n",
    "    Net_worth.append(x.text.replace('B',' Billion Dollers').replace('$',''))\n",
    "print(len(Net_worth),Net_worth)"
   ]
  },
  {
   "cell_type": "code",
   "execution_count": 91,
   "id": "30e468bd",
   "metadata": {},
   "outputs": [
    {
     "name": "stdout",
     "output_type": "stream",
     "text": [
      "200 ['United States', 'United States', 'France', 'United States', 'United States', 'United States', 'United States', 'United States', 'United States', 'India', 'India', 'United States', 'Mexico', 'France', 'United States', 'United States', 'China', 'United States', 'United States', 'Canada', 'United States', 'United States', 'Spain', 'United States', 'China', 'Canada', 'United States', 'Germany', 'Hong Kong', 'United States', 'France', 'France', 'Germany', 'China', 'Germany', 'Italy', 'Hong Kong', 'United States', 'Hong Kong', 'United States', 'United States', 'United States', 'France', 'France', 'Mexico', 'Australia', 'India', 'United States', 'China', 'United States', 'Austria', 'Italy', 'United States', 'Japan', 'China', 'Germany', 'India', 'China', 'China', 'United States', 'Japan', 'China', 'France', 'Indonesia', 'United States', 'Switzerland', 'Chile', 'China', 'Indonesia', 'United States', 'United States', 'United States', 'United States', 'Japan', 'United States', 'United States', 'Germany', 'United States', 'China', 'United States', 'India', 'China', 'China', 'Germany', 'Germany', 'China', 'Russia', 'China', 'India', 'Australia', 'China', 'India', 'China', 'Singapore', 'Sweden', 'United States', 'Russia', 'United States', 'China', 'China', 'Hong Kong', 'Switzerland', 'United States', 'Czechia', 'United States', 'India', 'United States', 'United States', 'United States', 'United States', 'United Kingdom', 'United States', 'Hong Kong', 'China', 'India', 'China', 'Brazil', 'Israel', 'Australia', 'China', 'Netherlands', 'United Kingdom', 'United Arab Emirates', 'Australia', 'Ireland', 'China', 'United States', 'United States', 'India', 'Nigeria', 'Russia', 'India', 'Singapore', 'China', 'Hong Kong', 'Denmark', 'Thailand', 'Hong Kong', 'China', 'Russia', 'China', 'United States', 'China', 'Australia', 'China', 'China', 'United States', 'United Kingdom', 'Hong Kong', 'China', 'Mexico', 'Canada', 'United States', 'Singapore', 'China', 'Thailand', 'United States', 'Cyprus', 'Germany', 'Germany', 'Russia', 'Thailand', 'Malaysia', 'China', 'Taiwan', 'Hong Kong', 'United States', 'United States', 'United States', 'Russia', 'United States', 'Australia', 'China', 'China', 'United States', 'Russia', 'United States', 'Russia', 'China', 'United States', 'Canada', 'Germany', 'United States', 'United States', 'United States', 'Malaysia', 'Brazil', 'Russia', 'China', 'Israel', 'Sweden', 'United States', 'China', 'Monaco', 'Russia', 'Brazil', 'United States', 'United States', 'United States', 'China']\n"
     ]
    }
   ],
   "source": [
    "citizenship=driver.find_elements(By.XPATH,'//div[@class=\"countryOfCitizenship\"]')\n",
    "for x in citizenship:\n",
    "    Citizenship.append(x.text)\n",
    "print(len(Citizenship),Citizenship)"
   ]
  },
  {
   "cell_type": "code",
   "execution_count": 92,
   "id": "3cbde5f3",
   "metadata": {},
   "outputs": [
    {
     "name": "stdout",
     "output_type": "stream",
     "text": [
      "200 ['Tesla, SpaceX', 'Amazon', 'LVMH', 'Microsoft', 'Berkshire Hathaway', 'Google', 'Google', 'software', 'Microsoft', 'diversified', 'infrastructure, commodities', 'Bloomberg LP', 'telecom', \"L'Oréal\", 'Facebook', 'Walmart', 'beverages, pharmaceuticals', 'Walmart', 'Walmart', 'cryptocurrency exchange', 'Koch Industries', 'Koch Industries', 'Zara', 'Dell computers', 'TikTok', 'media', 'Nike', 'retail', 'batteries', 'Amazon', 'shipping', 'luxury goods', 'shipping', 'internet media', 'supermarkets', 'Nutella, chocolates', 'diversified', 'investments', 'real estate', 'music, chemicals', 'candy, pet food', 'candy, pet food', 'Chanel', 'Chanel', 'mining', 'mining', 'software services', 'hedge funds', 'home appliances', 'casinos', 'Red Bull', 'eyeglasses', 'hedge funds', 'fashion retail', 'online games', 'BMW, pharmaceuticals', 'vaccines', 'package delivery', 'pig breeding', 'cryptocurrency exchange', 'sensors', 'automobiles', 'cheese', 'banking, tobacco', 'Estee Lauder', 'fintech', 'mining', 'e-commerce', 'banking, tobacco', 'Google', 'hedge funds', 'Quicken Loans', 'hospitals', 'internet, telecom', 'money management', 'newspapers, TV network', 'BMW', 'semiconductors', 'batteries', 'discount brokerage', 'retail, investments', 'soy sauce', 'batteries, automobiles', 'fasteners', \"Aldi, Trader Joe's\", 'real estate', 'steel, transport', 'petrochemicals', 'steel', 'mining', 'vaccines', 'steel', 'mining, copper products', 'medical devices', 'H&M', 'hedge funds', 'metals', 'oil & gas', 'pharmaceuticals', 'chemicals', 'real estate', 'Shipping', 'hedge funds', 'finance, telecommunications', 'home improvement stores', 'commodities', 'investments', 'supermarkets', 'Walmart', 'Apple, Disney', 'chemicals', 'real estate', 'medical devices', 'automobiles, batteries', 'pharmaceuticals', 'automobiles', 'beer', 'real estate, shipping', 'software', 'real estate', 'Heineken', 'hedge funds', 'messaging app', 'software', 'construction', 'coal', 'wireless networking gear', 'media', 'banking', 'cement, sugar', 'gas, chemicals', 'telecom', 'real estate', 'agribusiness', 'real estate', 'fashion retail', 'diversified', 'video surveillance', 'diversified', 'steel, investments', 'real estate', 'business software', 'solar wafers and modules', 'real estate', 'internet media', 'hospitals', 'venture capital', 'diversified', 'real estate', 'batteries', 'retail, media', 'diversified', 'discount brokerage', 'paints', 'solar panel components', 'alcohol, real estate', 'trading, investments', 'shipping', 'pharmaceuticals', 'pharmaceuticals', 'oil, banking, telecom', 'energy', 'palm oil, shipping, property', 'smartphones', 'shoes', 'casinos/hotels', 'Airbnb', 'hedge funds', 'Facebook', 'steel, telecom, investments', 'security software', 'manufacturing', 'e-commerce', 'solar panels', 'eBay, PayPal', 'oil, gas', 'medical devices', 'coal, fertilizers', 'e-commerce', 'investments', 'Google', 'real estate', 'roofing', 'sports, real estate', 'Dallas Cowboys', 'banking, property', 'Facebook', 'oil', 'e-commerce', 'shipping', 'investments', 'investments', 'petrochemicals', 'drugstores', 'investments', 'beer', 'private equity', 'Airbnb', 'movies, record labels', 'semiconductors']\n"
     ]
    }
   ],
   "source": [
    "Source=[]\n",
    "source=driver.find_elements(By.XPATH,'//div[@class=\"expand-row__icon-container\"]/span[1]')\n",
    "for x in source:\n",
    "    Source.append(x.text)\n",
    "print(len(Source),Source)"
   ]
  },
  {
   "cell_type": "code",
   "execution_count": 95,
   "id": "37fedce4",
   "metadata": {},
   "outputs": [
    {
     "name": "stdout",
     "output_type": "stream",
     "text": [
      "200 ['1', '2', '3', '4', '5', '6', '7', '8', '9', '10', '11', '12', '13', '14', '15', '16', '17', '18', '19', '19', '21', '21', '23', '24', '25', '26', '27', '28', '29', '30', '31', '32', '33', '34', '35', '36', '37', '37', '39', '40', '41', '41', '43', '43', '45', '46', '47', '48', '49', '50', '51', '52', '53', '54', '55', '56', '56', '56', '59', '60', '61', '62', '63', '64', '65', '66', '67', '67', '69', '70', '71', '71', '73', '74', '75', '76', '77', '78', '79', '80', '81', '82', '83', '84', '85', '85', '87', '88', '89', '90', '91', '91', '91', '94', '94', '96', '97', '98', '99', '100', '100', '102', '103', '104', '104', '106', '106', '106', '106', '110', '111', '112', '113', '114', '115', '116', '117', '117', '119', '119', '121', '121', '123', '123', '125', '126', '127', '128', '129', '130', '130', '132', '133', '134', '135', '135', '137', '138', '138', '138', '138', '142', '142', '144', '144', '146', '146', '146', '149', '150', '151', '152', '152', '154', '154', '156', '156', '158', '158', '158', '161', '161', '163', '163', '163', '166', '167', '167', '167', '167', '171', '171', '173', '173', '173', '173', '177', '177', '179', '180', '180', '180', '183', '183', '185', '185', '185', '188', '188', '188', '191', '192', '192', '192', '192', '192', '197', '197', '197', '197']\n"
     ]
    }
   ],
   "source": [
    "rank_tag=driver.find_elements(By.XPATH,'//div[@class=\"rank\"]')\n",
    "for x in rank_tag:\n",
    "    Rank.append(x.text.replace('.',''))\n",
    "print(len(Rank),Rank)"
   ]
  },
  {
   "cell_type": "code",
   "execution_count": 96,
   "id": "0a87eb48",
   "metadata": {},
   "outputs": [],
   "source": [
    "billionaires=pd.DataFrame()\n",
    "billionaires['Rank']=Rank\n",
    "billionaires['Name']=Name\n",
    "billionaires['Net Worth']=Net_worth\n",
    "billionaires['Citizenship/Country']=Citizenship\n",
    "billionaires['Source']=Source"
   ]
  },
  {
   "cell_type": "code",
   "execution_count": 97,
   "id": "54ca7fb4",
   "metadata": {},
   "outputs": [
    {
     "data": {
      "text/html": [
       "<div>\n",
       "<style scoped>\n",
       "    .dataframe tbody tr th:only-of-type {\n",
       "        vertical-align: middle;\n",
       "    }\n",
       "\n",
       "    .dataframe tbody tr th {\n",
       "        vertical-align: top;\n",
       "    }\n",
       "\n",
       "    .dataframe thead th {\n",
       "        text-align: right;\n",
       "    }\n",
       "</style>\n",
       "<table border=\"1\" class=\"dataframe\">\n",
       "  <thead>\n",
       "    <tr style=\"text-align: right;\">\n",
       "      <th></th>\n",
       "      <th>Rank</th>\n",
       "      <th>Name</th>\n",
       "      <th>Net Worth</th>\n",
       "      <th>Citizenship/Country</th>\n",
       "      <th>Source</th>\n",
       "    </tr>\n",
       "  </thead>\n",
       "  <tbody>\n",
       "    <tr>\n",
       "      <th>0</th>\n",
       "      <td>1</td>\n",
       "      <td>Elon Musk</td>\n",
       "      <td>219  Billion Dollers</td>\n",
       "      <td>United States</td>\n",
       "      <td>Tesla, SpaceX</td>\n",
       "    </tr>\n",
       "    <tr>\n",
       "      <th>1</th>\n",
       "      <td>2</td>\n",
       "      <td>Jeff Bezos</td>\n",
       "      <td>171  Billion Dollers</td>\n",
       "      <td>United States</td>\n",
       "      <td>Amazon</td>\n",
       "    </tr>\n",
       "    <tr>\n",
       "      <th>2</th>\n",
       "      <td>3</td>\n",
       "      <td>Bernard Arnault &amp; family</td>\n",
       "      <td>158  Billion Dollers</td>\n",
       "      <td>France</td>\n",
       "      <td>LVMH</td>\n",
       "    </tr>\n",
       "    <tr>\n",
       "      <th>3</th>\n",
       "      <td>4</td>\n",
       "      <td>Bill Gates</td>\n",
       "      <td>129  Billion Dollers</td>\n",
       "      <td>United States</td>\n",
       "      <td>Microsoft</td>\n",
       "    </tr>\n",
       "    <tr>\n",
       "      <th>4</th>\n",
       "      <td>5</td>\n",
       "      <td>Warren Buffett</td>\n",
       "      <td>118  Billion Dollers</td>\n",
       "      <td>United States</td>\n",
       "      <td>Berkshire Hathaway</td>\n",
       "    </tr>\n",
       "    <tr>\n",
       "      <th>...</th>\n",
       "      <td>...</td>\n",
       "      <td>...</td>\n",
       "      <td>...</td>\n",
       "      <td>...</td>\n",
       "      <td>...</td>\n",
       "    </tr>\n",
       "    <tr>\n",
       "      <th>195</th>\n",
       "      <td>192</td>\n",
       "      <td>Marcel Herrmann Telles</td>\n",
       "      <td>10.3  Billion Dollers</td>\n",
       "      <td>Brazil</td>\n",
       "      <td>beer</td>\n",
       "    </tr>\n",
       "    <tr>\n",
       "      <th>196</th>\n",
       "      <td>197</td>\n",
       "      <td>Leon Black</td>\n",
       "      <td>10  Billion Dollers</td>\n",
       "      <td>United States</td>\n",
       "      <td>private equity</td>\n",
       "    </tr>\n",
       "    <tr>\n",
       "      <th>197</th>\n",
       "      <td>197</td>\n",
       "      <td>Joe Gebbia</td>\n",
       "      <td>10  Billion Dollers</td>\n",
       "      <td>United States</td>\n",
       "      <td>Airbnb</td>\n",
       "    </tr>\n",
       "    <tr>\n",
       "      <th>198</th>\n",
       "      <td>197</td>\n",
       "      <td>David Geffen</td>\n",
       "      <td>10  Billion Dollers</td>\n",
       "      <td>United States</td>\n",
       "      <td>movies, record labels</td>\n",
       "    </tr>\n",
       "    <tr>\n",
       "      <th>199</th>\n",
       "      <td>197</td>\n",
       "      <td>Yu Renrong</td>\n",
       "      <td>10  Billion Dollers</td>\n",
       "      <td>China</td>\n",
       "      <td>semiconductors</td>\n",
       "    </tr>\n",
       "  </tbody>\n",
       "</table>\n",
       "<p>200 rows × 5 columns</p>\n",
       "</div>"
      ],
      "text/plain": [
       "    Rank                      Name              Net Worth Citizenship/Country  \\\n",
       "0      1                 Elon Musk   219  Billion Dollers       United States   \n",
       "1      2                Jeff Bezos   171  Billion Dollers       United States   \n",
       "2      3  Bernard Arnault & family   158  Billion Dollers              France   \n",
       "3      4                Bill Gates   129  Billion Dollers       United States   \n",
       "4      5            Warren Buffett   118  Billion Dollers       United States   \n",
       "..   ...                       ...                    ...                 ...   \n",
       "195  192    Marcel Herrmann Telles  10.3  Billion Dollers              Brazil   \n",
       "196  197                Leon Black    10  Billion Dollers       United States   \n",
       "197  197                Joe Gebbia    10  Billion Dollers       United States   \n",
       "198  197              David Geffen    10  Billion Dollers       United States   \n",
       "199  197                Yu Renrong    10  Billion Dollers               China   \n",
       "\n",
       "                    Source  \n",
       "0            Tesla, SpaceX  \n",
       "1                   Amazon  \n",
       "2                     LVMH  \n",
       "3                Microsoft  \n",
       "4       Berkshire Hathaway  \n",
       "..                     ...  \n",
       "195                   beer  \n",
       "196         private equity  \n",
       "197                 Airbnb  \n",
       "198  movies, record labels  \n",
       "199         semiconductors  \n",
       "\n",
       "[200 rows x 5 columns]"
      ]
     },
     "execution_count": 97,
     "metadata": {},
     "output_type": "execute_result"
    }
   ],
   "source": [
    "billionaires"
   ]
  },
  {
   "cell_type": "code",
   "execution_count": null,
   "id": "2e7fdb26",
   "metadata": {},
   "outputs": [],
   "source": [
    "billionaires.to_csv('Billionaires.csv')"
   ]
  },
  {
   "cell_type": "markdown",
   "id": "651c82b6",
   "metadata": {},
   "source": [
    "# 9. Write a program to extract at least 500 Comments, Comment upvote and time when comment was posted from any YouTube Video."
   ]
  },
  {
   "cell_type": "code",
   "execution_count": 98,
   "id": "a6b02eb3",
   "metadata": {},
   "outputs": [],
   "source": [
    "driver = webdriver. Chrome (r\"C:\\Users\\Kundan Patil\\DS0522\\INTERNSHIP\\Web Scraping\\chromedriver.exe\")\n",
    "#Let's maximize the automated chrome window\n",
    "driver.maximize_window()\n",
    "url=\"https://www.youtube.com/watch?v=geWjooaLm1I\"\n",
    "driver.get(url)"
   ]
  },
  {
   "cell_type": "code",
   "execution_count": 122,
   "id": "2858791b",
   "metadata": {},
   "outputs": [
    {
     "name": "stdout",
     "output_type": "stream",
     "text": [
      "20 ['We want arjun and parvathi again to start their journeys in saregamapa', \"Arjun and Charan deserve this opportunity\\nKeerthana too is a great singer. \\nLet's hope that the best gets this opportunity.\", 'పార్వతి ని స రి గా మా ప లో చూడం హ్యాపీ గా ఉన్నా వాళ్ళు  ఏవండీ ️', 'ధన్యవాదములు zee tv పార్వతి గారి ని మళ్ళీ స రి గా మా ప లో చూడడం చాలా హ్యాపీ గా ఉంది ️ big fan of పార్వతి గారు', 'Parvathi Wild card Entry And Winners Also #Parvathi ', 'Keerthana deserves this wild card entry,wow fantastic singer she is ', 'Arjun Vijay deserves the wild card entry', 'Arjun is soo good he must come back', 'Very talented Arjun vijay ..', 'Parvathi raavali anukunevaaru oka  like veskondi......', \"True talent should come without any bias  and don't let any one come for trps. it is about talent .\", 'Arun Vijay and Vinod Sharma are the two most deserving candidates than the rest.', 'Pls vote for parvathy', 'All the best పార్వతి ఇంకా సాగిపో నీకు తిరుగే లేదు ఇంకా గాడ్ బ్లెస్స్ యూ మా ', 'E show lo parvathi garu journey super ga jaragaalani korukuntu good luck and all the best and I am waiting for Parvathi garu songs', 'Wow...Parvathi is back.....So happy for you Parvathi.....& All the very best again ', 'Parvathi and arjun mire confidance vunaru eppdu, all the best both of you', 'We want parvathi', 'Arjun and Parvati has come to restart their journey ', 'Parvathi ️']\n"
     ]
    }
   ],
   "source": [
    "comments=[]\n",
    "comment=driver.find_elements(By.XPATH,'//yt-formatted-string[@class=\"style-scope ytd-comment-renderer\"]')\n",
    "for x in comment:\n",
    "    comments.append(x.text)\n",
    "print(len(comments),comments)"
   ]
  },
  {
   "cell_type": "code",
   "execution_count": 101,
   "id": "678e5a4b",
   "metadata": {},
   "outputs": [
    {
     "name": "stdout",
     "output_type": "stream",
     "text": [
      "40 ['', '489', '', '25', '', '3', '', '27', '', '3', '', '', '', '12', '', '292', '', '3', '', '18', '', '157', '', '152', '', '4', '', '46', '', '4', '', '62', '', '26', '', '4', '', '39', '', '5']\n"
     ]
    }
   ],
   "source": [
    "upvote=[]\n",
    "vote=driver.find_elements(By.XPATH,'//span[@class=\"style-scope ytd-comment-action-buttons-renderer\"]')\n",
    "for x in vote:\n",
    "    upvote.append(x.text)\n",
    "print(len(upvote),upvote)"
   ]
  },
  {
   "cell_type": "code",
   "execution_count": 120,
   "id": "384cd9b1",
   "metadata": {},
   "outputs": [
    {
     "name": "stdout",
     "output_type": "stream",
     "text": [
      "29 ['#SaReGaMaPaTheSingingSuperstar', '#ZEETelugu', '#Parvathi', 'Zee Cinemalu', '', '', '', '', '5 months ago', '5 months ago', '5 months ago', '5 months ago', '5 months ago', '#Parvathi', '5 months ago', '5 months ago', '5 months ago', '5 months ago', '5 months ago', '5 months ago', '5 months ago', '5 months ago', '5 months ago (edited)', '5 months ago', '5 months ago', '5 months ago', '5 months ago', '5 months ago', '5 months ago']\n"
     ]
    }
   ],
   "source": [
    "time=[]\n",
    "tm=driver.find_elements(By.XPATH,'//a[@dir=\"auto\"]')\n",
    "for x in tm:\n",
    "    time.append(x.text)\n",
    "print(len(time),time)"
   ]
  },
  {
   "cell_type": "code",
   "execution_count": 123,
   "id": "e851b2ca",
   "metadata": {},
   "outputs": [],
   "source": [
    "for i in range(0,40):\n",
    "    if i%2==0:\n",
    "        time.insert(i,'-')\n",
    "    else:\n",
    "        continue"
   ]
  },
  {
   "cell_type": "code",
   "execution_count": 124,
   "id": "83490af4",
   "metadata": {},
   "outputs": [
    {
     "name": "stdout",
     "output_type": "stream",
     "text": [
      "49 ['-', '#SaReGaMaPaTheSingingSuperstar', '-', '#ZEETelugu', '-', '#Parvathi', '-', 'Zee Cinemalu', '-', '', '-', '', '-', '', '-', '', '-', '5 months ago', '-', '5 months ago', '-', '5 months ago', '-', '5 months ago', '-', '5 months ago', '-', '#Parvathi', '-', '5 months ago', '-', '5 months ago', '-', '5 months ago', '-', '5 months ago', '-', '5 months ago', '-', '5 months ago', '5 months ago', '5 months ago', '5 months ago (edited)', '5 months ago', '5 months ago', '5 months ago', '5 months ago', '5 months ago', '5 months ago']\n"
     ]
    }
   ],
   "source": [
    "print(len(time),time)"
   ]
  },
  {
   "cell_type": "code",
   "execution_count": 125,
   "id": "06b4d0c8",
   "metadata": {},
   "outputs": [
    {
     "data": {
      "text/html": [
       "<div>\n",
       "<style scoped>\n",
       "    .dataframe tbody tr th:only-of-type {\n",
       "        vertical-align: middle;\n",
       "    }\n",
       "\n",
       "    .dataframe tbody tr th {\n",
       "        vertical-align: top;\n",
       "    }\n",
       "\n",
       "    .dataframe thead th {\n",
       "        text-align: right;\n",
       "    }\n",
       "</style>\n",
       "<table border=\"1\" class=\"dataframe\">\n",
       "  <thead>\n",
       "    <tr style=\"text-align: right;\">\n",
       "      <th></th>\n",
       "      <th>Comments</th>\n",
       "      <th>Up Vote</th>\n",
       "      <th>Time of Comments</th>\n",
       "    </tr>\n",
       "  </thead>\n",
       "  <tbody>\n",
       "    <tr>\n",
       "      <th>0</th>\n",
       "      <td>We want arjun and parvathi again to start thei...</td>\n",
       "      <td></td>\n",
       "      <td>-</td>\n",
       "    </tr>\n",
       "    <tr>\n",
       "      <th>1</th>\n",
       "      <td>Arjun and Charan deserve this opportunity\\nKee...</td>\n",
       "      <td>489</td>\n",
       "      <td>#SaReGaMaPaTheSingingSuperstar</td>\n",
       "    </tr>\n",
       "    <tr>\n",
       "      <th>2</th>\n",
       "      <td>పార్వతి ని స రి గా మా ప లో చూడం హ్యాపీ గా ఉన్న...</td>\n",
       "      <td></td>\n",
       "      <td>-</td>\n",
       "    </tr>\n",
       "    <tr>\n",
       "      <th>3</th>\n",
       "      <td>ధన్యవాదములు zee tv పార్వతి గారి ని మళ్ళీ స రి ...</td>\n",
       "      <td>25</td>\n",
       "      <td>#ZEETelugu</td>\n",
       "    </tr>\n",
       "    <tr>\n",
       "      <th>4</th>\n",
       "      <td>Parvathi Wild card Entry And Winners Also #Par...</td>\n",
       "      <td></td>\n",
       "      <td>-</td>\n",
       "    </tr>\n",
       "    <tr>\n",
       "      <th>5</th>\n",
       "      <td>Keerthana deserves this wild card entry,wow fa...</td>\n",
       "      <td>3</td>\n",
       "      <td>#Parvathi</td>\n",
       "    </tr>\n",
       "    <tr>\n",
       "      <th>6</th>\n",
       "      <td>Arjun Vijay deserves the wild card entry</td>\n",
       "      <td></td>\n",
       "      <td>-</td>\n",
       "    </tr>\n",
       "    <tr>\n",
       "      <th>7</th>\n",
       "      <td>Arjun is soo good he must come back</td>\n",
       "      <td>27</td>\n",
       "      <td>Zee Cinemalu</td>\n",
       "    </tr>\n",
       "    <tr>\n",
       "      <th>8</th>\n",
       "      <td>Very talented Arjun vijay ..</td>\n",
       "      <td></td>\n",
       "      <td>-</td>\n",
       "    </tr>\n",
       "    <tr>\n",
       "      <th>9</th>\n",
       "      <td>Parvathi raavali anukunevaaru oka  like veskon...</td>\n",
       "      <td>3</td>\n",
       "      <td></td>\n",
       "    </tr>\n",
       "    <tr>\n",
       "      <th>10</th>\n",
       "      <td>True talent should come without any bias  and ...</td>\n",
       "      <td></td>\n",
       "      <td>-</td>\n",
       "    </tr>\n",
       "    <tr>\n",
       "      <th>11</th>\n",
       "      <td>Arun Vijay and Vinod Sharma are the two most d...</td>\n",
       "      <td></td>\n",
       "      <td></td>\n",
       "    </tr>\n",
       "    <tr>\n",
       "      <th>12</th>\n",
       "      <td>Pls vote for parvathy</td>\n",
       "      <td></td>\n",
       "      <td>-</td>\n",
       "    </tr>\n",
       "    <tr>\n",
       "      <th>13</th>\n",
       "      <td>All the best పార్వతి ఇంకా సాగిపో నీకు తిరుగే ల...</td>\n",
       "      <td>12</td>\n",
       "      <td></td>\n",
       "    </tr>\n",
       "    <tr>\n",
       "      <th>14</th>\n",
       "      <td>E show lo parvathi garu journey super ga jarag...</td>\n",
       "      <td></td>\n",
       "      <td>-</td>\n",
       "    </tr>\n",
       "    <tr>\n",
       "      <th>15</th>\n",
       "      <td>Wow...Parvathi is back.....So happy for you Pa...</td>\n",
       "      <td>292</td>\n",
       "      <td></td>\n",
       "    </tr>\n",
       "    <tr>\n",
       "      <th>16</th>\n",
       "      <td>Parvathi and arjun mire confidance vunaru eppd...</td>\n",
       "      <td></td>\n",
       "      <td>-</td>\n",
       "    </tr>\n",
       "    <tr>\n",
       "      <th>17</th>\n",
       "      <td>We want parvathi</td>\n",
       "      <td>3</td>\n",
       "      <td>5 months ago</td>\n",
       "    </tr>\n",
       "    <tr>\n",
       "      <th>18</th>\n",
       "      <td>Arjun and Parvati has come to restart their jo...</td>\n",
       "      <td></td>\n",
       "      <td>-</td>\n",
       "    </tr>\n",
       "    <tr>\n",
       "      <th>19</th>\n",
       "      <td>Parvathi ️</td>\n",
       "      <td>18</td>\n",
       "      <td>5 months ago</td>\n",
       "    </tr>\n",
       "  </tbody>\n",
       "</table>\n",
       "</div>"
      ],
      "text/plain": [
       "                                             Comments Up Vote  \\\n",
       "0   We want arjun and parvathi again to start thei...           \n",
       "1   Arjun and Charan deserve this opportunity\\nKee...     489   \n",
       "2   పార్వతి ని స రి గా మా ప లో చూడం హ్యాపీ గా ఉన్న...           \n",
       "3   ధన్యవాదములు zee tv పార్వతి గారి ని మళ్ళీ స రి ...      25   \n",
       "4   Parvathi Wild card Entry And Winners Also #Par...           \n",
       "5   Keerthana deserves this wild card entry,wow fa...       3   \n",
       "6            Arjun Vijay deserves the wild card entry           \n",
       "7                 Arjun is soo good he must come back      27   \n",
       "8                        Very talented Arjun vijay ..           \n",
       "9   Parvathi raavali anukunevaaru oka  like veskon...       3   \n",
       "10  True talent should come without any bias  and ...           \n",
       "11  Arun Vijay and Vinod Sharma are the two most d...           \n",
       "12                              Pls vote for parvathy           \n",
       "13  All the best పార్వతి ఇంకా సాగిపో నీకు తిరుగే ల...      12   \n",
       "14  E show lo parvathi garu journey super ga jarag...           \n",
       "15  Wow...Parvathi is back.....So happy for you Pa...     292   \n",
       "16  Parvathi and arjun mire confidance vunaru eppd...           \n",
       "17                                   We want parvathi       3   \n",
       "18  Arjun and Parvati has come to restart their jo...           \n",
       "19                                         Parvathi ️      18   \n",
       "\n",
       "                  Time of Comments  \n",
       "0                                -  \n",
       "1   #SaReGaMaPaTheSingingSuperstar  \n",
       "2                                -  \n",
       "3                       #ZEETelugu  \n",
       "4                                -  \n",
       "5                        #Parvathi  \n",
       "6                                -  \n",
       "7                     Zee Cinemalu  \n",
       "8                                -  \n",
       "9                                   \n",
       "10                               -  \n",
       "11                                  \n",
       "12                               -  \n",
       "13                                  \n",
       "14                               -  \n",
       "15                                  \n",
       "16                               -  \n",
       "17                    5 months ago  \n",
       "18                               -  \n",
       "19                    5 months ago  "
      ]
     },
     "execution_count": 125,
     "metadata": {},
     "output_type": "execute_result"
    }
   ],
   "source": [
    "df=pd.DataFrame()\n",
    "df['Comments']=comments[0:20]\n",
    "df['Up Vote']=upvote[0:20]\n",
    "df['Time of Comments']=time[0:20]\n",
    "df"
   ]
  },
  {
   "cell_type": "markdown",
   "id": "9dd606b6",
   "metadata": {},
   "source": [
    "# 10 . Write a python program to scrape a data for all available Hostels from https://www.hostelworld.com/ in “London” location. You have to scrape hostel name, distance from city centre, ratings, total reviews, overall reviews, privates from price, dorms from price, facilities and property description."
   ]
  },
  {
   "cell_type": "code",
   "execution_count": 126,
   "id": "52d3949d",
   "metadata": {},
   "outputs": [],
   "source": [
    "driver = webdriver. Chrome (r\"C:\\Users\\Kundan Patil\\DS0522\\INTERNSHIP\\Web Scraping\\chromedriver.exe\")\n",
    "#Let's maximize the automated chrome window\n",
    "driver.maximize_window()\n",
    "url=\"https://www.hostelworld.com/s?q=London,%20England&city=London&country=England&type=city&id=3&from=2022-05-24&to=2022-05-27&guests=2&page=1\"\n",
    "driver.get(url)"
   ]
  },
  {
   "cell_type": "code",
   "execution_count": 127,
   "id": "de7f65d7",
   "metadata": {},
   "outputs": [
    {
     "name": "stdout",
     "output_type": "stream",
     "text": [
      "30 [\"Wombat's City Hostel London\", \"St Christopher's Village\", 'Generator London', 'Safestay London Elephant & Castle', 'Hostel One Notting Hill', 'Urbany Hostel London', 'Smart Russell Square Hostel', 'Safestay London Kensington Holland Park', 'Astor Museum Inn', 'Phoenix Hostel', \"St Christopher's Camden\", 'Smart Hyde Park Inn Hostel', 'NX London Hostel', \"St Christopher's Hammersmith\", 'London Backpackers', 'Destinations Hostels @ The Gallery', \"St Christopher's Inn - London Bridge\", 'Barmy Badger Backpackers', 'Astor Victoria', 'YHA London Oxford Street', 'Pickwick Hall', 'Smart Hyde Park View Hostel', 'Prime Backpackers Angel', 'Dover Castle Hostel and Bar', \"St Christopher's Inn - Liverpool Street\", 'Astor Kensington', 'Saint James Backpackers', 'Kensal Green Backpackers', \"St Christopher's Shepherds Bush\", \"St Christopher's Greenwich\"]\n"
     ]
    }
   ],
   "source": [
    "hotel_name=[]\n",
    "name=driver.find_elements(By.XPATH,'//h2[@class=\"title title-6\"]/a[1]')\n",
    "for x in name:\n",
    "    hotel_name.append(x.text)\n",
    "print(len(hotel_name),hotel_name)"
   ]
  },
  {
   "cell_type": "code",
   "execution_count": 128,
   "id": "2e290451",
   "metadata": {},
   "outputs": [
    {
     "name": "stdout",
     "output_type": "stream",
     "text": [
      "30 ['Hostel - 3.6km from city centre', 'Hostel - 1.8km from city centre', 'Hostel - 3km from city centre', 'Hostel - 1.7km from city centre', 'Hostel - 5.5km from city centre', 'Hostel - 5.4km from city centre', 'Hostel - 2.6km from city centre', 'Hostel - 5.9km from city centre', 'Hostel - 2.2km from city centre', 'Hostel - 4.2km from city centre', 'Hostel - 4.3km from city centre', 'Hostel - 5km from city centre', 'Hostel - 6.1km from city centre', 'Hostel - 7.5km from city centre', 'Hostel - 11.9km from city centre', 'Hostel - 1.7km from city centre', 'Hostel - 1.8km from city centre', 'Hostel - 5.5km from city centre', 'Hostel - 1.8km from city centre', 'Hostel - 2.1km from city centre', 'Hostel - 2.3km from city centre', 'Hostel - 5km from city centre', 'Hostel - 3.6km from city centre', 'Hostel - 1.7km from city centre', 'Hostel - 3.2km from city centre', 'Hostel - 4.9km from city centre', 'Hostel - 5.5km from city centre', 'Hostel - 8.2km from city centre', 'Hostel - 7km from city centre', 'Hostel - 7.6km from city centre']\n"
     ]
    }
   ],
   "source": [
    "distance=[]\n",
    "dis=driver.find_elements(By.XPATH,'//span[@class=\"description\"]')\n",
    "for x in dis:\n",
    "    distance.append(x.text)\n",
    "print(len(distance),distance)"
   ]
  },
  {
   "cell_type": "code",
   "execution_count": 130,
   "id": "637570e7",
   "metadata": {},
   "outputs": [
    {
     "name": "stdout",
     "output_type": "stream",
     "text": [
      "29 ['9.0', '8.1', '7.7', '7.1', '9.3', '9.2', '7.1', '6.8', '8.1', '7.1', '8.3', '7.5', '7.6', '7.8', '7.9', '9.4', '8.0', '8.9', '7.7', '8.8', '8.4', '7.9', '8.2', '8.3', '8.3', '8.0', '7.3', '7.4', '6.8']\n"
     ]
    }
   ],
   "source": [
    "ratings=[]\n",
    "rate=driver.find_elements(By.XPATH,'//div[@class=\"score orange big\"]')\n",
    "for x in rate:\n",
    "    ratings.append(x.text)\n",
    "print(len(ratings),ratings)"
   ]
  },
  {
   "cell_type": "code",
   "execution_count": 131,
   "id": "af4bf755",
   "metadata": {},
   "outputs": [
    {
     "name": "stdout",
     "output_type": "stream",
     "text": [
      "30 ['14311 Total Reviews', '11682 Total Reviews', '7256 Total Reviews', '4669 Total Reviews', '1589 Total Reviews', '539 Total Reviews', '9823 Total Reviews', '1375 Total Reviews', '9110 Total Reviews', '3857 Total Reviews', '3897 Total Reviews', '6422 Total Reviews', '1342 Total Reviews', '4156 Total Reviews', '4370 Total Reviews', '75 Total Reviews', '3399 Total Reviews', '1855 Total Reviews', '14855 Total Reviews', '4602 Total Reviews', '2514 Total Reviews', '4633 Total Reviews', '683 Total Reviews', '2294 Total Reviews', '445 Total Reviews', '6443 Total Reviews', '1845 Total Reviews', '3667 Total Reviews', '730 Total Reviews', '3277 Total Reviews']\n"
     ]
    }
   ],
   "source": [
    "reviews=[]\n",
    "review=driver.find_elements(By.XPATH,'//div[@class=\"reviews\"]')\n",
    "for x in review:\n",
    "    reviews.append(x.text)\n",
    "print(len(reviews),reviews)"
   ]
  },
  {
   "cell_type": "code",
   "execution_count": 133,
   "id": "2402a018",
   "metadata": {},
   "outputs": [],
   "source": [
    "df=pd.DataFrame()\n",
    "df['Hostel_Name']=hotel_name[0:29]\n",
    "df['distance from city centre']=distance[0:29]\n",
    "df['Ratings']=ratings[0:29]\n",
    "df['Reviews']=reviews[0:29]"
   ]
  },
  {
   "cell_type": "code",
   "execution_count": 134,
   "id": "9af32947",
   "metadata": {},
   "outputs": [
    {
     "data": {
      "text/html": [
       "<div>\n",
       "<style scoped>\n",
       "    .dataframe tbody tr th:only-of-type {\n",
       "        vertical-align: middle;\n",
       "    }\n",
       "\n",
       "    .dataframe tbody tr th {\n",
       "        vertical-align: top;\n",
       "    }\n",
       "\n",
       "    .dataframe thead th {\n",
       "        text-align: right;\n",
       "    }\n",
       "</style>\n",
       "<table border=\"1\" class=\"dataframe\">\n",
       "  <thead>\n",
       "    <tr style=\"text-align: right;\">\n",
       "      <th></th>\n",
       "      <th>Hostel_Name</th>\n",
       "      <th>distance from city centre</th>\n",
       "      <th>Ratings</th>\n",
       "      <th>Reviews</th>\n",
       "    </tr>\n",
       "  </thead>\n",
       "  <tbody>\n",
       "    <tr>\n",
       "      <th>0</th>\n",
       "      <td>Wombat's City Hostel London</td>\n",
       "      <td>Hostel - 3.6km from city centre</td>\n",
       "      <td>9.0</td>\n",
       "      <td>14311 Total Reviews</td>\n",
       "    </tr>\n",
       "    <tr>\n",
       "      <th>1</th>\n",
       "      <td>St Christopher's Village</td>\n",
       "      <td>Hostel - 1.8km from city centre</td>\n",
       "      <td>8.1</td>\n",
       "      <td>11682 Total Reviews</td>\n",
       "    </tr>\n",
       "    <tr>\n",
       "      <th>2</th>\n",
       "      <td>Generator London</td>\n",
       "      <td>Hostel - 3km from city centre</td>\n",
       "      <td>7.7</td>\n",
       "      <td>7256 Total Reviews</td>\n",
       "    </tr>\n",
       "    <tr>\n",
       "      <th>3</th>\n",
       "      <td>Safestay London Elephant &amp; Castle</td>\n",
       "      <td>Hostel - 1.7km from city centre</td>\n",
       "      <td>7.1</td>\n",
       "      <td>4669 Total Reviews</td>\n",
       "    </tr>\n",
       "    <tr>\n",
       "      <th>4</th>\n",
       "      <td>Hostel One Notting Hill</td>\n",
       "      <td>Hostel - 5.5km from city centre</td>\n",
       "      <td>9.3</td>\n",
       "      <td>1589 Total Reviews</td>\n",
       "    </tr>\n",
       "    <tr>\n",
       "      <th>5</th>\n",
       "      <td>Urbany Hostel London</td>\n",
       "      <td>Hostel - 5.4km from city centre</td>\n",
       "      <td>9.2</td>\n",
       "      <td>539 Total Reviews</td>\n",
       "    </tr>\n",
       "    <tr>\n",
       "      <th>6</th>\n",
       "      <td>Smart Russell Square Hostel</td>\n",
       "      <td>Hostel - 2.6km from city centre</td>\n",
       "      <td>7.1</td>\n",
       "      <td>9823 Total Reviews</td>\n",
       "    </tr>\n",
       "    <tr>\n",
       "      <th>7</th>\n",
       "      <td>Safestay London Kensington Holland Park</td>\n",
       "      <td>Hostel - 5.9km from city centre</td>\n",
       "      <td>6.8</td>\n",
       "      <td>1375 Total Reviews</td>\n",
       "    </tr>\n",
       "    <tr>\n",
       "      <th>8</th>\n",
       "      <td>Astor Museum Inn</td>\n",
       "      <td>Hostel - 2.2km from city centre</td>\n",
       "      <td>8.1</td>\n",
       "      <td>9110 Total Reviews</td>\n",
       "    </tr>\n",
       "    <tr>\n",
       "      <th>9</th>\n",
       "      <td>Phoenix Hostel</td>\n",
       "      <td>Hostel - 4.2km from city centre</td>\n",
       "      <td>7.1</td>\n",
       "      <td>3857 Total Reviews</td>\n",
       "    </tr>\n",
       "    <tr>\n",
       "      <th>10</th>\n",
       "      <td>St Christopher's Camden</td>\n",
       "      <td>Hostel - 4.3km from city centre</td>\n",
       "      <td>8.3</td>\n",
       "      <td>3897 Total Reviews</td>\n",
       "    </tr>\n",
       "    <tr>\n",
       "      <th>11</th>\n",
       "      <td>Smart Hyde Park Inn Hostel</td>\n",
       "      <td>Hostel - 5km from city centre</td>\n",
       "      <td>7.5</td>\n",
       "      <td>6422 Total Reviews</td>\n",
       "    </tr>\n",
       "    <tr>\n",
       "      <th>12</th>\n",
       "      <td>NX London Hostel</td>\n",
       "      <td>Hostel - 6.1km from city centre</td>\n",
       "      <td>7.6</td>\n",
       "      <td>1342 Total Reviews</td>\n",
       "    </tr>\n",
       "    <tr>\n",
       "      <th>13</th>\n",
       "      <td>St Christopher's Hammersmith</td>\n",
       "      <td>Hostel - 7.5km from city centre</td>\n",
       "      <td>7.8</td>\n",
       "      <td>4156 Total Reviews</td>\n",
       "    </tr>\n",
       "    <tr>\n",
       "      <th>14</th>\n",
       "      <td>London Backpackers</td>\n",
       "      <td>Hostel - 11.9km from city centre</td>\n",
       "      <td>7.9</td>\n",
       "      <td>4370 Total Reviews</td>\n",
       "    </tr>\n",
       "    <tr>\n",
       "      <th>15</th>\n",
       "      <td>Destinations Hostels @ The Gallery</td>\n",
       "      <td>Hostel - 1.7km from city centre</td>\n",
       "      <td>9.4</td>\n",
       "      <td>75 Total Reviews</td>\n",
       "    </tr>\n",
       "    <tr>\n",
       "      <th>16</th>\n",
       "      <td>St Christopher's Inn - London Bridge</td>\n",
       "      <td>Hostel - 1.8km from city centre</td>\n",
       "      <td>8.0</td>\n",
       "      <td>3399 Total Reviews</td>\n",
       "    </tr>\n",
       "    <tr>\n",
       "      <th>17</th>\n",
       "      <td>Barmy Badger Backpackers</td>\n",
       "      <td>Hostel - 5.5km from city centre</td>\n",
       "      <td>8.9</td>\n",
       "      <td>1855 Total Reviews</td>\n",
       "    </tr>\n",
       "    <tr>\n",
       "      <th>18</th>\n",
       "      <td>Astor Victoria</td>\n",
       "      <td>Hostel - 1.8km from city centre</td>\n",
       "      <td>7.7</td>\n",
       "      <td>14855 Total Reviews</td>\n",
       "    </tr>\n",
       "    <tr>\n",
       "      <th>19</th>\n",
       "      <td>YHA London Oxford Street</td>\n",
       "      <td>Hostel - 2.1km from city centre</td>\n",
       "      <td>8.8</td>\n",
       "      <td>4602 Total Reviews</td>\n",
       "    </tr>\n",
       "    <tr>\n",
       "      <th>20</th>\n",
       "      <td>Pickwick Hall</td>\n",
       "      <td>Hostel - 2.3km from city centre</td>\n",
       "      <td>8.4</td>\n",
       "      <td>2514 Total Reviews</td>\n",
       "    </tr>\n",
       "    <tr>\n",
       "      <th>21</th>\n",
       "      <td>Smart Hyde Park View Hostel</td>\n",
       "      <td>Hostel - 5km from city centre</td>\n",
       "      <td>7.9</td>\n",
       "      <td>4633 Total Reviews</td>\n",
       "    </tr>\n",
       "    <tr>\n",
       "      <th>22</th>\n",
       "      <td>Prime Backpackers Angel</td>\n",
       "      <td>Hostel - 3.6km from city centre</td>\n",
       "      <td>8.2</td>\n",
       "      <td>683 Total Reviews</td>\n",
       "    </tr>\n",
       "    <tr>\n",
       "      <th>23</th>\n",
       "      <td>Dover Castle Hostel and Bar</td>\n",
       "      <td>Hostel - 1.7km from city centre</td>\n",
       "      <td>8.3</td>\n",
       "      <td>2294 Total Reviews</td>\n",
       "    </tr>\n",
       "    <tr>\n",
       "      <th>24</th>\n",
       "      <td>St Christopher's Inn - Liverpool Street</td>\n",
       "      <td>Hostel - 3.2km from city centre</td>\n",
       "      <td>8.3</td>\n",
       "      <td>445 Total Reviews</td>\n",
       "    </tr>\n",
       "    <tr>\n",
       "      <th>25</th>\n",
       "      <td>Astor Kensington</td>\n",
       "      <td>Hostel - 4.9km from city centre</td>\n",
       "      <td>8.0</td>\n",
       "      <td>6443 Total Reviews</td>\n",
       "    </tr>\n",
       "    <tr>\n",
       "      <th>26</th>\n",
       "      <td>Saint James Backpackers</td>\n",
       "      <td>Hostel - 5.5km from city centre</td>\n",
       "      <td>7.3</td>\n",
       "      <td>1845 Total Reviews</td>\n",
       "    </tr>\n",
       "    <tr>\n",
       "      <th>27</th>\n",
       "      <td>Kensal Green Backpackers</td>\n",
       "      <td>Hostel - 8.2km from city centre</td>\n",
       "      <td>7.4</td>\n",
       "      <td>3667 Total Reviews</td>\n",
       "    </tr>\n",
       "    <tr>\n",
       "      <th>28</th>\n",
       "      <td>St Christopher's Shepherds Bush</td>\n",
       "      <td>Hostel - 7km from city centre</td>\n",
       "      <td>6.8</td>\n",
       "      <td>730 Total Reviews</td>\n",
       "    </tr>\n",
       "  </tbody>\n",
       "</table>\n",
       "</div>"
      ],
      "text/plain": [
       "                                Hostel_Name         distance from city centre  \\\n",
       "0               Wombat's City Hostel London   Hostel - 3.6km from city centre   \n",
       "1                  St Christopher's Village   Hostel - 1.8km from city centre   \n",
       "2                          Generator London     Hostel - 3km from city centre   \n",
       "3         Safestay London Elephant & Castle   Hostel - 1.7km from city centre   \n",
       "4                   Hostel One Notting Hill   Hostel - 5.5km from city centre   \n",
       "5                      Urbany Hostel London   Hostel - 5.4km from city centre   \n",
       "6               Smart Russell Square Hostel   Hostel - 2.6km from city centre   \n",
       "7   Safestay London Kensington Holland Park   Hostel - 5.9km from city centre   \n",
       "8                          Astor Museum Inn   Hostel - 2.2km from city centre   \n",
       "9                            Phoenix Hostel   Hostel - 4.2km from city centre   \n",
       "10                  St Christopher's Camden   Hostel - 4.3km from city centre   \n",
       "11               Smart Hyde Park Inn Hostel     Hostel - 5km from city centre   \n",
       "12                         NX London Hostel   Hostel - 6.1km from city centre   \n",
       "13             St Christopher's Hammersmith   Hostel - 7.5km from city centre   \n",
       "14                       London Backpackers  Hostel - 11.9km from city centre   \n",
       "15       Destinations Hostels @ The Gallery   Hostel - 1.7km from city centre   \n",
       "16     St Christopher's Inn - London Bridge   Hostel - 1.8km from city centre   \n",
       "17                 Barmy Badger Backpackers   Hostel - 5.5km from city centre   \n",
       "18                           Astor Victoria   Hostel - 1.8km from city centre   \n",
       "19                 YHA London Oxford Street   Hostel - 2.1km from city centre   \n",
       "20                            Pickwick Hall   Hostel - 2.3km from city centre   \n",
       "21              Smart Hyde Park View Hostel     Hostel - 5km from city centre   \n",
       "22                  Prime Backpackers Angel   Hostel - 3.6km from city centre   \n",
       "23              Dover Castle Hostel and Bar   Hostel - 1.7km from city centre   \n",
       "24  St Christopher's Inn - Liverpool Street   Hostel - 3.2km from city centre   \n",
       "25                         Astor Kensington   Hostel - 4.9km from city centre   \n",
       "26                  Saint James Backpackers   Hostel - 5.5km from city centre   \n",
       "27                 Kensal Green Backpackers   Hostel - 8.2km from city centre   \n",
       "28          St Christopher's Shepherds Bush     Hostel - 7km from city centre   \n",
       "\n",
       "   Ratings              Reviews  \n",
       "0      9.0  14311 Total Reviews  \n",
       "1      8.1  11682 Total Reviews  \n",
       "2      7.7   7256 Total Reviews  \n",
       "3      7.1   4669 Total Reviews  \n",
       "4      9.3   1589 Total Reviews  \n",
       "5      9.2    539 Total Reviews  \n",
       "6      7.1   9823 Total Reviews  \n",
       "7      6.8   1375 Total Reviews  \n",
       "8      8.1   9110 Total Reviews  \n",
       "9      7.1   3857 Total Reviews  \n",
       "10     8.3   3897 Total Reviews  \n",
       "11     7.5   6422 Total Reviews  \n",
       "12     7.6   1342 Total Reviews  \n",
       "13     7.8   4156 Total Reviews  \n",
       "14     7.9   4370 Total Reviews  \n",
       "15     9.4     75 Total Reviews  \n",
       "16     8.0   3399 Total Reviews  \n",
       "17     8.9   1855 Total Reviews  \n",
       "18     7.7  14855 Total Reviews  \n",
       "19     8.8   4602 Total Reviews  \n",
       "20     8.4   2514 Total Reviews  \n",
       "21     7.9   4633 Total Reviews  \n",
       "22     8.2    683 Total Reviews  \n",
       "23     8.3   2294 Total Reviews  \n",
       "24     8.3    445 Total Reviews  \n",
       "25     8.0   6443 Total Reviews  \n",
       "26     7.3   1845 Total Reviews  \n",
       "27     7.4   3667 Total Reviews  \n",
       "28     6.8    730 Total Reviews  "
      ]
     },
     "execution_count": 134,
     "metadata": {},
     "output_type": "execute_result"
    }
   ],
   "source": [
    "df"
   ]
  },
  {
   "cell_type": "code",
   "execution_count": null,
   "id": "99e36b2e",
   "metadata": {},
   "outputs": [],
   "source": []
  }
 ],
 "metadata": {
  "kernelspec": {
   "display_name": "Python 3 (ipykernel)",
   "language": "python",
   "name": "python3"
  },
  "language_info": {
   "codemirror_mode": {
    "name": "ipython",
    "version": 3
   },
   "file_extension": ".py",
   "mimetype": "text/x-python",
   "name": "python",
   "nbconvert_exporter": "python",
   "pygments_lexer": "ipython3",
   "version": "3.9.12"
  }
 },
 "nbformat": 4,
 "nbformat_minor": 5
}
