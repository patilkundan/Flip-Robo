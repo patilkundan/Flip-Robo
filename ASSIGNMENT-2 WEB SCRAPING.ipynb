{
 "cells": [
  {
   "cell_type": "markdown",
   "id": "d4266f64",
   "metadata": {},
   "source": [
    "<font face = \"Verdana\" size = \"4\"> <b> WEB SCRAPING – ASSIGNMENT 2"
   ]
  },
  {
   "cell_type": "markdown",
   "id": "527f8edf",
   "metadata": {},
   "source": [
    "<font face = \"Verdana\" size = \"3\"> Q1: Write a python program to scrape data for “Data Analyst” Job position in “Bangalore” location. You have to scrape the job-title, job-location, company_name, experience_required. You have to scrape first 10 jobs data.<br>\n",
    "\n",
    "<font face = \"Verdana\" size = \"3\">1. First get the webpage https://www.naukri.com/<br>\n",
    "<font face = \"Verdana\" size = \"3\">2. Enter “Data Analyst” in “Skill, Designations, Companies” field and enter “Bangalore” in “enter the<br>\n",
    "<font face = \"Verdana\" size = \"3\">location” field.<br>\n",
    "<font face = \"Verdana\" size = \"3\">3. Then click the search button.<br>\n",
    "<font face = \"Verdana\" size = \"3\">4. Then scrape the data for the first 10 jobs results you get.<br>\n",
    "<font face = \"Verdana\" size = \"3\">5. Finally create a dataframe of the scraped data.<br>\n",
    "<font face = \"Verdana\" size = \"3\">Note: All of the above steps have to be done in code. No step is to be done manually.<br>\n",
    "  "
   ]
  },
  {
   "cell_type": "code",
   "execution_count": 1,
   "id": "efbd4857",
   "metadata": {},
   "outputs": [
    {
     "name": "stdout",
     "output_type": "stream",
     "text": [
      "Requirement already satisfied: selenium in c:\\users\\kundan patil\\anaconda3\\lib\\site-packages (4.5.0)\n",
      "Requirement already satisfied: trio-websocket~=0.9 in c:\\users\\kundan patil\\anaconda3\\lib\\site-packages (from selenium) (0.9.2)\n",
      "Requirement already satisfied: trio~=0.17 in c:\\users\\kundan patil\\anaconda3\\lib\\site-packages (from selenium) (0.22.0)\n",
      "Requirement already satisfied: urllib3[socks]~=1.26 in c:\\users\\kundan patil\\anaconda3\\lib\\site-packages (from selenium) (1.26.9)\n",
      "Requirement already satisfied: certifi>=2021.10.8 in c:\\users\\kundan patil\\anaconda3\\lib\\site-packages (from selenium) (2021.10.8)\n",
      "Requirement already satisfied: outcome in c:\\users\\kundan patil\\anaconda3\\lib\\site-packages (from trio~=0.17->selenium) (1.2.0)\n",
      "Requirement already satisfied: idna in c:\\users\\kundan patil\\anaconda3\\lib\\site-packages (from trio~=0.17->selenium) (3.3)\n",
      "Requirement already satisfied: async-generator>=1.9 in c:\\users\\kundan patil\\anaconda3\\lib\\site-packages (from trio~=0.17->selenium) (1.10)\n",
      "Requirement already satisfied: sniffio in c:\\users\\kundan patil\\anaconda3\\lib\\site-packages (from trio~=0.17->selenium) (1.2.0)\n",
      "Requirement already satisfied: cffi>=1.14 in c:\\users\\kundan patil\\anaconda3\\lib\\site-packages (from trio~=0.17->selenium) (1.15.0)\n",
      "Requirement already satisfied: exceptiongroup>=1.0.0rc9 in c:\\users\\kundan patil\\anaconda3\\lib\\site-packages (from trio~=0.17->selenium) (1.0.0)\n",
      "Requirement already satisfied: attrs>=19.2.0 in c:\\users\\kundan patil\\anaconda3\\lib\\site-packages (from trio~=0.17->selenium) (21.4.0)\n",
      "Requirement already satisfied: sortedcontainers in c:\\users\\kundan patil\\anaconda3\\lib\\site-packages (from trio~=0.17->selenium) (2.4.0)\n",
      "Requirement already satisfied: pycparser in c:\\users\\kundan patil\\anaconda3\\lib\\site-packages (from cffi>=1.14->trio~=0.17->selenium) (2.21)\n",
      "Requirement already satisfied: wsproto>=0.14 in c:\\users\\kundan patil\\anaconda3\\lib\\site-packages (from trio-websocket~=0.9->selenium) (1.2.0)\n",
      "Requirement already satisfied: PySocks!=1.5.7,<2.0,>=1.5.6 in c:\\users\\kundan patil\\anaconda3\\lib\\site-packages (from urllib3[socks]~=1.26->selenium) (1.7.1)\n",
      "Requirement already satisfied: h11<1,>=0.9.0 in c:\\users\\kundan patil\\anaconda3\\lib\\site-packages (from wsproto>=0.14->trio-websocket~=0.9->selenium) (0.14.0)\n"
     ]
    }
   ],
   "source": [
    "# Let's first install selenium Library\n",
    "!pip install selenium"
   ]
  },
  {
   "cell_type": "code",
   "execution_count": 2,
   "id": "90b8f7bc",
   "metadata": {},
   "outputs": [],
   "source": [
    "# Let's import all required Libraries\n",
    "import selenium #library that is used to work with selenium\n",
    "from selenium import webdriver #importing webdriver module from selenium to open automated chrome window\n",
    "import pandas as pd #to create DataFrame\n",
    "from selenium.webdriver.common.by import By #importing inbuilt class By\n",
    "import warnings #to ignore any sort of warning\n",
    "warnings.filterwarnings (\"ignore\")\n",
    "import time #use to stop search engine for few seconds"
   ]
  },
  {
   "cell_type": "code",
   "execution_count": 24,
   "id": "1f4fb3bb",
   "metadata": {},
   "outputs": [],
   "source": [
    "#Let's first connect to web driver\n",
    "driver = webdriver. Chrome (r\"C:\\Users\\Kundan Patil\\DS0522\\INTERNSHIP\\Web Scraping\\chromedriver.exe\")"
   ]
  },
  {
   "cell_type": "code",
   "execution_count": 25,
   "id": "8386ae7e",
   "metadata": {},
   "outputs": [],
   "source": [
    "#Let's maximize the automated chrome window\n",
    "driver.maximize_window()"
   ]
  },
  {
   "cell_type": "code",
   "execution_count": 26,
   "id": "e8b77116",
   "metadata": {},
   "outputs": [],
   "source": [
    "#Opening up naukri.com website on automated chrome window\n",
    "url = 'https://www.naukri.com/'\n",
    "driver.get(url)\n",
    "\n"
   ]
  },
  {
   "cell_type": "code",
   "execution_count": 27,
   "id": "3296acde",
   "metadata": {},
   "outputs": [],
   "source": [
    " # finding web element for search job bar\n",
    "search_job = driver.find_element(By.CLASS_NAME, \"suggestor-input\")\n",
    "search_job.send_keys (\"Data Analyst\")\n",
    "\n",
    "# finding web element for search Locn bar using absolute xpath\n",
    "search_locn = driver.find_element(By.XPATH,'/html/body/div[1]/div[6]/div/div/div[5]/div/div/div[1]/input')\n",
    "search_locn.send_keys (\"Bangalore\") \n",
    "\n",
    "# clicking using absolute xpath function\n",
    "search_btn = driver.find_element(By.CLASS_NAME, \"qsbSubmit\")\n",
    "search_btn.click()"
   ]
  },
  {
   "cell_type": "code",
   "execution_count": 21,
   "id": "629d400a",
   "metadata": {},
   "outputs": [
    {
     "data": {
      "text/plain": [
       "['Senior/Lead - data Analyst',\n",
       " 'Reference Data Analyst',\n",
       " 'Data Analyst/Data Scientist- Automotive Domain',\n",
       " 'Job || Data Analyst || Tech Mahindra',\n",
       " 'Sr. Data Analyst',\n",
       " 'Senior Data Management Analyst',\n",
       " 'Senior Analyst - Data Management',\n",
       " 'Data Analyst - Python/Artificial Intelligence',\n",
       " 'Data Analyst / Sr Data Analyst - FIntech',\n",
       " 'Senior Data Analyst']"
      ]
     },
     "execution_count": 21,
     "metadata": {},
     "output_type": "execute_result"
    }
   ],
   "source": [
    "# Let's extract all web elements having job titles\n",
    "job_titles = []\n",
    "title_tags =driver.find_elements(By.XPATH, \"//a[@class='title fw500 ellipsis']\")\n",
    "for i in range(0,10):\n",
    "    job_titles.append(title_tags[i].text)\n",
    "job_titles\n",
    "len (job_titles)\n",
    "(job_titles)"
   ]
  },
  {
   "cell_type": "code",
   "execution_count": 30,
   "id": "dd672ce7",
   "metadata": {},
   "outputs": [
    {
     "data": {
      "text/plain": [
       "['Movate Technologies',\n",
       " 'Deutsche Bank',\n",
       " 'Verolt Engineering',\n",
       " 'Tech Mahindra',\n",
       " 'Ugam',\n",
       " 'Wells Fargo',\n",
       " 'Accenture',\n",
       " 'iMindYourBusiness',\n",
       " 'Connexions',\n",
       " 'Krezig Consultants LLP']"
      ]
     },
     "execution_count": 30,
     "metadata": {},
     "output_type": "execute_result"
    }
   ],
   "source": [
    "# Let's extract all web elements having company names\n",
    "Company_Name = []\n",
    "company_tags = driver.find_elements (By.XPATH,'//a[@class=\"subTitle ellipsis fleft\"]')\n",
    "Company_Name=[]\n",
    "for i in range(0,10):\n",
    "    Company_Name.append(company_tags[i].text)\n",
    "Company_Name"
   ]
  },
  {
   "cell_type": "code",
   "execution_count": 33,
   "id": "fd820a71",
   "metadata": {},
   "outputs": [
    {
     "data": {
      "text/plain": [
       "['5-10 Yrs',\n",
       " '0-6 Yrs',\n",
       " '3-6 Yrs',\n",
       " '5-10 Yrs',\n",
       " '4-8 Yrs',\n",
       " '8-9 Yrs',\n",
       " '5-8 Yrs',\n",
       " '0-2 Yrs',\n",
       " '1-4 Yrs',\n",
       " '2-7 Yrs']"
      ]
     },
     "execution_count": 33,
     "metadata": {},
     "output_type": "execute_result"
    }
   ],
   "source": [
    " # Let's extract all web elements having experience using parent tag\n",
    "Experience = []\n",
    "Experience_tag=driver.find_elements (By.XPATH, '//li[@class=\"fleft grey-text br2 placeHolderLi experience\"]')\n",
    "Experience=[]\n",
    "for i in range(0,10):\n",
    "    Experience.append(Experience_tag[i].text)\n",
    "Experience"
   ]
  },
  {
   "cell_type": "code",
   "execution_count": 40,
   "id": "c003ba5c",
   "metadata": {},
   "outputs": [
    {
     "data": {
      "text/plain": [
       "['Bangalore/Bengaluru, Hyderabad/Secunderabad, Chennai',\n",
       " 'Bangalore/Bengaluru',\n",
       " 'Bangalore/Bengaluru, Hyderabad/Secunderabad, Pune',\n",
       " 'Temp. WFH - Bangalore/Bengaluru, Kolkata, Hyderabad/Secunderabad, Pune, Chennai, Delhi / NCR, Mumbai (All Areas)',\n",
       " 'Bangalore/Bengaluru, Pune, Mumbai (All Areas)',\n",
       " 'Bangalore/Bengaluru',\n",
       " 'Bangalore/Bengaluru',\n",
       " 'Bangalore/Bengaluru, Kolkata, Mumbai, Hyderabad/Secunderabad, Pune, Chennai',\n",
       " 'Bangalore/Bengaluru',\n",
       " 'Bangalore/Bengaluru']"
      ]
     },
     "execution_count": 40,
     "metadata": {},
     "output_type": "execute_result"
    }
   ],
   "source": [
    "location = []\n",
    "\n",
    "locn_tags= driver.find_elements (By.XPATH, '//li[@class=\"fleft grey-text br2 placeHolderLi location\"]')\n",
    "for i in range(0,10):\n",
    "    location.append(locn_tags[i].text)\n",
    "len(location)\n",
    "location"
   ]
  },
  {
   "cell_type": "code",
   "execution_count": 41,
   "id": "c2587b8c",
   "metadata": {},
   "outputs": [
    {
     "data": {
      "text/plain": [
       "(10, 0, 20, 10)"
      ]
     },
     "execution_count": 41,
     "metadata": {},
     "output_type": "execute_result"
    }
   ],
   "source": [
    "len (job_titles), len(company_names), len(experience), len(location)"
   ]
  },
  {
   "cell_type": "code",
   "execution_count": 43,
   "id": "52b7fb14",
   "metadata": {},
   "outputs": [
    {
     "data": {
      "text/html": [
       "<div>\n",
       "<style scoped>\n",
       "    .dataframe tbody tr th:only-of-type {\n",
       "        vertical-align: middle;\n",
       "    }\n",
       "\n",
       "    .dataframe tbody tr th {\n",
       "        vertical-align: top;\n",
       "    }\n",
       "\n",
       "    .dataframe thead th {\n",
       "        text-align: right;\n",
       "    }\n",
       "</style>\n",
       "<table border=\"1\" class=\"dataframe\">\n",
       "  <thead>\n",
       "    <tr style=\"text-align: right;\">\n",
       "      <th></th>\n",
       "      <th>Job Title</th>\n",
       "      <th>Company</th>\n",
       "      <th>Experience</th>\n",
       "      <th>Location</th>\n",
       "    </tr>\n",
       "  </thead>\n",
       "  <tbody>\n",
       "    <tr>\n",
       "      <th>0</th>\n",
       "      <td>Senior/Lead - data Analyst</td>\n",
       "      <td>Movate Technologies</td>\n",
       "      <td>5-10 Yrs</td>\n",
       "      <td>Bangalore/Bengaluru, Hyderabad/Secunderabad, C...</td>\n",
       "    </tr>\n",
       "    <tr>\n",
       "      <th>1</th>\n",
       "      <td>Reference Data Analyst</td>\n",
       "      <td>Deutsche Bank</td>\n",
       "      <td>0-6 Yrs</td>\n",
       "      <td>Bangalore/Bengaluru</td>\n",
       "    </tr>\n",
       "    <tr>\n",
       "      <th>2</th>\n",
       "      <td>Data Analyst/Data Scientist- Automotive Domain</td>\n",
       "      <td>Verolt Engineering</td>\n",
       "      <td>3-6 Yrs</td>\n",
       "      <td>Bangalore/Bengaluru, Hyderabad/Secunderabad, Pune</td>\n",
       "    </tr>\n",
       "    <tr>\n",
       "      <th>3</th>\n",
       "      <td>Job || Data Analyst || Tech Mahindra</td>\n",
       "      <td>Tech Mahindra</td>\n",
       "      <td>5-10 Yrs</td>\n",
       "      <td>Temp. WFH - Bangalore/Bengaluru, Kolkata, Hyde...</td>\n",
       "    </tr>\n",
       "    <tr>\n",
       "      <th>4</th>\n",
       "      <td>Sr. Data Analyst</td>\n",
       "      <td>Ugam</td>\n",
       "      <td>4-8 Yrs</td>\n",
       "      <td>Bangalore/Bengaluru, Pune, Mumbai (All Areas)</td>\n",
       "    </tr>\n",
       "    <tr>\n",
       "      <th>5</th>\n",
       "      <td>Senior Data Management Analyst</td>\n",
       "      <td>Wells Fargo</td>\n",
       "      <td>8-9 Yrs</td>\n",
       "      <td>Bangalore/Bengaluru</td>\n",
       "    </tr>\n",
       "    <tr>\n",
       "      <th>6</th>\n",
       "      <td>Senior Analyst - Data Management</td>\n",
       "      <td>Accenture</td>\n",
       "      <td>5-8 Yrs</td>\n",
       "      <td>Bangalore/Bengaluru</td>\n",
       "    </tr>\n",
       "    <tr>\n",
       "      <th>7</th>\n",
       "      <td>Data Analyst - Python/Artificial Intelligence</td>\n",
       "      <td>iMindYourBusiness</td>\n",
       "      <td>0-2 Yrs</td>\n",
       "      <td>Bangalore/Bengaluru, Kolkata, Mumbai, Hyderaba...</td>\n",
       "    </tr>\n",
       "    <tr>\n",
       "      <th>8</th>\n",
       "      <td>Data Analyst / Sr Data Analyst - FIntech</td>\n",
       "      <td>Connexions</td>\n",
       "      <td>1-4 Yrs</td>\n",
       "      <td>Bangalore/Bengaluru</td>\n",
       "    </tr>\n",
       "    <tr>\n",
       "      <th>9</th>\n",
       "      <td>Senior Data Analyst</td>\n",
       "      <td>Krezig Consultants LLP</td>\n",
       "      <td>2-7 Yrs</td>\n",
       "      <td>Bangalore/Bengaluru</td>\n",
       "    </tr>\n",
       "  </tbody>\n",
       "</table>\n",
       "</div>"
      ],
      "text/plain": [
       "                                        Job Title                 Company  \\\n",
       "0                      Senior/Lead - data Analyst     Movate Technologies   \n",
       "1                          Reference Data Analyst           Deutsche Bank   \n",
       "2  Data Analyst/Data Scientist- Automotive Domain      Verolt Engineering   \n",
       "3            Job || Data Analyst || Tech Mahindra           Tech Mahindra   \n",
       "4                                Sr. Data Analyst                    Ugam   \n",
       "5                  Senior Data Management Analyst             Wells Fargo   \n",
       "6                Senior Analyst - Data Management               Accenture   \n",
       "7   Data Analyst - Python/Artificial Intelligence       iMindYourBusiness   \n",
       "8        Data Analyst / Sr Data Analyst - FIntech              Connexions   \n",
       "9                             Senior Data Analyst  Krezig Consultants LLP   \n",
       "\n",
       "  Experience                                           Location  \n",
       "0   5-10 Yrs  Bangalore/Bengaluru, Hyderabad/Secunderabad, C...  \n",
       "1    0-6 Yrs                                Bangalore/Bengaluru  \n",
       "2    3-6 Yrs  Bangalore/Bengaluru, Hyderabad/Secunderabad, Pune  \n",
       "3   5-10 Yrs  Temp. WFH - Bangalore/Bengaluru, Kolkata, Hyde...  \n",
       "4    4-8 Yrs      Bangalore/Bengaluru, Pune, Mumbai (All Areas)  \n",
       "5    8-9 Yrs                                Bangalore/Bengaluru  \n",
       "6    5-8 Yrs                                Bangalore/Bengaluru  \n",
       "7    0-2 Yrs  Bangalore/Bengaluru, Kolkata, Mumbai, Hyderaba...  \n",
       "8    1-4 Yrs                                Bangalore/Bengaluru  \n",
       "9    2-7 Yrs                                Bangalore/Bengaluru  "
      ]
     },
     "execution_count": 43,
     "metadata": {},
     "output_type": "execute_result"
    }
   ],
   "source": [
    "jobs = pd.DataFrame()\n",
    "jobs ['Job Title'] = job_titles\n",
    "jobs ['Company'] = Company_Name\n",
    "jobs ['Experience'] = Experience\n",
    "jobs['Location'] = location\n",
    "jobs.head(11)"
   ]
  },
  {
   "cell_type": "markdown",
   "id": "912a95d4",
   "metadata": {},
   "source": [
    "<font face = \"Verdana\" size = \"3\">Q2: Write a python program to scrape data for “Data Scientist” Job position in “Bangalore” location. You\n",
    "have to scrape the job-title, job-location, company_name. You have to scrape first 10 jobs data. This task will be done in following steps:"
   ]
  },
  {
   "cell_type": "code",
   "execution_count": 47,
   "id": "f4d04ee7",
   "metadata": {},
   "outputs": [],
   "source": [
    "#Let's first connect to web driver\n",
    "driver = webdriver. Chrome (r\"C:\\Users\\Kundan Patil\\DS0522\\INTERNSHIP\\Web Scraping\\chromedriver.exe\")"
   ]
  },
  {
   "cell_type": "code",
   "execution_count": 48,
   "id": "72311820",
   "metadata": {},
   "outputs": [],
   "source": [
    "#Let's maximize the automated chrome window\n",
    "driver.maximize_window()"
   ]
  },
  {
   "cell_type": "code",
   "execution_count": 49,
   "id": "da5831e3",
   "metadata": {},
   "outputs": [],
   "source": [
    "#Opening up naukri.com website on automated chrome window\n",
    "url = 'https://www.naukri.com/'\n",
    "driver.get(url)"
   ]
  },
  {
   "cell_type": "code",
   "execution_count": 50,
   "id": "ae8a2d38",
   "metadata": {},
   "outputs": [],
   "source": [
    " # finding web element for search job bar\n",
    "search_job = driver.find_element(By.CLASS_NAME, \"suggestor-input\")\n",
    "search_job.send_keys (\"Data Scientist\")"
   ]
  },
  {
   "cell_type": "code",
   "execution_count": 51,
   "id": "9e6241ee",
   "metadata": {},
   "outputs": [],
   "source": [
    "# finding web element for search Locn bar using absolute xpath\n",
    "search_locn = driver.find_element(By.XPATH,'/html/body/div[1]/div[6]/div/div/div[5]/div/div/div[1]/input')\n",
    "search_locn.send_keys (\"Delhi\") "
   ]
  },
  {
   "cell_type": "code",
   "execution_count": 52,
   "id": "703f1491",
   "metadata": {},
   "outputs": [],
   "source": [
    "# clicking using absolute xpath function\n",
    "search_btn = driver.find_element(By.CLASS_NAME, \"qsbSubmit\")\n",
    "search_btn.click()"
   ]
  },
  {
   "cell_type": "code",
   "execution_count": 53,
   "id": "5d76b34d",
   "metadata": {},
   "outputs": [
    {
     "data": {
      "text/plain": [
       "['Data Scientist',\n",
       " 'Data Scientist',\n",
       " 'Senior Data Scientist',\n",
       " 'Data Scientist - Noida/Bangalore',\n",
       " 'Data Scientist',\n",
       " 'DigitalBCG GAMMA Data Scientist',\n",
       " 'AVAP Agile Information Systems - Data Scientist - Machine Learning',\n",
       " 'Data Scientist- Bangalore/ Pune Hybrid',\n",
       " 'Data Scientist',\n",
       " 'Data Scientist']"
      ]
     },
     "execution_count": 53,
     "metadata": {},
     "output_type": "execute_result"
    }
   ],
   "source": [
    "# Let's extract all web elements having job titles\n",
    "job_titles = []\n",
    "title_tags =driver.find_elements(By.XPATH, \"//a[@class='title fw500 ellipsis']\")\n",
    "for i in range(0,10):\n",
    "    job_titles.append(title_tags[i].text)\n",
    "len (job_titles)\n",
    "(job_titles)"
   ]
  },
  {
   "cell_type": "code",
   "execution_count": 54,
   "id": "1df5f2d2",
   "metadata": {},
   "outputs": [
    {
     "data": {
      "text/plain": [
       "['Tata Nexarc',\n",
       " 'Mindtree',\n",
       " 'Boston Consulting Group',\n",
       " 'EXL',\n",
       " 'HCLTech',\n",
       " 'Boston Consulting Group',\n",
       " 'AVAP Agile',\n",
       " 'Team Plus Staffing Solution Pvt Ltd',\n",
       " 'ACS Solutions',\n",
       " 'ACS Solutions']"
      ]
     },
     "execution_count": 54,
     "metadata": {},
     "output_type": "execute_result"
    }
   ],
   "source": [
    "# Let's extract all web elements having company names\n",
    "company_names = []\n",
    "company_tags = driver.find_elements (By.XPATH,'//a[@class=\"subTitle ellipsis fleft\"]')\n",
    "for i in range(0,10):\n",
    "    company_names.append(company_tags[i].text)\n",
    "company_names"
   ]
  },
  {
   "cell_type": "code",
   "execution_count": 55,
   "id": "b0942428",
   "metadata": {},
   "outputs": [
    {
     "data": {
      "text/plain": [
       "['4-8 Yrs',\n",
       " '5-10 Yrs',\n",
       " '5-10 Yrs',\n",
       " '5-10 Yrs',\n",
       " '4-9 Yrs',\n",
       " '2-5 Yrs',\n",
       " '3-8 Yrs',\n",
       " '3-8 Yrs',\n",
       " '4-8 Yrs',\n",
       " '4-8 Yrs']"
      ]
     },
     "execution_count": 55,
     "metadata": {},
     "output_type": "execute_result"
    }
   ],
   "source": [
    " # Let's extract all web elements having experience using parent tag\n",
    "experience = []\n",
    "exp_tags=driver.find_elements (By.XPATH, '//li[@class=\"fleft grey-text br2 placeHolderLi experience\"]')\n",
    "for i in range(0,10):\n",
    "    experience.append(exp_tags[i].text)\n",
    "len(experience)\n",
    "experience"
   ]
  },
  {
   "cell_type": "code",
   "execution_count": 56,
   "id": "d1b09226",
   "metadata": {},
   "outputs": [
    {
     "data": {
      "text/plain": [
       "10"
      ]
     },
     "execution_count": 56,
     "metadata": {},
     "output_type": "execute_result"
    }
   ],
   "source": [
    "location = [] \n",
    "\n",
    "locn_tags= driver.find_elements (By.XPATH, '//li[@class=\"fleft grey-text br2 placeHolderLi location\"]')\n",
    "for i in range(0,10):\n",
    "    location.append(locn_tags[i].text)\n",
    "len(location)"
   ]
  },
  {
   "cell_type": "code",
   "execution_count": 57,
   "id": "5e673332",
   "metadata": {},
   "outputs": [
    {
     "data": {
      "text/html": [
       "<div>\n",
       "<style scoped>\n",
       "    .dataframe tbody tr th:only-of-type {\n",
       "        vertical-align: middle;\n",
       "    }\n",
       "\n",
       "    .dataframe tbody tr th {\n",
       "        vertical-align: top;\n",
       "    }\n",
       "\n",
       "    .dataframe thead th {\n",
       "        text-align: right;\n",
       "    }\n",
       "</style>\n",
       "<table border=\"1\" class=\"dataframe\">\n",
       "  <thead>\n",
       "    <tr style=\"text-align: right;\">\n",
       "      <th></th>\n",
       "      <th>Job Title</th>\n",
       "      <th>Company</th>\n",
       "      <th>Experience</th>\n",
       "      <th>Location</th>\n",
       "    </tr>\n",
       "  </thead>\n",
       "  <tbody>\n",
       "    <tr>\n",
       "      <th>0</th>\n",
       "      <td>Data Scientist</td>\n",
       "      <td>Tata Nexarc</td>\n",
       "      <td>4-8 Yrs</td>\n",
       "      <td>New Delhi, Hyderabad/Secunderabad, Pune, Ahmed...</td>\n",
       "    </tr>\n",
       "    <tr>\n",
       "      <th>1</th>\n",
       "      <td>Data Scientist</td>\n",
       "      <td>Mindtree</td>\n",
       "      <td>5-10 Yrs</td>\n",
       "      <td>Hybrid - Noida, Kolkata, Hyderabad/Secunderaba...</td>\n",
       "    </tr>\n",
       "    <tr>\n",
       "      <th>2</th>\n",
       "      <td>Senior Data Scientist</td>\n",
       "      <td>Boston Consulting Group</td>\n",
       "      <td>5-10 Yrs</td>\n",
       "      <td>New Delhi, Mumbai, Chennai, Bangalore/Bengaluru</td>\n",
       "    </tr>\n",
       "    <tr>\n",
       "      <th>3</th>\n",
       "      <td>Data Scientist - Noida/Bangalore</td>\n",
       "      <td>EXL</td>\n",
       "      <td>5-10 Yrs</td>\n",
       "      <td>Noida, Bangalore/Bengaluru</td>\n",
       "    </tr>\n",
       "    <tr>\n",
       "      <th>4</th>\n",
       "      <td>Data Scientist</td>\n",
       "      <td>HCLTech</td>\n",
       "      <td>4-9 Yrs</td>\n",
       "      <td>Noida, Hyderabad/Secunderabad, Chennai, Bangal...</td>\n",
       "    </tr>\n",
       "    <tr>\n",
       "      <th>5</th>\n",
       "      <td>DigitalBCG GAMMA Data Scientist</td>\n",
       "      <td>Boston Consulting Group</td>\n",
       "      <td>2-5 Yrs</td>\n",
       "      <td>New Delhi, Bangalore/Bengaluru</td>\n",
       "    </tr>\n",
       "    <tr>\n",
       "      <th>6</th>\n",
       "      <td>AVAP Agile Information Systems - Data Scientis...</td>\n",
       "      <td>AVAP Agile</td>\n",
       "      <td>3-8 Yrs</td>\n",
       "      <td>Delhi / NCR, Kolkata, Mumbai, Hyderabad/Secund...</td>\n",
       "    </tr>\n",
       "    <tr>\n",
       "      <th>7</th>\n",
       "      <td>Data Scientist- Bangalore/ Pune Hybrid</td>\n",
       "      <td>Team Plus Staffing Solution Pvt Ltd</td>\n",
       "      <td>3-8 Yrs</td>\n",
       "      <td>Delhi / NCR, Pune, Bangalore/Bengaluru</td>\n",
       "    </tr>\n",
       "    <tr>\n",
       "      <th>8</th>\n",
       "      <td>Data Scientist</td>\n",
       "      <td>ACS Solutions</td>\n",
       "      <td>4-8 Yrs</td>\n",
       "      <td>Noida, Hyderabad/Secunderabad, Pune, Chennai, ...</td>\n",
       "    </tr>\n",
       "    <tr>\n",
       "      <th>9</th>\n",
       "      <td>Data Scientist</td>\n",
       "      <td>ACS Solutions</td>\n",
       "      <td>4-8 Yrs</td>\n",
       "      <td>Noida, Hyderabad/Secunderabad, Pune, Chennai, ...</td>\n",
       "    </tr>\n",
       "  </tbody>\n",
       "</table>\n",
       "</div>"
      ],
      "text/plain": [
       "                                           Job Title  \\\n",
       "0                                     Data Scientist   \n",
       "1                                     Data Scientist   \n",
       "2                              Senior Data Scientist   \n",
       "3                   Data Scientist - Noida/Bangalore   \n",
       "4                                     Data Scientist   \n",
       "5                    DigitalBCG GAMMA Data Scientist   \n",
       "6  AVAP Agile Information Systems - Data Scientis...   \n",
       "7             Data Scientist- Bangalore/ Pune Hybrid   \n",
       "8                                     Data Scientist   \n",
       "9                                     Data Scientist   \n",
       "\n",
       "                               Company Experience  \\\n",
       "0                          Tata Nexarc    4-8 Yrs   \n",
       "1                             Mindtree   5-10 Yrs   \n",
       "2              Boston Consulting Group   5-10 Yrs   \n",
       "3                                  EXL   5-10 Yrs   \n",
       "4                              HCLTech    4-9 Yrs   \n",
       "5              Boston Consulting Group    2-5 Yrs   \n",
       "6                           AVAP Agile    3-8 Yrs   \n",
       "7  Team Plus Staffing Solution Pvt Ltd    3-8 Yrs   \n",
       "8                        ACS Solutions    4-8 Yrs   \n",
       "9                        ACS Solutions    4-8 Yrs   \n",
       "\n",
       "                                            Location  \n",
       "0  New Delhi, Hyderabad/Secunderabad, Pune, Ahmed...  \n",
       "1  Hybrid - Noida, Kolkata, Hyderabad/Secunderaba...  \n",
       "2    New Delhi, Mumbai, Chennai, Bangalore/Bengaluru  \n",
       "3                         Noida, Bangalore/Bengaluru  \n",
       "4  Noida, Hyderabad/Secunderabad, Chennai, Bangal...  \n",
       "5                     New Delhi, Bangalore/Bengaluru  \n",
       "6  Delhi / NCR, Kolkata, Mumbai, Hyderabad/Secund...  \n",
       "7             Delhi / NCR, Pune, Bangalore/Bengaluru  \n",
       "8  Noida, Hyderabad/Secunderabad, Pune, Chennai, ...  \n",
       "9  Noida, Hyderabad/Secunderabad, Pune, Chennai, ...  "
      ]
     },
     "execution_count": 57,
     "metadata": {},
     "output_type": "execute_result"
    }
   ],
   "source": [
    "jobs = pd.DataFrame()\n",
    "jobs ['Job Title'] = job_titles\n",
    "jobs ['Company'] = company_names\n",
    "jobs ['Experience'] = experience\n",
    "jobs['Location'] = location\n",
    "jobs.head(10)"
   ]
  },
  {
   "cell_type": "markdown",
   "id": "5e88555a",
   "metadata": {},
   "source": [
    "<font face = \"Verdana\" size = \"3\"> Q3: In this question you have to scrape data using the filters available on the webpage as shown below:<br>\n",
    "<br>You have to use the location and salary filter.\n",
    "<br>You have to scrape data for “Data Scientist” designation for first 10 job results. You have to scrape the job-title, <br>job-location, company name, experience required.\n",
    "<br>The location filter to be used is “Delhi/NCR”. The salary filter to be used is “3-6” lakhs\n",
    "    \n",
    "    The task will be done as shown in the below steps:\n",
    "1. first get the webpage https://www.naukri.com/\n",
    "2. Enter “Data Scientist” in “Skill, Designations, and Companies” field.\n",
    "3. Then click the search button.\n",
    "4. Then apply the location filter and salary filter by checking the respective boxes\n",
    "5. Then scrape the data for the first 10 jobs results you get.\n",
    "6. Finally create a dataframe of the scraped data.\n",
    "Note: All of the above steps have to be done in code. No"
   ]
  },
  {
   "cell_type": "markdown",
   "id": "0b70dc21",
   "metadata": {},
   "source": []
  },
  {
   "cell_type": "code",
   "execution_count": 78,
   "id": "fbbd231e",
   "metadata": {},
   "outputs": [],
   "source": [
    "driver = webdriver. Chrome (r\"C:\\Users\\Kundan Patil\\DS0522\\INTERNSHIP\\Web Scraping\\chromedriver.exe\")\n",
    "#Opening up naukri.com website on automated chrome window\n",
    "url = 'https://www.naukri.com/'\n",
    "driver.get(url)\n",
    "# finding web element for search job bar\n",
    "search_job = driver.find_element(By.CLASS_NAME, \"suggestor-input\")\n",
    "search_job.send_keys (\"Data Scientist\") #Enter “Data Scientist” in “Skill, Designations, and Companies” field"
   ]
  },
  {
   "cell_type": "code",
   "execution_count": 79,
   "id": "bd28462c",
   "metadata": {},
   "outputs": [],
   "source": [
    "# clicking using absolute xpath function\n",
    "search_btn = driver.find_element(By.CLASS_NAME, \"qsbSubmit\")\n",
    "search_btn.click() #Then click the search button."
   ]
  },
  {
   "cell_type": "code",
   "execution_count": 81,
   "id": "242f8f24",
   "metadata": {},
   "outputs": [],
   "source": [
    "locn_tags= driver.find_element(By.XPATH,'//span[@class=\"ellipsis fleft\" and @title=\"Delhi / NCR\" ]')\n",
    "locn_tags.click() #Then apply the location filter and salary filter by checking the respective boxes"
   ]
  },
  {
   "cell_type": "code",
   "execution_count": 82,
   "id": "8432a6eb",
   "metadata": {},
   "outputs": [
    {
     "data": {
      "text/html": [
       "<div>\n",
       "<style scoped>\n",
       "    .dataframe tbody tr th:only-of-type {\n",
       "        vertical-align: middle;\n",
       "    }\n",
       "\n",
       "    .dataframe tbody tr th {\n",
       "        vertical-align: top;\n",
       "    }\n",
       "\n",
       "    .dataframe thead th {\n",
       "        text-align: right;\n",
       "    }\n",
       "</style>\n",
       "<table border=\"1\" class=\"dataframe\">\n",
       "  <thead>\n",
       "    <tr style=\"text-align: right;\">\n",
       "      <th></th>\n",
       "      <th>Job Title</th>\n",
       "      <th>Company</th>\n",
       "      <th>Experience</th>\n",
       "    </tr>\n",
       "  </thead>\n",
       "  <tbody>\n",
       "    <tr>\n",
       "      <th>0</th>\n",
       "      <td>Data Scientist</td>\n",
       "      <td>Tata Nexarc</td>\n",
       "      <td>4-8 Yrs</td>\n",
       "    </tr>\n",
       "    <tr>\n",
       "      <th>1</th>\n",
       "      <td>Data Scientist</td>\n",
       "      <td>Mindtree</td>\n",
       "      <td>5-10 Yrs</td>\n",
       "    </tr>\n",
       "    <tr>\n",
       "      <th>2</th>\n",
       "      <td>Senior Data Scientist</td>\n",
       "      <td>Boston Consulting Group</td>\n",
       "      <td>5-10 Yrs</td>\n",
       "    </tr>\n",
       "    <tr>\n",
       "      <th>3</th>\n",
       "      <td>Data Scientist - Noida/Bangalore</td>\n",
       "      <td>EXL</td>\n",
       "      <td>5-10 Yrs</td>\n",
       "    </tr>\n",
       "    <tr>\n",
       "      <th>4</th>\n",
       "      <td>Data Scientist</td>\n",
       "      <td>HCLTech</td>\n",
       "      <td>4-9 Yrs</td>\n",
       "    </tr>\n",
       "    <tr>\n",
       "      <th>5</th>\n",
       "      <td>DigitalBCG GAMMA Data Scientist</td>\n",
       "      <td>Boston Consulting Group</td>\n",
       "      <td>2-5 Yrs</td>\n",
       "    </tr>\n",
       "    <tr>\n",
       "      <th>6</th>\n",
       "      <td>AVAP Agile Information Systems - Data Scientis...</td>\n",
       "      <td>AVAP Agile</td>\n",
       "      <td>3-8 Yrs</td>\n",
       "    </tr>\n",
       "    <tr>\n",
       "      <th>7</th>\n",
       "      <td>Data Scientist- Bangalore/ Pune Hybrid</td>\n",
       "      <td>Team Plus Staffing Solution Pvt Ltd</td>\n",
       "      <td>3-8 Yrs</td>\n",
       "    </tr>\n",
       "    <tr>\n",
       "      <th>8</th>\n",
       "      <td>Data Scientist</td>\n",
       "      <td>ACS Solutions</td>\n",
       "      <td>4-8 Yrs</td>\n",
       "    </tr>\n",
       "    <tr>\n",
       "      <th>9</th>\n",
       "      <td>Data Scientist</td>\n",
       "      <td>ACS Solutions</td>\n",
       "      <td>4-8 Yrs</td>\n",
       "    </tr>\n",
       "  </tbody>\n",
       "</table>\n",
       "</div>"
      ],
      "text/plain": [
       "                                           Job Title  \\\n",
       "0                                     Data Scientist   \n",
       "1                                     Data Scientist   \n",
       "2                              Senior Data Scientist   \n",
       "3                   Data Scientist - Noida/Bangalore   \n",
       "4                                     Data Scientist   \n",
       "5                    DigitalBCG GAMMA Data Scientist   \n",
       "6  AVAP Agile Information Systems - Data Scientis...   \n",
       "7             Data Scientist- Bangalore/ Pune Hybrid   \n",
       "8                                     Data Scientist   \n",
       "9                                     Data Scientist   \n",
       "\n",
       "                               Company Experience  \n",
       "0                          Tata Nexarc    4-8 Yrs  \n",
       "1                             Mindtree   5-10 Yrs  \n",
       "2              Boston Consulting Group   5-10 Yrs  \n",
       "3                                  EXL   5-10 Yrs  \n",
       "4                              HCLTech    4-9 Yrs  \n",
       "5              Boston Consulting Group    2-5 Yrs  \n",
       "6                           AVAP Agile    3-8 Yrs  \n",
       "7  Team Plus Staffing Solution Pvt Ltd    3-8 Yrs  \n",
       "8                        ACS Solutions    4-8 Yrs  \n",
       "9                        ACS Solutions    4-8 Yrs  "
      ]
     },
     "execution_count": 82,
     "metadata": {},
     "output_type": "execute_result"
    }
   ],
   "source": [
    "# Let's extract all web elements having job titles\n",
    "job_titles = []\n",
    "title_tags =driver.find_elements(By.XPATH, \"//a[@class='title fw500 ellipsis']\")\n",
    "for i in range(0,10):\n",
    "    job_titles.append(title_tags[i].text)\n",
    "len (job_titles)\n",
    "(job_titles)\n",
    "# Let's extract all web elements having company names\n",
    "company_names = []\n",
    "company_tags = driver.find_elements (By.XPATH,'//a[@class=\"subTitle ellipsis fleft\"]')\n",
    "for i in range(0,10):\n",
    "    company_names.append(company_tags[i].text)\n",
    "company_names\n",
    " # Let's extract all web elements having experience using parent tag\n",
    "experience = []\n",
    "exp_tags=driver.find_elements (By.XPATH, '//li[@class=\"fleft grey-text br2 placeHolderLi experience\"]')\n",
    "for i in range(0,10):\n",
    "    experience.append(exp_tags[i].text)\n",
    "len(experience)\n",
    "experience\n",
    "location = [] \n",
    "#Finally create a dataframe of the scraped data. Note: All of the above steps have to be done in code. No\n",
    "jobs = pd.DataFrame()\n",
    "jobs ['Job Title'] = job_titles\n",
    "jobs ['Company'] = company_names\n",
    "jobs ['Experience'] = experience\n",
    "\n",
    "jobs.head(10)"
   ]
  },
  {
   "cell_type": "markdown",
   "id": "af709cc6",
   "metadata": {},
   "source": [
    "<font face = \"Verdana\" size = \"3\">Q4: Scrape data of first 100 sunglasses listings on flipkart.com. You have to scrape four attributes:\n",
    "1. Brand\n",
    "2. Product Description\n",
    "3. Price\n",
    "The attributes which you have to scrape is ticked marked in the below image.\n",
    "To scrape\n",
    "    \n",
    "    To scrape the data you have to go through following steps:\n",
    "1. Go to Flipkart webpage by url : https://www.flipkart.com/\n",
    "2. Enter “sunglasses” in the search field where “search for products, brands and more” is written and\n",
    "click the search icon\n",
    "3. After that you will reach to the page having a lot of sunglasses. From this page you can scrap the required data as usual.\n",
    "4. After scraping data from the first page, go to the “Next” Button at the bottom other page , then click on it.\n",
    "5. Now scrape data from this page as usual\n",
    "6. Repeat this until you get data for 100 sunglasses."
   ]
  },
  {
   "cell_type": "code",
   "execution_count": 123,
   "id": "2b792c5a",
   "metadata": {},
   "outputs": [],
   "source": [
    "#Let's first connect to web driver\n",
    "driver = webdriver. Chrome (r\"C:\\Users\\Kundan Patil\\DS0522\\INTERNSHIP\\Web Scraping\\chromedriver.exe\")\n",
    "#Go to Flipkart webpage by url : https://www.flipkart.com/\n",
    "url='https://www.flipkart.com/'\n",
    "driver.get(url)"
   ]
  },
  {
   "cell_type": "code",
   "execution_count": 124,
   "id": "68c20df4",
   "metadata": {},
   "outputs": [
    {
     "data": {
      "text/plain": [
       "<selenium.webdriver.remote.webelement.WebElement (session=\"dccf0838ee4c12fe6024530e195adf12\", element=\"d62e06f8-aac1-4ac1-a11d-f9ec0a1496c9\")>"
      ]
     },
     "execution_count": 124,
     "metadata": {},
     "output_type": "execute_result"
    }
   ],
   "source": [
    " # finding web element for search job bar\n",
    "search_bar=driver.find_element(By.XPATH,'//input[@class=\"_3704LK\"]')\n",
    "search_bar"
   ]
  },
  {
   "cell_type": "code",
   "execution_count": 125,
   "id": "0a718d2b",
   "metadata": {},
   "outputs": [
    {
     "data": {
      "text/plain": [
       "<selenium.webdriver.remote.webelement.WebElement (session=\"dccf0838ee4c12fe6024530e195adf12\", element=\"4a2427f8-e4f9-417c-8c5a-5970742cb5fc\")>"
      ]
     },
     "execution_count": 125,
     "metadata": {},
     "output_type": "execute_result"
    }
   ],
   "source": [
    "search_btn=driver.find_element(By.XPATH,'//button[@class=\"L0Z3Pu\"]')\n",
    "search_btn "
   ]
  },
  {
   "cell_type": "code",
   "execution_count": 126,
   "id": "a45f07c4",
   "metadata": {},
   "outputs": [],
   "source": [
    "search_bar.send_keys ('sunglasses') # Enter “sunglasses” in the search field \n",
    "search_bar.click()"
   ]
  },
  {
   "cell_type": "code",
   "execution_count": 127,
   "id": "54026049",
   "metadata": {},
   "outputs": [],
   "source": [
    "search_btn.click()"
   ]
  },
  {
   "cell_type": "code",
   "execution_count": 134,
   "id": "81cb7619",
   "metadata": {},
   "outputs": [],
   "source": [
    "# Let's extract all Brand name\n",
    "Brand = []\n",
    "title_tags =driver.find_elements(By.XPATH, '//div[@class=\"_2WkVRV\"]')\n",
    "for i in title_tags:\n",
    "    Brand.append(i.text)"
   ]
  },
  {
   "cell_type": "code",
   "execution_count": 136,
   "id": "74884317",
   "metadata": {},
   "outputs": [],
   "source": [
    "# Let's extract all Product Description\n",
    "PD = []\n",
    "Dis =driver.find_elements(By.XPATH, '//a[@class=\"IRpwTa\"]')\n",
    "for i in Dis:\n",
    "    PD.append(i.text)"
   ]
  },
  {
   "cell_type": "code",
   "execution_count": 139,
   "id": "478bb220",
   "metadata": {},
   "outputs": [],
   "source": [
    "# Let's extract Price \n",
    "rupees = []\n",
    "paisa =driver.find_elements(By.XPATH, '//div[@class=\"_30jeq3\"]')\n",
    "for i in paisa:\n",
    "    rupees.append(i.text)"
   ]
  },
  {
   "cell_type": "code",
   "execution_count": 177,
   "id": "0b315206",
   "metadata": {},
   "outputs": [],
   "source": [
    "# to scrap data from next page\n",
    "Brand = []\n",
    "PD = []\n",
    "rupees = []\n",
    "start=0\n",
    "end=2\n",
    "for page in range (start, end) :\n",
    "    title_tags =driver.find_elements(By.XPATH, '//div[@class=\"_2WkVRV\"]')\n",
    "    for i in title_tags:\n",
    "        Brand.append(i.text)\n",
    "    Dis =driver.find_elements(By.XPATH, '//a[@class=\"IRpwTa\"]')\n",
    "    for i in Dis:\n",
    "        PD.append(i.text)\n",
    "    paisa =driver.find_elements(By.XPATH, '//div[@class=\"_30jeq3\"]')\n",
    "    for i in paisa:\n",
    "        rupees.append(i.text)\n",
    "    driver.find_element(By.XPATH,'//*[@id=\"container\"]/div/div[3]/div[1]/div[2]/div[12]/div/div/nav/a[12]').click() # go to the “Next” Button\n",
    "    time.sleep(10)\n",
    "   "
   ]
  },
  {
   "cell_type": "code",
   "execution_count": 185,
   "id": "09bfb1f6",
   "metadata": {},
   "outputs": [
    {
     "data": {
      "text/html": [
       "<div>\n",
       "<style scoped>\n",
       "    .dataframe tbody tr th:only-of-type {\n",
       "        vertical-align: middle;\n",
       "    }\n",
       "\n",
       "    .dataframe tbody tr th {\n",
       "        vertical-align: top;\n",
       "    }\n",
       "\n",
       "    .dataframe thead th {\n",
       "        text-align: right;\n",
       "    }\n",
       "</style>\n",
       "<table border=\"1\" class=\"dataframe\">\n",
       "  <thead>\n",
       "    <tr style=\"text-align: right;\">\n",
       "      <th></th>\n",
       "      <th>Brand</th>\n",
       "      <th>PD</th>\n",
       "      <th>rupees</th>\n",
       "    </tr>\n",
       "  </thead>\n",
       "  <tbody>\n",
       "    <tr>\n",
       "      <th>0</th>\n",
       "      <td>CRYSTAL CART</td>\n",
       "      <td>Polarized, UV Protection, Mirrored, Gradient R...</td>\n",
       "      <td>₹459</td>\n",
       "    </tr>\n",
       "    <tr>\n",
       "      <th>1</th>\n",
       "      <td>EYELLUSION</td>\n",
       "      <td>UV Protection, Polarized, Riding Glasses, Nigh...</td>\n",
       "      <td>₹201</td>\n",
       "    </tr>\n",
       "    <tr>\n",
       "      <th>2</th>\n",
       "      <td>METRONAUT</td>\n",
       "      <td>UV Protection, Gradient Sunglass</td>\n",
       "      <td>₹254</td>\n",
       "    </tr>\n",
       "    <tr>\n",
       "      <th>3</th>\n",
       "      <td>GANSTA</td>\n",
       "      <td>Riding Glasses, UV Protection Aviator Sunglass...</td>\n",
       "      <td>₹293</td>\n",
       "    </tr>\n",
       "    <tr>\n",
       "      <th>4</th>\n",
       "      <td>Ray-Ban</td>\n",
       "      <td>UV Protection Aviator Sunglasses (62)</td>\n",
       "      <td>₹7,509</td>\n",
       "    </tr>\n",
       "    <tr>\n",
       "      <th>...</th>\n",
       "      <td>...</td>\n",
       "      <td>...</td>\n",
       "      <td>...</td>\n",
       "    </tr>\n",
       "    <tr>\n",
       "      <th>75</th>\n",
       "      <td>Zyaden</td>\n",
       "      <td>UV Protection, Gradient Wayfarer Sunglasses (F...</td>\n",
       "      <td>₹284</td>\n",
       "    </tr>\n",
       "    <tr>\n",
       "      <th>76</th>\n",
       "      <td>Fair-x</td>\n",
       "      <td>Mirrored, Riding Glasses, UV Protection Sports...</td>\n",
       "      <td>₹363</td>\n",
       "    </tr>\n",
       "    <tr>\n",
       "      <th>77</th>\n",
       "      <td>ROYAL SON</td>\n",
       "      <td>Polarized, UV Protection Aviator Sunglasses (58)</td>\n",
       "      <td>₹711</td>\n",
       "    </tr>\n",
       "    <tr>\n",
       "      <th>78</th>\n",
       "      <td>Singco India</td>\n",
       "      <td>Mirrored, Riding Glasses, Others Sports Sungla...</td>\n",
       "      <td>₹205</td>\n",
       "    </tr>\n",
       "    <tr>\n",
       "      <th>79</th>\n",
       "      <td>hipe</td>\n",
       "      <td>UV Protection, Gradient, Mirrored, Riding Glas...</td>\n",
       "      <td>₹229</td>\n",
       "    </tr>\n",
       "  </tbody>\n",
       "</table>\n",
       "<p>80 rows × 3 columns</p>\n",
       "</div>"
      ],
      "text/plain": [
       "           Brand                                                 PD  rupees\n",
       "0   CRYSTAL CART  Polarized, UV Protection, Mirrored, Gradient R...    ₹459\n",
       "1     EYELLUSION  UV Protection, Polarized, Riding Glasses, Nigh...    ₹201\n",
       "2      METRONAUT                   UV Protection, Gradient Sunglass    ₹254\n",
       "3         GANSTA  Riding Glasses, UV Protection Aviator Sunglass...    ₹293\n",
       "4        Ray-Ban              UV Protection Aviator Sunglasses (62)  ₹7,509\n",
       "..           ...                                                ...     ...\n",
       "75        Zyaden  UV Protection, Gradient Wayfarer Sunglasses (F...    ₹284\n",
       "76        Fair-x  Mirrored, Riding Glasses, UV Protection Sports...    ₹363\n",
       "77     ROYAL SON   Polarized, UV Protection Aviator Sunglasses (58)    ₹711\n",
       "78  Singco India  Mirrored, Riding Glasses, Others Sports Sungla...    ₹205\n",
       "79          hipe  UV Protection, Gradient, Mirrored, Riding Glas...    ₹229\n",
       "\n",
       "[80 rows x 3 columns]"
      ]
     },
     "execution_count": 185,
     "metadata": {},
     "output_type": "execute_result"
    }
   ],
   "source": [
    "df = pd.DataFrame()\n",
    "df['Brand'] = Brand\n",
    "df['PD'] = PD\n",
    "df['rupees'] = rupees\n",
    "df.head(100)\n"
   ]
  },
  {
   "cell_type": "markdown",
   "id": "a27ec44d",
   "metadata": {},
   "source": [
    "<font face = \"Verdana\" size = \"3\">Q5: Scrape 100 reviews data from flipkart.com for iphone11 phone. You have to go the link: https://www.flipkart.com/apple-iphone-11-black-64-gb-includes-earpods-power-adapter/p/itm0f37c2240b217?pid=MOBFKCTSVZAXUHGR&lid=LSTMOBFKCTSVZAXUHGREPBFGI&marketplace.\n",
    "When you will open the above link you will reach to the below shown webpage\n",
    "As shown in the above page you have to scrape the tick marked attributes.These are:\n",
    "1. Rating\n",
    "2. Review summary\n",
    "3. Full review\n",
    "4. You have to scrape this data for first 100 reviews"
   ]
  },
  {
   "cell_type": "code",
   "execution_count": 186,
   "id": "92bdbaf1",
   "metadata": {},
   "outputs": [],
   "source": [
    "#Let's first connect to web driver\n",
    "driver = webdriver. Chrome (r\"C:\\Users\\Kundan Patil\\DS0522\\INTERNSHIP\\Web Scraping\\chromedriver.exe\")\n",
    "#Go to Flipkart webpage by url : https://www.flipkart.com/\n",
    "url='https://www.flipkart.com/apple-iphone-11-black-64-gb-includes- earpods-power- adapter/p/itm0f37c2240b217?pid=MOBFKCTSVZAXUHGR&lid=LSTMOBFKC TSVZAXUHGREPBFGI&marketplace.'\n",
    "driver.get(url)"
   ]
  },
  {
   "cell_type": "markdown",
   "id": "35ab11da",
   "metadata": {},
   "source": [
    "provided Link for Q5 is not working "
   ]
  },
  {
   "attachments": {
    "image.png": {
     "image/png": "[encoded data removed]"
    }
   },
   "cell_type": "markdown",
   "id": "57e491fb",
   "metadata": {},
   "source": [
    "![image.png](attachment:image.png)"
   ]
  },
  {
   "cell_type": "markdown",
   "id": "c841703b",
   "metadata": {},
   "source": [
    "<font face = \"Verdana\" size = \"3\"> Q7: Go to the link - https://www.myntra.com/shoes\n",
    "Set second Price filter and Color filter to “Black”, as shown in the below image. And then scrape First 100 shoes data you get. The data should include “Brand” of the shoes , Short Shoe description, price of the shoe as shown in the below image."
   ]
  },
  {
   "cell_type": "code",
   "execution_count": 296,
   "id": "da392d9a",
   "metadata": {},
   "outputs": [],
   "source": [
    "#Let's first connect to web driver\n",
    "driver = webdriver. Chrome (r\"C:\\Users\\Kundan Patil\\DS0522\\INTERNSHIP\\Web Scraping\\chromedriver.exe\")\n",
    "#Go to myntra webpage by url \n",
    "url='https://www.myntra.com/shoes'\n",
    "driver.get(url)"
   ]
  },
  {
   "cell_type": "code",
   "execution_count": 297,
   "id": "0e1b7863",
   "metadata": {},
   "outputs": [],
   "source": [
    "spf=driver.find_element (By.XPATH, '//span[@class=\"colour-label colour-colorDisplay\"]')\n"
   ]
  },
  {
   "cell_type": "code",
   "execution_count": 298,
   "id": "c3a9e34b",
   "metadata": {},
   "outputs": [],
   "source": [
    "spf.click()"
   ]
  },
  {
   "cell_type": "code",
   "execution_count": 299,
   "id": "3facc390",
   "metadata": {},
   "outputs": [],
   "source": [
    "st = driver.find_element(By.XPATH, '/html/body/div[2]/div/main/div[3]/div[1]/section/div/div[5]/ul/li[2]/label/div')\n"
   ]
  },
  {
   "cell_type": "code",
   "execution_count": 300,
   "id": "91205f2b",
   "metadata": {},
   "outputs": [],
   "source": [
    "st.click()"
   ]
  },
  {
   "cell_type": "code",
   "execution_count": 310,
   "id": "97068972",
   "metadata": {},
   "outputs": [],
   "source": [
    "Brand = []\n",
    "PD = []\n",
    "rupees = []\n",
    "start=0\n",
    "end=2\n",
    "for page in range (start, end) :\n",
    "    title_tags =driver.find_elements(By.XPATH, '//h3[@class=\"product-brand\"]')\n",
    "    for i in title_tags:\n",
    "        Brand.append(i.text)\n",
    "    Dis =driver.find_elements(By.XPATH, '//h4[@class=\"product-product\"]')\n",
    "    for i in Dis:\n",
    "        PD.append(i.text)\n",
    "    paisa =driver.find_elements(By.XPATH, '//div[@class=\"product-price\"]')\n",
    "    for i in paisa:\n",
    "        rupees.append(i.text)\n",
    "    driver.find_element(By.XPATH,'//*[@id=\"desktopSearchResults\"]/div[2]/section/div[2]/ul/li[12]/a').click() # go to the “Next” Button\n",
    "    time.sleep(10)"
   ]
  },
  {
   "cell_type": "code",
   "execution_count": null,
   "id": "db3a9065",
   "metadata": {},
   "outputs": [],
   "source": []
  },
  {
   "cell_type": "code",
   "execution_count": 311,
   "id": "9cb536f8",
   "metadata": {},
   "outputs": [
    {
     "data": {
      "text/html": [
       "<div>\n",
       "<style scoped>\n",
       "    .dataframe tbody tr th:only-of-type {\n",
       "        vertical-align: middle;\n",
       "    }\n",
       "\n",
       "    .dataframe tbody tr th {\n",
       "        vertical-align: top;\n",
       "    }\n",
       "\n",
       "    .dataframe thead th {\n",
       "        text-align: right;\n",
       "    }\n",
       "</style>\n",
       "<table border=\"1\" class=\"dataframe\">\n",
       "  <thead>\n",
       "    <tr style=\"text-align: right;\">\n",
       "      <th></th>\n",
       "      <th>Brand</th>\n",
       "      <th>PD</th>\n",
       "      <th>rupees</th>\n",
       "    </tr>\n",
       "  </thead>\n",
       "  <tbody>\n",
       "    <tr>\n",
       "      <th>0</th>\n",
       "      <td>Nike</td>\n",
       "      <td>JORDAN MAX AURA 4 Shoes</td>\n",
       "      <td>Rs. 10165Rs. 11295(10% OFF)</td>\n",
       "    </tr>\n",
       "    <tr>\n",
       "      <th>1</th>\n",
       "      <td>Nike</td>\n",
       "      <td>Men KD T5 XEP Basketball Shoes</td>\n",
       "      <td>Rs. 7645Rs. 8495(10% OFF)</td>\n",
       "    </tr>\n",
       "    <tr>\n",
       "      <th>2</th>\n",
       "      <td>Nike</td>\n",
       "      <td>Men Air Max Flyknit Sneakers</td>\n",
       "      <td>Rs. 13495Rs. 14995(10% OFF)</td>\n",
       "    </tr>\n",
       "    <tr>\n",
       "      <th>3</th>\n",
       "      <td>Nike</td>\n",
       "      <td>Men Air Max Sneakers</td>\n",
       "      <td>Rs. 8295</td>\n",
       "    </tr>\n",
       "    <tr>\n",
       "      <th>4</th>\n",
       "      <td>UNDER ARMOUR</td>\n",
       "      <td>Men ChargedEscape 3 BL Running</td>\n",
       "      <td>Rs. 7199Rs. 8999(20% OFF)</td>\n",
       "    </tr>\n",
       "  </tbody>\n",
       "</table>\n",
       "</div>"
      ],
      "text/plain": [
       "          Brand                              PD                       rupees\n",
       "0          Nike         JORDAN MAX AURA 4 Shoes  Rs. 10165Rs. 11295(10% OFF)\n",
       "1          Nike  Men KD T5 XEP Basketball Shoes    Rs. 7645Rs. 8495(10% OFF)\n",
       "2          Nike    Men Air Max Flyknit Sneakers  Rs. 13495Rs. 14995(10% OFF)\n",
       "3          Nike            Men Air Max Sneakers                     Rs. 8295\n",
       "4  UNDER ARMOUR  Men ChargedEscape 3 BL Running    Rs. 7199Rs. 8999(20% OFF)"
      ]
     },
     "execution_count": 311,
     "metadata": {},
     "output_type": "execute_result"
    }
   ],
   "source": [
    "df = pd.DataFrame()\n",
    "df['Brand'] = Brand\n",
    "df['PD'] = PD\n",
    "df['rupees'] = rupees\n",
    "df.head()"
   ]
  },
  {
   "cell_type": "markdown",
   "id": "8773d2be",
   "metadata": {},
   "source": [
    "<font face = \"Verdana\" size = \"3\"> <br>Q8: Go to webpage https://www.amazon.in/\n",
    "<font face = \"Verdana\" size = \"3\"> <br>Enter “Laptop” in the search field and then click the search icon.\n",
    "<font face = \"Verdana\" size = \"3\"> <br>Then set CPU Type filter to “Intel Core i7” as shown in the below image:\n",
    "<font face = \"Verdana\" size = \"3\"> <br>    After setting the filters scrape first 10 laptops data. You have to scrape 3 attributesfor each laptop:\n",
    "1. Title\n",
    "2. Ratings\n",
    "3. Price"
   ]
  },
  {
   "cell_type": "code",
   "execution_count": 77,
   "id": "8af04d7c",
   "metadata": {},
   "outputs": [],
   "source": [
    "#Let's first connect to web driver\n",
    "driver = webdriver. Chrome (r\"C:\\Users\\Kundan Patil\\DS0522\\INTERNSHIP\\Web Scraping\\chromedriver.exe\")\n",
    "#Go to https://www.amazon.in/ webpage by url \n",
    "url='https://www.amazon.in/'\n",
    "driver.get(url)"
   ]
  },
  {
   "cell_type": "code",
   "execution_count": 78,
   "id": "d11571ae",
   "metadata": {},
   "outputs": [],
   "source": [
    "search_bar=driver.find_element(By.XPATH,'//*[@id=\"twotabsearchtextbox\"]') "
   ]
  },
  {
   "cell_type": "code",
   "execution_count": 79,
   "id": "c844835d",
   "metadata": {},
   "outputs": [],
   "source": [
    "search_bar.send_keys ('Laptop') # Enter “Laptop” in the search field \n"
   ]
  },
  {
   "cell_type": "code",
   "execution_count": 80,
   "id": "144edbeb",
   "metadata": {},
   "outputs": [],
   "source": [
    "search_bar.click()"
   ]
  },
  {
   "cell_type": "code",
   "execution_count": 81,
   "id": "5c7a315d",
   "metadata": {},
   "outputs": [],
   "source": [
    "search_btn=driver.find_element(By.XPATH,'//*[@id=\"nav-search-submit-button\"]')\n"
   ]
  },
  {
   "cell_type": "code",
   "execution_count": 82,
   "id": "010f5aa1",
   "metadata": {},
   "outputs": [],
   "source": [
    "search_btn.click() #then click the search icon"
   ]
  },
  {
   "cell_type": "code",
   "execution_count": 83,
   "id": "04dbfdb8",
   "metadata": {},
   "outputs": [],
   "source": [
    "sfilter=driver.find_element(By.XPATH,'//*[@id=\"p_n_feature_thirteen_browse-bin/12598163031\"]/span/a/span')"
   ]
  },
  {
   "cell_type": "code",
   "execution_count": 84,
   "id": "9ee15a74",
   "metadata": {},
   "outputs": [],
   "source": [
    "sfilter.click()"
   ]
  },
  {
   "cell_type": "code",
   "execution_count": 85,
   "id": "36c60277",
   "metadata": {},
   "outputs": [
    {
     "data": {
      "text/plain": [
       "['(Renewed) HP ProBook 430 G3 6th Gen Intel Core i7 Thin & Light HD Laptop (8 GB DDR4 RAM/256 GB SSD/13.3\" (33.8 cm)/Windows 11/MS Office/Wifi/Bluetooth 4.0/Webcam/Integrated Graphics)',\n",
       " 'HP Pavilion x360 11th Gen Intel Core i7 14 inch(35.6 cm) FHD,IPS, Multitouch 2-in-1 Laptop(16GB RAM/512GB SSD/Backlit KB/Intel Iris Xe Graphics/Pen/Alexa Built-in/MSO/1.52Kg) 14-dy1050TU, Spruce Blue',\n",
       " 'HP Pavilion Plus, 12th Gen Intel Core i7 16GB RAM/1TB SSD 14 inch(35.6 cm),OLED,400 nits,UWVA, Eye Safe Laptop/Intel Iris Xe Graphics/Backlit KB/B&O/FPR/Win 11/Alexa Built-in/MSO 2021, 14-eh0024TU',\n",
       " '(Renewed) Dell 7480 Intel Core i7 14-Inch (35.56 cms) Full HD (1920 X 1080) Laptop (16 GB/256 SSD/Windows 10 Pro/Integrated_graphics/Black/2.16 Kg), TFJ45',\n",
       " 'Acer Nitro 5 Gaming Laptop Intel core i7 11th Gen (16 GB/ 512 GB SSD/ NVIDIA® GeForce RTX 3050 Ti/ Windows 11 Home/144hz) AN515-57 with 39.6 cm (15.6 inches) IPS Display / 2.2 Kgs',\n",
       " '(Renewed) Dell Windows 10 Pro Latitude Ultralight Laptop 7370 Intel Core i7 Mobile-6th Gen - M7-6Y75 Processor , 8 GB Ram & 128 GB SSD, 13.3 inches FHD Screen 1.18 kg Notebook Computer',\n",
       " 'Fujitsu UH-X 11th Gen Intel Core i7 13.3\" FHD IPS 400Nits 2-in1 Touch Convertible Laptop (16GB/1TB SSD/Windows 11/MS Office 2021/Iris Xe Graphics/2 Yr Warranty/Backlit Kb/Black/0.997 kg, 4ZR1F38027)',\n",
       " 'Lenovo IdeaPad Slim 5 12th Gen Intel Core i7 15.6\"(39.62cm) FHD IPS Laptop (16GB/512GB SSD/Win 11/Office 2021/Backlit KB/Fingerprint/FHD Camera/Alexa/3 Month Game Pass/Storm Grey/1.85Kg), 82SF004XIN',\n",
       " 'Infinix X1 Slim Series Core i7 10th Gen - (16 GB/512 GB SSD/Windows 11 Home) XL21 Thin and Light Laptop (14 Inch, 1.24 kg)',\n",
       " 'Lenovo Ideapad Gaming 3 Intel Core i7 10th Gen 15.6\"(39.62cm) FHD IPS Gaming Laptop (8GB/512GB SSD/4GB NVIDIA GTX 1650/120Hz/Windows 11/Backlit Keyboard/3months Game Pass/Onyx Black/2.2Kg), 81Y401BHIN']"
      ]
     },
     "execution_count": 85,
     "metadata": {},
     "output_type": "execute_result"
    }
   ],
   "source": [
    "title=[]\n",
    "Scrap_title = driver.find_elements(By.XPATH,'//span[@class=\"a-size-medium a-color-base a-text-normal\"]')\n",
    "#scrape first 10 laptops data # title\n",
    "for i in range(0,10):\n",
    "    title.append(Scrap_title[i].text)\n",
    "title\n"
   ]
  },
  {
   "cell_type": "code",
   "execution_count": null,
   "id": "b9cd7c18",
   "metadata": {},
   "outputs": [],
   "source": []
  },
  {
   "cell_type": "code",
   "execution_count": 86,
   "id": "6aef84ba",
   "metadata": {},
   "outputs": [
    {
     "data": {
      "text/plain": [
       "['24,995',\n",
       " '79,990',\n",
       " '93,990',\n",
       " '30,500',\n",
       " '82,990',\n",
       " '25,413',\n",
       " '99,990',\n",
       " '82,990',\n",
       " '40,999',\n",
       " '73,990']"
      ]
     },
     "execution_count": 86,
     "metadata": {},
     "output_type": "execute_result"
    }
   ],
   "source": [
    "#scrape first 10 laptops data # Price\n",
    "price=[]\n",
    "Scrap_price = driver.find_elements(By.XPATH,'//span[@class=\"a-price-whole\"]')\n",
    "for i in range(0,10):\n",
    "    price.append(Scrap_price[i].text)\n",
    "price\n"
   ]
  },
  {
   "cell_type": "code",
   "execution_count": 88,
   "id": "f242e7ae",
   "metadata": {},
   "outputs": [
    {
     "data": {
      "text/plain": [
       "(10, 10)"
      ]
     },
     "execution_count": 88,
     "metadata": {},
     "output_type": "execute_result"
    }
   ],
   "source": [
    "len(price),len(title)"
   ]
  },
  {
   "cell_type": "code",
   "execution_count": 89,
   "id": "178993ea",
   "metadata": {},
   "outputs": [
    {
     "data": {
      "text/html": [
       "<div>\n",
       "<style scoped>\n",
       "    .dataframe tbody tr th:only-of-type {\n",
       "        vertical-align: middle;\n",
       "    }\n",
       "\n",
       "    .dataframe tbody tr th {\n",
       "        vertical-align: top;\n",
       "    }\n",
       "\n",
       "    .dataframe thead th {\n",
       "        text-align: right;\n",
       "    }\n",
       "</style>\n",
       "<table border=\"1\" class=\"dataframe\">\n",
       "  <thead>\n",
       "    <tr style=\"text-align: right;\">\n",
       "      <th></th>\n",
       "      <th>title</th>\n",
       "      <th>price</th>\n",
       "    </tr>\n",
       "  </thead>\n",
       "  <tbody>\n",
       "    <tr>\n",
       "      <th>0</th>\n",
       "      <td>(Renewed) HP ProBook 430 G3 6th Gen Intel Core...</td>\n",
       "      <td>24,995</td>\n",
       "    </tr>\n",
       "    <tr>\n",
       "      <th>1</th>\n",
       "      <td>HP Pavilion x360 11th Gen Intel Core i7 14 inc...</td>\n",
       "      <td>79,990</td>\n",
       "    </tr>\n",
       "    <tr>\n",
       "      <th>2</th>\n",
       "      <td>HP Pavilion Plus, 12th Gen Intel Core i7 16GB ...</td>\n",
       "      <td>93,990</td>\n",
       "    </tr>\n",
       "    <tr>\n",
       "      <th>3</th>\n",
       "      <td>(Renewed) Dell 7480 Intel Core i7 14-Inch (35....</td>\n",
       "      <td>30,500</td>\n",
       "    </tr>\n",
       "    <tr>\n",
       "      <th>4</th>\n",
       "      <td>Acer Nitro 5 Gaming Laptop Intel core i7 11th ...</td>\n",
       "      <td>82,990</td>\n",
       "    </tr>\n",
       "  </tbody>\n",
       "</table>\n",
       "</div>"
      ],
      "text/plain": [
       "                                               title   price\n",
       "0  (Renewed) HP ProBook 430 G3 6th Gen Intel Core...  24,995\n",
       "1  HP Pavilion x360 11th Gen Intel Core i7 14 inc...  79,990\n",
       "2  HP Pavilion Plus, 12th Gen Intel Core i7 16GB ...  93,990\n",
       "3  (Renewed) Dell 7480 Intel Core i7 14-Inch (35....  30,500\n",
       "4  Acer Nitro 5 Gaming Laptop Intel core i7 11th ...  82,990"
      ]
     },
     "execution_count": 89,
     "metadata": {},
     "output_type": "execute_result"
    }
   ],
   "source": [
    "df = pd.DataFrame()\n",
    "df['title'] = title\n",
    "df['price'] = price\n",
    "df.head()"
   ]
  },
  {
   "cell_type": "code",
   "execution_count": 90,
   "id": "f400275a",
   "metadata": {},
   "outputs": [
    {
     "data": {
      "text/plain": [
       "[None,\n",
       " None,\n",
       " None,\n",
       " None,\n",
       " None,\n",
       " None,\n",
       " None,\n",
       " None,\n",
       " None,\n",
       " None,\n",
       " None,\n",
       " None,\n",
       " None,\n",
       " None,\n",
       " None,\n",
       " None,\n",
       " None,\n",
       " None,\n",
       " None,\n",
       " None,\n",
       " None,\n",
       " None,\n",
       " None,\n",
       " None,\n",
       " None,\n",
       " None,\n",
       " None,\n",
       " None,\n",
       " None,\n",
       " None,\n",
       " None,\n",
       " None,\n",
       " None,\n",
       " None,\n",
       " None,\n",
       " None,\n",
       " None,\n",
       " None,\n",
       " None,\n",
       " None,\n",
       " None,\n",
       " None,\n",
       " None,\n",
       " None,\n",
       " None,\n",
       " None,\n",
       " None,\n",
       " None,\n",
       " None,\n",
       " None,\n",
       " None,\n",
       " None,\n",
       " None,\n",
       " None,\n",
       " None,\n",
       " None,\n",
       " None,\n",
       " None,\n",
       " None,\n",
       " None,\n",
       " None,\n",
       " None,\n",
       " None,\n",
       " None,\n",
       " None,\n",
       " None,\n",
       " None,\n",
       " None,\n",
       " None]"
      ]
     },
     "execution_count": 90,
     "metadata": {},
     "output_type": "execute_result"
    }
   ],
   "source": [
    "#scrape first 10 laptops data # Ratings\n",
    "Ratings=[]\n",
    "ratings_box = driver.find_elements(By.XPATH,'//div[@class=\"a-section a-spacing-none a-spacing-top-micro\"]')\n",
    "for i in ratings_box:\n",
    "    k = i.get_attribute('aria-label')\n",
    "    \n",
    "    Ratings.append(k)\n",
    "Ratings\n",
    "\n"
   ]
  },
  {
   "cell_type": "markdown",
   "id": "3e66276f",
   "metadata": {},
   "source": [
    "Q9: Write a python program to scrape data for Top 1000 Quotes of All Time.\n",
    "The above task will be done in following steps:\n",
    "1.First get the webpage https://www.azquotes.com/\n",
    "2. Click on Top Quotes\n",
    "3. Than scrap a) Quote b) Author c) Type Of Quote"
   ]
  },
  {
   "cell_type": "code",
   "execution_count": 97,
   "id": "8e9c52a5",
   "metadata": {},
   "outputs": [],
   "source": [
    "#Let's first connect to web driver\n",
    "driver = webdriver. Chrome (r\"C:\\Users\\Kundan Patil\\DS0522\\INTERNSHIP\\Web Scraping\\chromedriver.exe\")\n",
    "#Go to https://www.azquotes.com/ webpage by url \n",
    "url='https://www.azquotes.com/'\n",
    "driver.get(url)\n"
   ]
  },
  {
   "cell_type": "code",
   "execution_count": 98,
   "id": "1db5bfa5",
   "metadata": {},
   "outputs": [],
   "source": [
    "Click_on_Top_Quotes=driver.find_element(By.XPATH,'//*[@id=\"menu\"]/div/div[3]/ul/li[5]/a')"
   ]
  },
  {
   "cell_type": "code",
   "execution_count": 99,
   "id": "7731646a",
   "metadata": {},
   "outputs": [],
   "source": [
    "Click_on_Top_Quotes.click()"
   ]
  },
  {
   "cell_type": "code",
   "execution_count": 100,
   "id": "a031789c",
   "metadata": {},
   "outputs": [],
   "source": [
    "Quote  =[]\n",
    "Author=[]\n",
    "Type=[]"
   ]
  },
  {
   "cell_type": "code",
   "execution_count": null,
   "id": "50425d86",
   "metadata": {},
   "outputs": [],
   "source": []
  },
  {
   "cell_type": "code",
   "execution_count": 138,
   "id": "61a173a8",
   "metadata": {},
   "outputs": [],
   "source": [
    "#scrap a) Quote\n",
    "start=0\n",
    "end=5\n",
    "for page in range (start, end) :\n",
    "    SQ=driver.find_elements(By.XPATH,'//a[@class=\"title\"]') # scrap a) Quote\n",
    "    for a in SQ:\n",
    "        Quote.append(a.text)\n",
    "    SA=driver.find_elements(By.XPATH,'//div[@class=\"author\"]') #scrap b) Author \n",
    "    for b in SA:\n",
    "        Author.append(b.text)\n",
    "    ST = driver.find_elements(By.XPATH,'//div[@class=\"tags\"]') #scrap c) Type Of Quote\n",
    "    for c in ST:\n",
    "        Type.append(c.text)\n",
    "    driver.find_element(By.XPATH,'//li[@class=\"next\"]').click() # go to the “Next” Button\n",
    "    time.sleep(10)\n",
    "                \n",
    "                         \n",
    "                            "
   ]
  },
  {
   "cell_type": "code",
   "execution_count": 135,
   "id": "12deba70",
   "metadata": {},
   "outputs": [],
   "source": [
    "driver.find_element(By.XPATH,'//li[@class=\"next\"]').click() # go to the “Next” Button"
   ]
  },
  {
   "cell_type": "code",
   "execution_count": null,
   "id": "ed9fd8fd",
   "metadata": {},
   "outputs": [],
   "source": []
  },
  {
   "cell_type": "code",
   "execution_count": 139,
   "id": "77216bcc",
   "metadata": {},
   "outputs": [
    {
     "data": {
      "text/plain": [
       "(3200, 3200, 3200)"
      ]
     },
     "execution_count": 139,
     "metadata": {},
     "output_type": "execute_result"
    }
   ],
   "source": [
    "len(Quote),len(Author),len(Type)"
   ]
  },
  {
   "cell_type": "code",
   "execution_count": 142,
   "id": "7a260ff7",
   "metadata": {},
   "outputs": [
    {
     "data": {
      "text/html": [
       "<div>\n",
       "<style scoped>\n",
       "    .dataframe tbody tr th:only-of-type {\n",
       "        vertical-align: middle;\n",
       "    }\n",
       "\n",
       "    .dataframe tbody tr th {\n",
       "        vertical-align: top;\n",
       "    }\n",
       "\n",
       "    .dataframe thead th {\n",
       "        text-align: right;\n",
       "    }\n",
       "</style>\n",
       "<table border=\"1\" class=\"dataframe\">\n",
       "  <thead>\n",
       "    <tr style=\"text-align: right;\">\n",
       "      <th></th>\n",
       "      <th>Quote</th>\n",
       "      <th>Author</th>\n",
       "      <th>Type</th>\n",
       "    </tr>\n",
       "  </thead>\n",
       "  <tbody>\n",
       "    <tr>\n",
       "      <th>0</th>\n",
       "      <td>Courage is the price that life exacts for gran...</td>\n",
       "      <td>Amelia Earhart</td>\n",
       "      <td>Inspirational, Life, Success</td>\n",
       "    </tr>\n",
       "    <tr>\n",
       "      <th>1</th>\n",
       "      <td>The worst evils which mankind has ever had to ...</td>\n",
       "      <td>Ludwig von Mises</td>\n",
       "      <td>Peace, War, Government</td>\n",
       "    </tr>\n",
       "    <tr>\n",
       "      <th>2</th>\n",
       "      <td>The moment we begin to fear the opinions of ot...</td>\n",
       "      <td>Elizabeth Cady Stanton</td>\n",
       "      <td>Life, Strength, Courage</td>\n",
       "    </tr>\n",
       "    <tr>\n",
       "      <th>3</th>\n",
       "      <td>Trust yourself, you know more than you think y...</td>\n",
       "      <td>Benjamin Spock</td>\n",
       "      <td>Positive, Family, Trust</td>\n",
       "    </tr>\n",
       "    <tr>\n",
       "      <th>4</th>\n",
       "      <td>High achievement always takes place in the fra...</td>\n",
       "      <td>Charles Kettering</td>\n",
       "      <td>Inspirational, Motivational, Teacher</td>\n",
       "    </tr>\n",
       "    <tr>\n",
       "      <th>...</th>\n",
       "      <td>...</td>\n",
       "      <td>...</td>\n",
       "      <td>...</td>\n",
       "    </tr>\n",
       "    <tr>\n",
       "      <th>95</th>\n",
       "      <td>Regret for the things we did can be tempered b...</td>\n",
       "      <td>Sydney J. Harris</td>\n",
       "      <td>Love, Inspirational, Motivational</td>\n",
       "    </tr>\n",
       "    <tr>\n",
       "      <th>96</th>\n",
       "      <td>America... just a nation of two hundred millio...</td>\n",
       "      <td>Hunter S. Thompson</td>\n",
       "      <td>Gun, Two, Qualms About</td>\n",
       "    </tr>\n",
       "    <tr>\n",
       "      <th>97</th>\n",
       "      <td>For every disciplined effort there is a multip...</td>\n",
       "      <td>Jim Rohn</td>\n",
       "      <td>Inspirational, Greatness, Best Effort</td>\n",
       "    </tr>\n",
       "    <tr>\n",
       "      <th>98</th>\n",
       "      <td>The spiritual journey is individual, highly pe...</td>\n",
       "      <td>Ram Dass</td>\n",
       "      <td>Spiritual, Truth, Yoga</td>\n",
       "    </tr>\n",
       "    <tr>\n",
       "      <th>99</th>\n",
       "      <td>No matter how plain a woman may be, if truth a...</td>\n",
       "      <td>Eleanor Roosevelt</td>\n",
       "      <td>Beauty, Beautiful, Truth</td>\n",
       "    </tr>\n",
       "  </tbody>\n",
       "</table>\n",
       "<p>100 rows × 3 columns</p>\n",
       "</div>"
      ],
      "text/plain": [
       "                                                Quote                  Author  \\\n",
       "0   Courage is the price that life exacts for gran...          Amelia Earhart   \n",
       "1   The worst evils which mankind has ever had to ...        Ludwig von Mises   \n",
       "2   The moment we begin to fear the opinions of ot...  Elizabeth Cady Stanton   \n",
       "3   Trust yourself, you know more than you think y...          Benjamin Spock   \n",
       "4   High achievement always takes place in the fra...       Charles Kettering   \n",
       "..                                                ...                     ...   \n",
       "95  Regret for the things we did can be tempered b...        Sydney J. Harris   \n",
       "96  America... just a nation of two hundred millio...      Hunter S. Thompson   \n",
       "97  For every disciplined effort there is a multip...                Jim Rohn   \n",
       "98  The spiritual journey is individual, highly pe...                Ram Dass   \n",
       "99  No matter how plain a woman may be, if truth a...       Eleanor Roosevelt   \n",
       "\n",
       "                                     Type  \n",
       "0            Inspirational, Life, Success  \n",
       "1                  Peace, War, Government  \n",
       "2                 Life, Strength, Courage  \n",
       "3                 Positive, Family, Trust  \n",
       "4    Inspirational, Motivational, Teacher  \n",
       "..                                    ...  \n",
       "95      Love, Inspirational, Motivational  \n",
       "96                 Gun, Two, Qualms About  \n",
       "97  Inspirational, Greatness, Best Effort  \n",
       "98                 Spiritual, Truth, Yoga  \n",
       "99               Beauty, Beautiful, Truth  \n",
       "\n",
       "[100 rows x 3 columns]"
      ]
     },
     "execution_count": 142,
     "metadata": {},
     "output_type": "execute_result"
    }
   ],
   "source": [
    "df = pd.DataFrame() # empty df\n",
    "df['Quote'] = Quote\n",
    "df['Author']= Author\n",
    "df['Type'] = Type\n",
    "\n",
    "df.head(100)"
   ]
  },
  {
   "cell_type": "code",
   "execution_count": null,
   "id": "febbc5a3",
   "metadata": {},
   "outputs": [],
   "source": []
  }
 ],
 "metadata": {
  "kernelspec": {
   "display_name": "Python 3 (ipykernel)",
   "language": "python",
   "name": "python3"
  },
  "language_info": {
   "codemirror_mode": {
    "name": "ipython",
    "version": 3
   },
   "file_extension": ".py",
   "mimetype": "text/x-python",
   "name": "python",
   "nbconvert_exporter": "python",
   "pygments_lexer": "ipython3",
   "version": "3.9.12"
  }
 },
 "nbformat": 4,
 "nbformat_minor": 5
}
