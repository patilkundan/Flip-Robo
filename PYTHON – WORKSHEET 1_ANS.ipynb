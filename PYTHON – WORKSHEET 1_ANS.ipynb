{
 "cells": [
  {
   "attachments": {
    "image-2.png": {
     "image/png": "[encoded data removed]"
    }
   },
   "cell_type": "markdown",
   "id": "a3eefbab",
   "metadata": {},
   "source": [
    "![image-2.png](attachment:image-2.png) <font face = \"Verdana\" size = \"4\"> <b> PYTHON – WORKSHEET 1 "
   ]
  },
  {
   "cell_type": "markdown",
   "id": "18129a56",
   "metadata": {},
   "source": [
    "<font face = \"Verdana\" size = \"4\"><b>Q1 to Q8 have only one correct answer. Choose the correct option to answer your question."
   ]
  },
  {
   "cell_type": "markdown",
   "id": "f85e66a2",
   "metadata": {},
   "source": [
    "<font face = \"Verdana\" size = \"3\"> 1.) Which of the following operators is used to calculate remainder in a division?<br>\n",
    "    C) %"
   ]
  },
  {
   "cell_type": "markdown",
   "id": "2bd9f73f",
   "metadata": {},
   "source": [
    "<font face = \"Verdana\" size = \"3\">2. In python 2//3 is equal to?<br>\n",
    "    B) 0"
   ]
  },
  {
   "cell_type": "markdown",
   "id": "9dd81286",
   "metadata": {},
   "source": [
    "<font face = \"Verdana\" size = \"3\">3.In python, 6<<2 is equal to?<br>\n",
    "C) 24"
   ]
  },
  {
   "cell_type": "markdown",
   "id": "539c8064",
   "metadata": {},
   "source": [
    "<font face = \"Verdana\" size = \"3\">4. In python, 6&2 will give which of the following as output?<br>\n",
    "    A) 2"
   ]
  },
  {
   "cell_type": "markdown",
   "id": "948f78d0",
   "metadata": {},
   "source": [
    "<font face = \"Verdana\" size = \"3\">5. In python, 6|2 will give which of the following as output?<br>\n",
    "    D) 6"
   ]
  },
  {
   "cell_type": "markdown",
   "id": "6c220596",
   "metadata": {},
   "source": [
    "<font face = \"Verdana\" size = \"3\">6. What does the finally keyword denotes in python?<br>\n",
    "C) the finally block will be executed no matter if the try block raises an error or not."
   ]
  },
  {
   "cell_type": "markdown",
   "id": "02e1c655",
   "metadata": {},
   "source": [
    "<font face = \"Verdana\" size = \"3\">7. What does raise keyword is used for in python?<br>\n",
    "A) It is used to raise an exception."
   ]
  },
  {
   "cell_type": "markdown",
   "id": "aafd8075",
   "metadata": {},
   "source": [
    "<font face = \"Verdana\" size = \"3\">8. Which of the following is a common use case of yield keyword in python?<br>\n",
    "C) in defining a generator"
   ]
  },
  {
   "cell_type": "markdown",
   "id": "e2789870",
   "metadata": {},
   "source": [
    "<font face = \"Verdana\" size = \"4\"><b>Q9 and Q10 have multiple correct answers. Choose all the correct options to answer your question.<br>"
   ]
  },
  {
   "cell_type": "markdown",
   "id": "c6f92624",
   "metadata": {},
   "source": [
    "<font face = \"Verdana\" size = \"3\">9. Which of the following are the valid variable names?<br>\n",
    "A) _abc<br>\n",
    "C) abc2"
   ]
  },
  {
   "cell_type": "markdown",
   "id": "4282cdac",
   "metadata": {},
   "source": [
    "<font face = \"Verdana\" size = \"3\">10. Which of the following are the keywords in python?<br>\n",
    "A) yield <br>B) raise"
   ]
  },
  {
   "cell_type": "markdown",
   "id": "2cec5ab5",
   "metadata": {},
   "source": [
    "<font face = \"Verdana\" size = \"4\"><b>Q11 to Q15 are programming questions. Answer them in Jupyter Notebook.<br>"
   ]
  },
  {
   "cell_type": "markdown",
   "id": "44698c0d",
   "metadata": {},
   "source": [
    "<font face = \"Verdana\" size = \"3\">11. Write a python program to find the factorial of a number.<br>"
   ]
  },
  {
   "cell_type": "code",
   "execution_count": 12,
   "id": "2edfc1fa",
   "metadata": {},
   "outputs": [
    {
     "name": "stdout",
     "output_type": "stream",
     "text": [
      "Enter a number: 2\n",
      "The factorial of the number is 2\n"
     ]
    }
   ],
   "source": [
    "a = int(input(\"Enter a number: \")) \n",
    "f = 1 \n",
    "for i in range(1,a+1): \n",
    "    f = f * i \n",
    "print(f'The factorial of the number is {f}') "
   ]
  },
  {
   "cell_type": "markdown",
   "id": "b219cd9f",
   "metadata": {},
   "source": [
    "<font face = \"Verdana\" size = \"3\">12. Write a python program to find whether a number is prime or composite.<br>"
   ]
  },
  {
   "cell_type": "code",
   "execution_count": 6,
   "id": "5682235a",
   "metadata": {},
   "outputs": [
    {
     "name": "stdout",
     "output_type": "stream",
     "text": [
      "Enter any number : 2\n",
      "2 is a PRIME number\n"
     ]
    }
   ],
   "source": [
    "num = int(input(\"Enter any number : \"))\n",
    "if num > 1:\n",
    "    for i in range(2, num):\n",
    "        if (num % i) == 0:\n",
    "            print(num, \"is NOT a prime number\")\n",
    "            break\n",
    "    else:\n",
    "        print(num, \"is a PRIME number\")\n",
    "elif num == 0 or 1:\n",
    "    print(num, \"is a neither prime NOR composite number\")\n",
    "else:\n",
    "    print(num, \"is NOT a prime number it is a COMPOSITE number\")"
   ]
  },
  {
   "cell_type": "markdown",
   "id": "46404761",
   "metadata": {},
   "source": [
    "<font face = \"Verdana\" size = \"3\">13. Write a python program to check whether a given string is palindrome or not."
   ]
  },
  {
   "cell_type": "code",
   "execution_count": 13,
   "id": "6068d2dd",
   "metadata": {},
   "outputs": [
    {
     "name": "stdout",
     "output_type": "stream",
     "text": [
      "Yes\n"
     ]
    }
   ],
   "source": [
    "def isPalindrome(s):\n",
    "    return s == s[::-1]\n",
    " \n",
    " # Driver code\n",
    "s = \"ABA\"\n",
    "ans = isPalindrome(s)\n",
    " \n",
    "if ans:\n",
    "    print(\"Yes\")\n",
    "else:\n",
    "    print(\"No\")"
   ]
  },
  {
   "cell_type": "markdown",
   "id": "2e6c909f",
   "metadata": {},
   "source": [
    "<font face = \"Verdana\" size = \"3\">14. Write a Python program to get the third side of right-angled triangle from two given sides.<br>"
   ]
  },
  {
   "cell_type": "code",
   "execution_count": 20,
   "id": "8dddaa2e",
   "metadata": {},
   "outputs": [
    {
     "name": "stdout",
     "output_type": "stream",
     "text": [
      "Yes\n"
     ]
    }
   ],
   "source": [
    "def isPalindrome(s):\n",
    "    return s == s[::-1]\n",
    " \n",
    " #Driver code\n",
    "s = \"malayalam\"\n",
    "ans = isPalindrome(s)\n",
    " \n",
    "if ans:\n",
    "    print(\"Yes\")\n",
    "else:\n",
    "    print(\"No\")"
   ]
  },
  {
   "cell_type": "markdown",
   "id": "066e2af0",
   "metadata": {},
   "source": [
    "<font face = \"Verdana\" size = \"3\">14. Write a Python program to get the third side of right-angled triangle from two given sides.<br>"
   ]
  },
  {
   "cell_type": "code",
   "execution_count": 21,
   "id": "247aa58e",
   "metadata": {},
   "outputs": [
    {
     "name": "stdout",
     "output_type": "stream",
     "text": [
      "Give side a: 2\n",
      "Give side b: 2\n",
      "The length of the hypotenuse c is 2.8284271247461903\n"
     ]
    }
   ],
   "source": [
    "import math\n",
    "a = float(input(\"Give side a: \"))\n",
    "b = float(input(\"Give side b: \"))\n",
    "c = math.sqrt(a ** 2 + b ** 2)\n",
    "print(f\"The length of the hypotenuse c is {c}\")"
   ]
  },
  {
   "cell_type": "markdown",
   "id": "1f0fc4cb",
   "metadata": {},
   "source": [
    "<font face = \"Verdana\" size = \"3\">15. Write a python program to print the frequency of each of the characters present in a given string.<br>"
   ]
  },
  {
   "cell_type": "code",
   "execution_count": 9,
   "id": "64ef4829",
   "metadata": {},
   "outputs": [
    {
     "name": "stdout",
     "output_type": "stream",
     "text": [
      "D: 2, A: 3, T: 2, A: 3,  : 1, T: 2, R: 1, A: 3, I: 1, N: 1, E: 1, D: 2, "
     ]
    }
   ],
   "source": [
    "string = \"DATA TRAINED\"\n",
    "\n",
    "for i in string:\n",
    "    frequency = string.count(i)\n",
    "    print(str(i) + \": \" + str(frequency), end=\", \")"
   ]
  },
  {
   "cell_type": "code",
   "execution_count": 8,
   "id": "ae39e2fb",
   "metadata": {},
   "outputs": [],
   "source": []
  },
  {
   "cell_type": "code",
   "execution_count": null,
   "id": "ae738869",
   "metadata": {},
   "outputs": [],
   "source": []
  }
 ],
 "metadata": {
  "kernelspec": {
   "display_name": "Python 3 (ipykernel)",
   "language": "python",
   "name": "python3"
  },
  "language_info": {
   "codemirror_mode": {
    "name": "ipython",
    "version": 3
   },
   "file_extension": ".py",
   "mimetype": "text/x-python",
   "name": "python",
   "nbconvert_exporter": "python",
   "pygments_lexer": "ipython3",
   "version": "3.9.12"
  }
 },
 "nbformat": 4,
 "nbformat_minor": 5
}
